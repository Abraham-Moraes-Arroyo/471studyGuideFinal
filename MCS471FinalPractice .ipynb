{
 "cells": [
  {
   "cell_type": "markdown",
   "id": "0cefdd92",
   "metadata": {},
   "source": [
    "# Midterm 1 \n",
    "\n",
    "# Machine Precision\n"
   ]
  },
  {
   "cell_type": "code",
   "execution_count": null,
   "id": "e92f855a",
   "metadata": {},
   "outputs": [],
   "source": []
  },
  {
   "cell_type": "markdown",
   "id": "6f63f5c2",
   "metadata": {},
   "source": [
    "Consider a floating-point system with five places in the fraction\n",
    "and base 10, with exponents ranging between $-14$ and $+14$.\n",
    "\n",
    "1. What is the machine precision in this number system?\n",
    "\n",
    "\n",
    "2. Compute $757.66 - 8.4478$ in this number system.\n",
    "    \n",
    "   Show all steps in your calculation."
   ]
  },
  {
   "cell_type": "markdown",
   "id": "609b3dd8",
   "metadata": {},
   "source": [
    "# Machine Precision "
   ]
  },
  {
   "cell_type": "markdown",
   "id": "81f5e944",
   "metadata": {},
   "source": [
    "1. The machine precision is $10^{-5}$."
   ]
  },
  {
   "cell_type": "markdown",
   "id": "62a6fe03",
   "metadata": {},
   "source": [
    "2. We proceed first by representing the numbers.\n",
    "\n",
    "   1. $757.66 = +.75766 \\times 10^{+3}$ and $8.4478 = +.84478 \\times 10^{+1}$\n",
    "   \n",
    "   2. Before the subtraction, we denormalize the smallest number.\n",
    "   \n",
    "      $$\n",
    "          \\begin{array}{cc}\n",
    "              & +.75766 \\times 10^{+3} \\\\\n",
    "            - & +.0084478 \\times 10^{+3} \\\\ \\hline\n",
    "              & +.7492122 \\times 10^{+3}\n",
    "          \\end{array}\n",
    "      $$\n",
    "      \n",
    "   3. The final result is rounded: $+.7492122 \\times 10^{+3} = +.74921 \\times 10^{+3} = 749.21$."
   ]
  },
  {
   "cell_type": "markdown",
   "id": "6a65b391",
   "metadata": {},
   "source": [
    "### Another question "
   ]
  },
  {
   "cell_type": "markdown",
   "id": "ed2dfbc4",
   "metadata": {},
   "source": [
    "Consider a floating-point system with five places in the fraction\n",
    "and base 10, with exponents ranging between $-15$ and $+15$.\n",
    "\n",
    "\n",
    "1. What is the machine precision in this number system?\n",
    "\n",
    "\n",
    "2. Compute $30.836 + 245.21$ in this number system.\n",
    "    \n",
    "   Show all steps in your calculation."
   ]
  },
  {
   "cell_type": "markdown",
   "id": "80ab4908",
   "metadata": {},
   "source": [
    "# Machine Precision "
   ]
  },
  {
   "cell_type": "markdown",
   "id": "1195e1d9",
   "metadata": {},
   "source": [
    "1. The machine precision is $10^{-5}$."
   ]
  },
  {
   "cell_type": "markdown",
   "id": "2ef03e4d",
   "metadata": {},
   "source": [
    "2. The first step is to represent the numbers: $x = +.30836 \\times 10^{+2}$ and $y = +.24521 \\times 10^{3}$.\n",
    "\n",
    "Next, the smallest number is denormalized, $x = +.030836 \\times 10^{+3}$.\n",
    "\n",
    "Then we make the sum: $.030836 + .24521$.  Let us do this over the integers..."
   ]
  },
  {
   "cell_type": "code",
   "execution_count": 1,
   "id": "ce416831",
   "metadata": {},
   "outputs": [
    {
     "data": {
      "text/plain": [
       "276046"
      ]
     },
     "execution_count": 1,
     "metadata": {},
     "output_type": "execute_result"
    }
   ],
   "source": [
    "30836 + 245210 "
   ]
  },
  {
   "cell_type": "markdown",
   "id": "317ce6dc",
   "metadata": {},
   "source": [
    "So the sum is $+.276046 \\times 10^{+3}$. \n",
    "\n",
    "Finally, we round into $+.27605 \\times 10^{+3} = 276.05$."
   ]
  },
  {
   "cell_type": "markdown",
   "id": "8e3e5f98",
   "metadata": {},
   "source": [
    "### Another Question"
   ]
  },
  {
   "cell_type": "markdown",
   "id": "aac602c5",
   "metadata": {},
   "source": [
    "Consider a floating-point system with four places in the fraction\n",
    "and base 10, with exponents ranging between $-8$ and $+8$.\n",
    "\n",
    "1. What is the smallest normalized number in this system?\n",
    "\n",
    "\n",
    "2. Compute $207.07 - 1.0254$ in this number system.\n",
    "\n",
    "   Show all steps in your calculation."
   ]
  },
  {
   "cell_type": "markdown",
   "id": "66e2a84d",
   "metadata": {},
   "source": [
    "# Answer to Question "
   ]
  },
  {
   "cell_type": "markdown",
   "id": "bcc01307",
   "metadata": {},
   "source": [
    "1. The smallest normalized number is $+.1000 \\times 10^{-8} = 10^{-9}$."
   ]
  },
  {
   "cell_type": "markdown",
   "id": "635ac48e",
   "metadata": {},
   "source": [
    "2. The first step is to represent the numbers in the number system\n",
    "   $x = +.2071 \\times 10^{3}$ and $y = +.1025 \\times 10^{+1}$.\n",
    "\n",
    "The second step is to denormalize the smallest number, which is $y$ into $+.00125 \\times 10^{+3}$.\n",
    "\n",
    "Then we can compute the difference: $+.2071 - +.001025 = +.206075$.\n",
    "\n",
    "Finally, we represent the sum into the number system: $+.206075 \\times 10^{+3} = 206.1$."
   ]
  },
  {
   "cell_type": "markdown",
   "id": "f4eafe15",
   "metadata": {},
   "source": [
    "# Question 2"
   ]
  },
  {
   "cell_type": "markdown",
   "id": "b0c631b1",
   "metadata": {},
   "source": [
    "Suppose we want to approximate a root of $p = x^3 - x - 1$.\n",
    "\n",
    "1. What are the conditions for Newton's method to apply to this problem?\n",
    "\n",
    "   What could go wrong?\n",
    "\n",
    "    \n",
    "2. Starting at 1.3, how many steps of Newton's method are needed to\n",
    "   obtain eight correct decimal places of a root of $p$? \n",
    "\n",
    "   Justify your answer."
   ]
  },
  {
   "cell_type": "markdown",
   "id": "c8918f2a",
   "metadata": {},
   "source": [
    "# Answer to Question 2"
   ]
  },
  {
   "cell_type": "markdown",
   "id": "b32e3357",
   "metadata": {},
   "source": [
    "1. The convergence of Newton's method is local, so we need a first approximation that is sufficiently close to a root.\n",
    "\n",
    "In each update we divide by the derivative, so the method will go wrong if the derivative is zero."
   ]
  },
  {
   "cell_type": "markdown",
   "id": "d0af0a7d",
   "metadata": {},
   "source": [
    "2. To estimate the number of steps, let us first compute the backward error of the value 1.3."
   ]
  },
  {
   "cell_type": "code",
   "execution_count": 2,
   "id": "1a3b32ed",
   "metadata": {},
   "outputs": [
    {
     "data": {
      "text/plain": [
       "-0.10299999999999954"
      ]
     },
     "execution_count": 2,
     "metadata": {},
     "output_type": "execute_result"
    }
   ],
   "source": [
    "p(x) = x^3 - x - 1\n",
    "p(1.3)"
   ]
  },
  {
   "cell_type": "markdown",
   "id": "a59e7a01",
   "metadata": {},
   "source": [
    "Assuming a good condition number, the backward error equals the forward error, which is thus 0.1.\n",
    "\n",
    "In each step, Newton's method doubles the number of correct decimal places, or the error in the next step is the square of the current error.\n",
    "\n",
    "The number of steps $N$ satifies $0.1^{2N} = 10^{-8}$.  Taking logarithms:\n",
    "\n",
    "$$\n",
    "    \\log(0.1) 2N = \\log(10^{-8})\n",
    "$$\n",
    "\n",
    "So now we can estimate $N$ as follows:"
   ]
  },
  {
   "cell_type": "code",
   "execution_count": 3,
   "id": "eef44120",
   "metadata": {},
   "outputs": [
    {
     "data": {
      "text/plain": [
       "4.000000000000001"
      ]
     },
     "execution_count": 3,
     "metadata": {},
     "output_type": "execute_result"
    }
   ],
   "source": [
    "log(10^(-8))/(2*log(0.1))"
   ]
  },
  {
   "cell_type": "markdown",
   "id": "02e34367",
   "metadata": {},
   "source": [
    "After four steps with Newton's method, we obtain 8 correct decimal places of the root, starting at 1.3."
   ]
  },
  {
   "cell_type": "markdown",
   "id": "5fc6c91b",
   "metadata": {},
   "source": [
    "An alternative correct answer would be to run Newton's method."
   ]
  },
  {
   "cell_type": "markdown",
   "id": "89e4052a",
   "metadata": {},
   "source": [
    "# Question 2\n",
    "\n",
    "Suppose we want to approximate a root of $p = x^3 - x - 1$.\n",
    "\n",
    "1. What are the conditions for Newton's method to apply to this problem?\n",
    "\n",
    "   What could go wrong?\n",
    "\n",
    "    \n",
    "2. Starting at 1.3, how many steps of Newton's method are needed to\n",
    "   obtain eight correct decimal places of a root of $p$? \n",
    "\n",
    "   Justify your answer.\n",
    "\n",
    "# Answer to Question 2\n",
    "\n",
    "1. The convergence of Newton's method is local, so we need a first approximation that is sufficiently close to a root.\n",
    "\n",
    "In each update we divide by the derivative, so the method will go wrong if the derivative is zero.\n",
    "\n",
    "2. To estimate the number of steps, let us first compute the backward error of the value 1.3.\n",
    "\n",
    "p(x) = x^3 - x - 1\n",
    "p(1.3)\n",
    "\n",
    "Assuming a good condition number, the backward error equals the forward error, which is thus 0.1.\n",
    "\n",
    "In each step, Newton's method doubles the number of correct decimal places, or the error in the next step is the square of the current error.\n",
    "\n",
    "The number of steps $N$ satifies $0.1^{2N} = 10^{-8}$.  Taking logarithms:\n",
    "\n",
    "$$\n",
    "    \\log(0.1) 2N = \\log(10^{-8})\n",
    "$$\n",
    "\n",
    "So now we can estimate $N$ as follows:\n",
    "\n",
    "log(10^(-8))/(2*log(0.1))\n",
    "\n",
    "After four steps with Newton's method, we obtain 8 correct decimal places of the root, starting at 1.3.\n",
    "\n",
    "An alternative correct answer would be to run Newton's method."
   ]
  },
  {
   "cell_type": "markdown",
   "id": "fd2582c6",
   "metadata": {},
   "source": [
    "# Question 3"
   ]
  },
  {
   "cell_type": "markdown",
   "id": "c9f3ab40",
   "metadata": {},
   "source": [
    "Consider the linear system $A {\\bf x} = {\\bf b}$, $A \\in {\\mathbb R}^{n \\times n}$\n",
    "and ${\\bf b} \\in {\\mathbb R}^n$.\n",
    "\n",
    "Suppose the condition number of $A$ is $10^{53}$.\n",
    "\n",
    "Let $\\overline{\\bf x}$ be a numerically computed solution,\n",
    "computed with a precision equal to 80 decimal places.\n",
    "\n",
    "How many decimal places in $\\overline{\\bf x}$ are correct? Justify your answer."
   ]
  },
  {
   "cell_type": "markdown",
   "id": "a2a784c5",
   "metadata": {},
   "source": [
    "# Answer to Question 3"
   ]
  },
  {
   "cell_type": "markdown",
   "id": "0b1973fb",
   "metadata": {},
   "source": [
    "The number of correct decimal places equals  80−53=27 ."
   ]
  },
  {
   "cell_type": "markdown",
   "id": "6babd431",
   "metadata": {},
   "source": [
    "As justification, consider the following inequality:\n",
    "\n",
    "$$\n",
    "    \\frac{\\|{\\bf x} - \\overline{\\bf x}\\|}{\\|{\\bf x}\\|}\n",
    "    \\leq\n",
    "    \\mbox{cond}(A)\n",
    "    \\frac{\\|A - \\overline{A}\\|}{\\|A\\|}\n",
    "$$\n",
    "\n",
    "where $\\overline{A}$ is the representation of $A$ with 80 decimal places accuracy, or with error $10^{-80}$ which is magnified by the condition number $\\mbox{cond}(A) = 10^{53}$, so we obtain as the bound $10^{-80} \\times 10^{53} = 10^{-27}$ on the relative error on the computed solution $\\overline{\\bf x}$."
   ]
  },
  {
   "cell_type": "markdown",
   "id": "f1eb40be",
   "metadata": {},
   "source": [
    "# Question 3\n",
    "\n",
    "Consider the linear system $A {\\bf x} = {\\bf b}$, $A \\in {\\mathbb R}^{n \\times n}$\n",
    "and ${\\bf b} \\in {\\mathbb R}^n$.\n",
    "\n",
    "Suppose the condition number of $A$ is $10^{53}$.\n",
    "\n",
    "Let $\\overline{\\bf x}$ be a numerically computed solution,\n",
    "computed with a precision equal to 80 decimal places.\n",
    "\n",
    "How many decimal places in $\\overline{\\bf x}$ are correct? Justify your answer.\n",
    "\n",
    "# Answer to Question 3\n",
    "\n",
    "The number of correct decimal places equals  80−53=27 .\n",
    "\n",
    "As justification, consider the following inequality:\n",
    "\n",
    "$$\n",
    "    \\frac{\\|{\\bf x} - \\overline{\\bf x}\\|}{\\|{\\bf x}\\|}\n",
    "    \\leq\n",
    "    \\mbox{cond}(A)\n",
    "    \\frac{\\|A - \\overline{A}\\|}{\\|A\\|}\n",
    "$$\n",
    "\n",
    "where $\\overline{A}$ is the representation of $A$ with 80 decimal places accuracy, or with error $10^{-80}$ which is magnified by the condition number $\\mbox{cond}(A) = 10^{53}$, so we obtain as the bound $10^{-80} \\times 10^{53} = 10^{-27}$ on the relative error on the computed solution $\\overline{\\bf x}$."
   ]
  },
  {
   "cell_type": "markdown",
   "id": "6e2133d1",
   "metadata": {},
   "source": [
    "# Question 4"
   ]
  },
  {
   "cell_type": "markdown",
   "id": "5909297d",
   "metadata": {},
   "source": [
    "Consider the construction of the quadratic interpolating polynomial $p$\n",
    "for $\\exp(x)$ over $[-2,+2]$ using Chebyshev interpolation points.\n",
    "\n",
    "1. Give the definition of the interpolation points over $[-2,+2]$.\n",
    "\n",
    "    \n",
    "2. Using $n$ interpolating points, suppose we want that the error \n",
    "   between $\\exp(x)$ and the interpolating polynomial be less than 0.01 over $[-2,+2]$.\n",
    "\n",
    "   How large should $n$ be to satisfy this requirement?  Justify your answer."
   ]
  },
  {
   "cell_type": "markdown",
   "id": "eb849092",
   "metadata": {},
   "source": [
    "# Answer to Question 4"
   ]
  },
  {
   "cell_type": "markdown",
   "id": "47cf767e",
   "metadata": {},
   "source": [
    "1. The Chebyshev interpolation points are $x_i = \\cos \\left( \\frac{(2 i - 1) \\pi}{2n} \\right)$, for $i$ from 1 to $n$, defined over the interval $[-1,+1]$."
   ]
  },
  {
   "cell_type": "markdown",
   "id": "eb4919b9",
   "metadata": {},
   "source": [
    "On the interval $[-2,+2]$, the Chebyshev interpolation points are\n",
    "\n",
    "$$\n",
    "   t_i =\n",
    "   2 \\cos \\left( \\frac{(2 i - 1) \\pi}{2n} \\right),\n",
    "   ~~ i = 1,2,\\ldots,n.\n",
    "$$\n",
    "\n",
    "We multiplied the $x_i$ by 2, stretching $[-1,+1]$ to $[-2,+2]$."
   ]
  },
  {
   "cell_type": "markdown",
   "id": "54acee76",
   "metadata": {},
   "source": [
    "2. We apply the formula for the interpolation error:\n",
    "\n",
    "$$\n",
    "   E(x) = \\frac{f^{(n+1)}(\\alpha)}{(n+1)!}\n",
    "   (x - t_0) (x - t_1) \\cdots (x - t_n),\n",
    "   ~~ \\alpha \\in [-2,+2], ~~ f(x) = \\exp(x).\n",
    "$$"
   ]
  },
  {
   "cell_type": "markdown",
   "id": "5b03c774",
   "metadata": {},
   "source": [
    "We have $\\displaystyle |E(x)| = \\frac{2^n}{(n+1)!}$ and need to find $n$ so that $|E(x)| < 0.01$."
   ]
  },
  {
   "cell_type": "markdown",
   "id": "9c7c7eb5",
   "metadata": {},
   "source": [
    "To do this experimentally, we define a function."
   ]
  },
  {
   "cell_type": "code",
   "execution_count": 3,
   "id": "0827e576",
   "metadata": {},
   "outputs": [
    {
     "data": {
      "text/plain": [
       "f (generic function with 1 method)"
      ]
     },
     "execution_count": 3,
     "metadata": {},
     "output_type": "execute_result"
    }
   ],
   "source": [
    "f(n) = Float64(2^n/factorial(n))"
   ]
  },
  {
   "cell_type": "code",
   "execution_count": 4,
   "id": "3cc11373",
   "metadata": {},
   "outputs": [
    {
     "data": {
      "text/plain": [
       "10-element Vector{Float64}:\n",
       " 2.0\n",
       " 2.0\n",
       " 1.3333333333333333\n",
       " 0.6666666666666666\n",
       " 0.26666666666666666\n",
       " 0.08888888888888889\n",
       " 0.025396825396825397\n",
       " 0.006349206349206349\n",
       " 0.0014109347442680777\n",
       " 0.0002821869488536155"
      ]
     },
     "execution_count": 4,
     "metadata": {},
     "output_type": "execute_result"
    }
   ],
   "source": [
    "[f(k) for k=1:10]"
   ]
  },
  {
   "cell_type": "code",
   "execution_count": 5,
   "id": "4c58dd1b",
   "metadata": {},
   "outputs": [
    {
     "data": {
      "text/plain": [
       "0.006349206349206349"
      ]
     },
     "execution_count": 5,
     "metadata": {},
     "output_type": "execute_result"
    }
   ],
   "source": [
    "f(8)"
   ]
  },
  {
   "cell_type": "markdown",
   "id": "887267bf",
   "metadata": {},
   "source": [
    "Already for 8 interpolation points, the error of 0.01 can be obtained."
   ]
  },
  {
   "cell_type": "markdown",
   "id": "2e2b183d",
   "metadata": {},
   "source": [
    "# Question 5"
   ]
  },
  {
   "cell_type": "markdown",
   "id": "dbc274c6",
   "metadata": {},
   "source": [
    "Fit the data points\n",
    "      $(-2, 7.11)$, $(-1, 1.69)$, $(1, 0.845)$, $(2, 0.333)$\n",
    "      by a quadratic polynomial $q$ in the least squares sense.\n",
    "\n",
    "Do the following:\n",
    "\n",
    "1. Setup the linear system that must be solved to compute the coefficients of $q$.\n",
    "\n",
    "2. Illustrate how the singular value decomposition applies to solve the system.\n",
    "\n",
    "3. Explain the verification of the least squares property of the computed solution."
   ]
  },
  {
   "cell_type": "markdown",
   "id": "d3fa99ed",
   "metadata": {},
   "source": [
    "# Answer to Question 5"
   ]
  },
  {
   "cell_type": "markdown",
   "id": "b7aec319",
   "metadata": {},
   "source": [
    "1. The right hand side of the linear system are the second coordinates of the data points."
   ]
  },
  {
   "cell_type": "code",
   "execution_count": 6,
   "id": "c3e2193c",
   "metadata": {},
   "outputs": [
    {
     "data": {
      "text/plain": [
       "4-element Vector{Float64}:\n",
       " 7.11\n",
       " 1.69\n",
       " 0.845\n",
       " 0.333"
      ]
     },
     "execution_count": 6,
     "metadata": {},
     "output_type": "execute_result"
    }
   ],
   "source": [
    "F = [7.11, 1.69, 0.845, 0.333]"
   ]
  },
  {
   "cell_type": "markdown",
   "id": "30326bf9",
   "metadata": {},
   "source": [
    "The coefficient matrix is a 4-by-3 Vandermonde matrix."
   ]
  },
  {
   "cell_type": "code",
   "execution_count": 7,
   "id": "37a4381c",
   "metadata": {},
   "outputs": [
    {
     "data": {
      "text/plain": [
       "4×3 Matrix{Float64}:\n",
       " 1.0  -2.0  4.0\n",
       " 1.0  -1.0  1.0\n",
       " 1.0   1.0  1.0\n",
       " 1.0   2.0  4.0"
      ]
     },
     "execution_count": 7,
     "metadata": {},
     "output_type": "execute_result"
    }
   ],
   "source": [
    "X = [-2.0, -1.0, 1.0, 2.0]\n",
    "A = zeros(4, 3)\n",
    "A[:,1] = ones(4)\n",
    "A[:,2] = X\n",
    "A[:,3] = X.^2\n",
    "A"
   ]
  },
  {
   "cell_type": "markdown",
   "id": "5fa24c40",
   "metadata": {},
   "source": [
    "2. The singular value decomposition is applied to solve the linear system."
   ]
  },
  {
   "cell_type": "code",
   "execution_count": 8,
   "id": "afd3fdf1",
   "metadata": {},
   "outputs": [
    {
     "data": {
      "text/plain": [
       "SVD{Float64, Float64, Matrix{Float64}, Vector{Float64}}\n",
       "U factor:\n",
       "4×3 Matrix{Float64}:\n",
       " 0.676766   0.632456  -0.204908\n",
       " 0.204908   0.316228   0.676766\n",
       " 0.204908  -0.316228   0.676766\n",
       " 0.676766  -0.632456  -0.204908\n",
       "singular values:\n",
       "3-element Vector{Float64}:\n",
       " 6.085043662729131\n",
       " 3.162277660168379\n",
       " 0.9860241491363451\n",
       "Vt factor:\n",
       "3×3 Matrix{Float64}:\n",
       "  0.289784   0.0   0.957092\n",
       " -0.0       -1.0   0.0\n",
       "  0.957092   0.0  -0.289784"
      ]
     },
     "execution_count": 8,
     "metadata": {},
     "output_type": "execute_result"
    }
   ],
   "source": [
    "using LinearAlgebra\n",
    "(U, S, Vt) = svd(A)"
   ]
  },
  {
   "cell_type": "markdown",
   "id": "21a4892c",
   "metadata": {},
   "source": [
    "The statements below verify the diagonalization of the matrix."
   ]
  },
  {
   "cell_type": "code",
   "execution_count": 9,
   "id": "26c3f9a1",
   "metadata": {},
   "outputs": [
    {
     "data": {
      "text/plain": [
       "4×3 Matrix{Float64}:\n",
       " 1.0  -2.0  4.0\n",
       " 1.0  -1.0  1.0\n",
       " 1.0   1.0  1.0\n",
       " 1.0   2.0  4.0"
      ]
     },
     "execution_count": 9,
     "metadata": {},
     "output_type": "execute_result"
    }
   ],
   "source": [
    "D = Diagonal(S)\n",
    "V = Vt'\n",
    "U*D*V"
   ]
  },
  {
   "cell_type": "markdown",
   "id": "50d16b5c",
   "metadata": {},
   "source": [
    "The system $A x = F$ then becomes $UDVx = F$, which we solve as $y = Vx$, $Dy = transpose(U)F$, $Vx = y$."
   ]
  },
  {
   "cell_type": "code",
   "execution_count": 10,
   "id": "6d0e0612",
   "metadata": {},
   "outputs": [
    {
     "data": {
      "text/plain": [
       "3-element Vector{Float64}:\n",
       " 0.9131592525034943\n",
       " 1.4399000000000002\n",
       " 0.1931694322796934"
      ]
     },
     "execution_count": 10,
     "metadata": {},
     "output_type": "execute_result"
    }
   ],
   "source": [
    "y = D\\(U'*F)"
   ]
  },
  {
   "cell_type": "code",
   "execution_count": 11,
   "id": "225ae23d",
   "metadata": {},
   "outputs": [
    {
     "data": {
      "text/plain": [
       "3-element Vector{Float64}:\n",
       "  0.4495\n",
       " -1.4399000000000002\n",
       "  0.818"
      ]
     },
     "execution_count": 11,
     "metadata": {},
     "output_type": "execute_result"
    }
   ],
   "source": [
    "x = V\\y"
   ]
  },
  {
   "cell_type": "markdown",
   "id": "63673cf2",
   "metadata": {},
   "source": [
    "3. If we solved the system in the least squares sense, then the residual is perpendicular to the column space."
   ]
  },
  {
   "cell_type": "code",
   "execution_count": 12,
   "id": "6912e3e5",
   "metadata": {},
   "outputs": [
    {
     "data": {
      "text/plain": [
       "3.052608629176561e-15"
      ]
     },
     "execution_count": 12,
     "metadata": {},
     "output_type": "execute_result"
    }
   ],
   "source": [
    "r = F - A*x\n",
    "norm(r'*A)"
   ]
  },
  {
   "cell_type": "markdown",
   "id": "9c97221a",
   "metadata": {},
   "source": [
    "We see that the norm is close to the machine precision."
   ]
  },
  {
   "cell_type": "markdown",
   "id": "098a8d20",
   "metadata": {},
   "source": [
    "# Question 6"
   ]
  },
  {
   "cell_type": "markdown",
   "id": "0e4a39bf",
   "metadata": {},
   "source": [
    "Consider the method of Jacobi on linear systems with matrices\n",
    "\n",
    "$$\n",
    "   A = \\left[\n",
    "         \\begin{array}{cccc}\n",
    "            1000 & 1 & 0 & 0 \\\\\n",
    "            1 & 1000 & 1 & 0 \\\\\n",
    "            0 & 1 & 1000 & 1 \\\\\n",
    "            0 & 0 & 1 & 1000 \n",
    "         \\end{array}\n",
    "       \\right] \\quad \\mbox{and} \\quad\n",
    "   B = \\left[\n",
    "         \\begin{array}{cccc}\n",
    "            3 & 1 & 0 & 0 \\\\\n",
    "            1 & 3 & 1 & 0 \\\\\n",
    "            0 & 1 & 3 & 1 \\\\\n",
    "            0 & 0 & 1 & 3\n",
    "         \\end{array}\n",
    "       \\right].\n",
    "$$\n",
    "    \n",
    "The linear systems are $A {\\bf x} = {\\bf b}$ and $B {\\bf x} = {\\bf c}$,\n",
    "where $\\bf x$ is a vector of ones.\n",
    "\n",
    "1. Will the method of Jacobi converge?  Explain your answer.\n",
    "\n",
    "\n",
    "2. Which matrix, $A$ or $B$, is more favorable to this method?\n",
    "\n",
    "   On which linear system will Jacobi converge better?  Justify your answer."
   ]
  },
  {
   "cell_type": "markdown",
   "id": "1e34c2fa",
   "metadata": {},
   "source": [
    "# Answer to Question 6"
   ]
  },
  {
   "cell_type": "markdown",
   "id": "e1dc5b43",
   "metadata": {},
   "source": [
    "1. Both matrices are diagonally dominant, that is: the element on the diagonal is larger than the sum of the sum of the off diagonal elements."
   ]
  },
  {
   "cell_type": "markdown",
   "id": "37962bb4",
   "metadata": {},
   "source": [
    "2. The elements on the diagonal of the matrix $A$ are much larger in magnitude than its off diagonal elements, much larger compared to the ratios of the diagonal elements of $B$ over the off diagonal elements.  So $A$ is stronger diagonally dominant than $B$ and the method of Jacobi is expected to converge faster than on $B$."
   ]
  },
  {
   "cell_type": "markdown",
   "id": "7937420c",
   "metadata": {},
   "source": [
    "An alternative correct answer is to run the method of Jacobi on this example."
   ]
  },
  {
   "cell_type": "markdown",
   "id": "bfb7c058",
   "metadata": {},
   "source": [
    "# Question 2"
   ]
  },
  {
   "cell_type": "markdown",
   "id": "4ad0bb7d",
   "metadata": {},
   "source": [
    "Let $x_{k+1} = 1 + \\cos(\\pi x_k)/10$ define a fixed-point iteration.\n",
    "\n",
    "1. Make a cobweb diagram starting at $x_0 = 0.5$.\n",
    "   \n",
    "   Describe what happens in the first five steps.\n",
    "\n",
    "\n",
    "2. Compute the convergence rate at the fixed point."
   ]
  },
  {
   "cell_type": "markdown",
   "id": "0ba14682",
   "metadata": {},
   "source": [
    "# Answer to Question 2"
   ]
  },
  {
   "cell_type": "code",
   "execution_count": 1,
   "id": "282f725f",
   "metadata": {},
   "outputs": [
    {
     "name": "stderr",
     "output_type": "stream",
     "text": [
      "\n",
      "(process:47072): GLib-GIO-WARNING **: 20:21:34.998: Unexpectedly, UWP app `Clipchamp.Clipchamp_2.5.1.0_neutral__yxz26nhyzhsrt' (AUMId `Clipchamp.Clipchamp_yxz26nhyzhsrt!App') supports 41 extensions but has no verbs\n",
      "\n",
      "(process:47072): GLib-GIO-WARNING **: 20:21:35.014: Unexpectedly, UWP app `Evernote.Evernote_10.46.9.0_x64__q4d96b2w5wcc2' (AUMId `Evernote.Evernote_q4d96b2w5wcc2!Evernote') supports 1 extensions but has no verbs\n"
     ]
    }
   ],
   "source": [
    "using Plots"
   ]
  },
  {
   "cell_type": "code",
   "execution_count": 2,
   "id": "3932ba61",
   "metadata": {},
   "outputs": [],
   "source": [
    "using Printf"
   ]
  },
  {
   "cell_type": "code",
   "execution_count": 3,
   "id": "0aee85d8",
   "metadata": {},
   "outputs": [
    {
     "data": {
      "text/plain": [
       "cobweb"
      ]
     },
     "execution_count": 3,
     "metadata": {},
     "output_type": "execute_result"
    }
   ],
   "source": [
    "\"\"\"\n",
    "Applies the fixed-point iteration to a given function g\n",
    "and makes a cobweb plot.\n",
    "\n",
    "ON ENTRY :\n",
    "  g       a function in one variable\n",
    "  x0      initial guess for the fixed-point iteration\n",
    "  maxit   upper bound on the number of iterations\n",
    "  tol     tolerance on the abs(g(x) - x) where x is\n",
    "          the current approximation for the fixed point\n",
    "  a       left bound for the range of the plot\n",
    "  b       right bound for the range of the plot\n",
    "\n",
    "ON RETURN :\n",
    "  x       the current approximation for the fixed point\n",
    "  numit   the number of iterations done\n",
    "  fail    true if the accuracy requirement was not met,\n",
    "          false otherwise;\n",
    "  plt     a plot of the cobweb diagram.\n",
    "\n",
    "EXAMPLE :\n",
    "  g(x) = 1-x^3\n",
    "  (x, numit, fail, plt) = cobweb(g,0.5,10,1.0e-4,-0.1,1.1)\n",
    "\"\"\"\n",
    "function cobweb(g::Function,x0::Float64,maxit::Int,tol::Float64,\n",
    "                a::Float64,b::Float64)\n",
    "    r = a:0.01:b\n",
    "    plt = plot(g, r, label=\"g\")\n",
    "    ylims!((a, b))\n",
    "    diagonal(x) = x\n",
    "    plot!(diagonal, r, label=\"\")\n",
    "    println(\"running a fixed-point iteration ...\")\n",
    "    strit = @sprintf(\"%3d\", 0)\n",
    "    strx0 = @sprintf(\"%.4e\", x0)\n",
    "    println(\"$strit : $strx0\")\n",
    "    xprevious = x0\n",
    "    xnext = xprevious\n",
    "    for i=1:maxit\n",
    "        xnext = g(xprevious)\n",
    "        if i == 1\n",
    "            plot!([xprevious], [xnext], line=(:sticks, :black), label=\"\")\n",
    "        else\n",
    "            if xprevious < xnext\n",
    "                rng = xprevious:0.01:xnext; xr = [xprevious for i in rng]\n",
    "                plot!(xr, rng, line=(:black), label=\"\")\n",
    "            else\n",
    "                rng = xnext:0.01:xprevious; xr = [xprevious for i in rng]\n",
    "                plot!(xr, rng, line=(:black), label=\"\")\n",
    "            end\n",
    "       end\n",
    "       if xprevious < xnext\n",
    "           rng = xprevious:0.01:xnext; yr = [xnext for i in rng]\n",
    "           plot!(rng, yr, line=(:black), label=\"\")\n",
    "       else\n",
    "           rng = xnext:0.01:xprevious; yr = [xnext for i in rng]\n",
    "           plot!(rng, yr, line=(:black), label=\"\")\n",
    "       end\n",
    "       strit = @sprintf(\"%3d\", i)\n",
    "       strxi = @sprintf(\"%.4e\", xnext)\n",
    "       error = abs(xnext - xprevious)\n",
    "       strerr = @sprintf(\"%.2e\", error)\n",
    "       println(\"$strit : $strxi : $strerr\" )\n",
    "       if error < tol\n",
    "           return (xnext, i, false, plt)\n",
    "       end\n",
    "       xprevious = xnext\n",
    "   end\n",
    "   return (xnext, maxit, true, plt)\n",
    "end"
   ]
  },
  {
   "cell_type": "code",
   "execution_count": 4,
   "id": "cb5be98e",
   "metadata": {},
   "outputs": [
    {
     "data": {
      "text/plain": [
       "g (generic function with 1 method)"
      ]
     },
     "execution_count": 4,
     "metadata": {},
     "output_type": "execute_result"
    }
   ],
   "source": [
    "g(x) = 1 + cos(pi*x)/10"
   ]
  },
  {
   "cell_type": "code",
   "execution_count": 5,
   "id": "9c9b24cc",
   "metadata": {},
   "outputs": [
    {
     "name": "stdout",
     "output_type": "stream",
     "text": [
      "running a fixed-point iteration ...\n",
      "  0 : 5.0000e-01\n",
      "  1 : 1.0000e+00 : 5.00e-01\n",
      "  2 : 9.0000e-01 : 1.00e-01\n",
      "  3 : 9.0489e-01 : 4.89e-03\n",
      "  4 : 9.0443e-01 : 4.64e-04\n",
      "  5 : 9.0447e-01 : 4.30e-05\n",
      "  6 : 9.0447e-01 : 3.99e-06\n",
      "  7 : 9.0447e-01 : 3.71e-07\n",
      "  8 : 9.0447e-01 : 3.45e-08\n",
      "  9 : 9.0447e-01 : 3.20e-09\n"
     ]
    },
    {
     "data": {
      "text/plain": [
       "(0.9044698081176067, 9, false, Plot{Plots.GRBackend() n=20})"
      ]
     },
     "execution_count": 5,
     "metadata": {},
     "output_type": "execute_result"
    }
   ],
   "source": [
    "(x, numit, fail, plt) = cobweb(g,0.5,20,1.0e-8,-0.1,1.1)"
   ]
  },
  {
   "cell_type": "code",
   "execution_count": 6,
   "id": "7786f87c",
   "metadata": {},
   "outputs": [
    {
     "data": {
      "image/svg+xml": [
       "<?xml version=\"1.0\" encoding=\"utf-8\"?>\n",
       "<svg xmlns=\"http://www.w3.org/2000/svg\" xmlns:xlink=\"http://www.w3.org/1999/xlink\" width=\"600\" height=\"400\" viewBox=\"0 0 2400 1600\">\n",
       "<defs>\n",
       "  <clipPath id=\"clip580\">\n",
       "    <rect x=\"0\" y=\"0\" width=\"2400\" height=\"1600\"/>\n",
       "  </clipPath>\n",
       "</defs>\n",
       "<path clip-path=\"url(#clip580)\" d=\"\n",
       "M0 1600 L2400 1600 L2400 0 L0 0  Z\n",
       "  \" fill=\"#ffffff\" fill-rule=\"evenodd\" fill-opacity=\"1\"/>\n",
       "<defs>\n",
       "  <clipPath id=\"clip581\">\n",
       "    <rect x=\"480\" y=\"0\" width=\"1681\" height=\"1600\"/>\n",
       "  </clipPath>\n",
       "</defs>\n",
       "<path clip-path=\"url(#clip580)\" d=\"\n",
       "M186.274 1486.45 L2352.76 1486.45 L2352.76 47.2441 L186.274 47.2441  Z\n",
       "  \" fill=\"#ffffff\" fill-rule=\"evenodd\" fill-opacity=\"1\"/>\n",
       "<defs>\n",
       "  <clipPath id=\"clip582\">\n",
       "    <rect x=\"186\" y=\"47\" width=\"2167\" height=\"1440\"/>\n",
       "  </clipPath>\n",
       "</defs>\n",
       "<polyline clip-path=\"url(#clip582)\" style=\"stroke:#000000; stroke-linecap:butt; stroke-linejoin:round; stroke-width:2; stroke-opacity:0.1; fill:none\" points=\"\n",
       "  417.91,1486.45 417.91,47.2441 \n",
       "  \"/>\n",
       "<polyline clip-path=\"url(#clip582)\" style=\"stroke:#000000; stroke-linecap:butt; stroke-linejoin:round; stroke-width:2; stroke-opacity:0.1; fill:none\" points=\"\n",
       "  843.713,1486.45 843.713,47.2441 \n",
       "  \"/>\n",
       "<polyline clip-path=\"url(#clip582)\" style=\"stroke:#000000; stroke-linecap:butt; stroke-linejoin:round; stroke-width:2; stroke-opacity:0.1; fill:none\" points=\"\n",
       "  1269.51,1486.45 1269.51,47.2441 \n",
       "  \"/>\n",
       "<polyline clip-path=\"url(#clip582)\" style=\"stroke:#000000; stroke-linecap:butt; stroke-linejoin:round; stroke-width:2; stroke-opacity:0.1; fill:none\" points=\"\n",
       "  1695.32,1486.45 1695.32,47.2441 \n",
       "  \"/>\n",
       "<polyline clip-path=\"url(#clip582)\" style=\"stroke:#000000; stroke-linecap:butt; stroke-linejoin:round; stroke-width:2; stroke-opacity:0.1; fill:none\" points=\"\n",
       "  2121.12,1486.45 2121.12,47.2441 \n",
       "  \"/>\n",
       "<polyline clip-path=\"url(#clip580)\" style=\"stroke:#000000; stroke-linecap:butt; stroke-linejoin:round; stroke-width:4; stroke-opacity:1; fill:none\" points=\"\n",
       "  186.274,1486.45 2352.76,1486.45 \n",
       "  \"/>\n",
       "<polyline clip-path=\"url(#clip580)\" style=\"stroke:#000000; stroke-linecap:butt; stroke-linejoin:round; stroke-width:4; stroke-opacity:1; fill:none\" points=\"\n",
       "  417.91,1486.45 417.91,1467.55 \n",
       "  \"/>\n",
       "<polyline clip-path=\"url(#clip580)\" style=\"stroke:#000000; stroke-linecap:butt; stroke-linejoin:round; stroke-width:4; stroke-opacity:1; fill:none\" points=\"\n",
       "  843.713,1486.45 843.713,1467.55 \n",
       "  \"/>\n",
       "<polyline clip-path=\"url(#clip580)\" style=\"stroke:#000000; stroke-linecap:butt; stroke-linejoin:round; stroke-width:4; stroke-opacity:1; fill:none\" points=\"\n",
       "  1269.51,1486.45 1269.51,1467.55 \n",
       "  \"/>\n",
       "<polyline clip-path=\"url(#clip580)\" style=\"stroke:#000000; stroke-linecap:butt; stroke-linejoin:round; stroke-width:4; stroke-opacity:1; fill:none\" points=\"\n",
       "  1695.32,1486.45 1695.32,1467.55 \n",
       "  \"/>\n",
       "<polyline clip-path=\"url(#clip580)\" style=\"stroke:#000000; stroke-linecap:butt; stroke-linejoin:round; stroke-width:4; stroke-opacity:1; fill:none\" points=\"\n",
       "  2121.12,1486.45 2121.12,1467.55 \n",
       "  \"/>\n",
       "<path clip-path=\"url(#clip580)\" d=\"M380.214 1517.37 Q376.603 1517.37 374.774 1520.93 Q372.969 1524.47 372.969 1531.6 Q372.969 1538.71 374.774 1542.27 Q376.603 1545.82 380.214 1545.82 Q383.848 1545.82 385.654 1542.27 Q387.482 1538.71 387.482 1531.6 Q387.482 1524.47 385.654 1520.93 Q383.848 1517.37 380.214 1517.37 M380.214 1513.66 Q386.024 1513.66 389.08 1518.27 Q392.158 1522.85 392.158 1531.6 Q392.158 1540.33 389.08 1544.94 Q386.024 1549.52 380.214 1549.52 Q374.404 1549.52 371.325 1544.94 Q368.269 1540.33 368.269 1531.6 Q368.269 1522.85 371.325 1518.27 Q374.404 1513.66 380.214 1513.66 Z\" fill=\"#000000\" fill-rule=\"evenodd\" fill-opacity=\"1\" /><path clip-path=\"url(#clip580)\" d=\"M400.376 1542.97 L405.26 1542.97 L405.26 1548.85 L400.376 1548.85 L400.376 1542.97 Z\" fill=\"#000000\" fill-rule=\"evenodd\" fill-opacity=\"1\" /><path clip-path=\"url(#clip580)\" d=\"M425.445 1517.37 Q421.834 1517.37 420.005 1520.93 Q418.2 1524.47 418.2 1531.6 Q418.2 1538.71 420.005 1542.27 Q421.834 1545.82 425.445 1545.82 Q429.079 1545.82 430.885 1542.27 Q432.714 1538.71 432.714 1531.6 Q432.714 1524.47 430.885 1520.93 Q429.079 1517.37 425.445 1517.37 M425.445 1513.66 Q431.255 1513.66 434.311 1518.27 Q437.389 1522.85 437.389 1531.6 Q437.389 1540.33 434.311 1544.94 Q431.255 1549.52 425.445 1549.52 Q419.635 1549.52 416.556 1544.94 Q413.501 1540.33 413.501 1531.6 Q413.501 1522.85 416.556 1518.27 Q419.635 1513.66 425.445 1513.66 Z\" fill=\"#000000\" fill-rule=\"evenodd\" fill-opacity=\"1\" /><path clip-path=\"url(#clip580)\" d=\"M455.607 1517.37 Q451.996 1517.37 450.167 1520.93 Q448.362 1524.47 448.362 1531.6 Q448.362 1538.71 450.167 1542.27 Q451.996 1545.82 455.607 1545.82 Q459.241 1545.82 461.047 1542.27 Q462.875 1538.71 462.875 1531.6 Q462.875 1524.47 461.047 1520.93 Q459.241 1517.37 455.607 1517.37 M455.607 1513.66 Q461.417 1513.66 464.473 1518.27 Q467.551 1522.85 467.551 1531.6 Q467.551 1540.33 464.473 1544.94 Q461.417 1549.52 455.607 1549.52 Q449.797 1549.52 446.718 1544.94 Q443.663 1540.33 443.663 1531.6 Q443.663 1522.85 446.718 1518.27 Q449.797 1513.66 455.607 1513.66 Z\" fill=\"#000000\" fill-rule=\"evenodd\" fill-opacity=\"1\" /><path clip-path=\"url(#clip580)\" d=\"M806.514 1517.37 Q802.903 1517.37 801.074 1520.93 Q799.268 1524.47 799.268 1531.6 Q799.268 1538.71 801.074 1542.27 Q802.903 1545.82 806.514 1545.82 Q810.148 1545.82 811.954 1542.27 Q813.782 1538.71 813.782 1531.6 Q813.782 1524.47 811.954 1520.93 Q810.148 1517.37 806.514 1517.37 M806.514 1513.66 Q812.324 1513.66 815.38 1518.27 Q818.458 1522.85 818.458 1531.6 Q818.458 1540.33 815.38 1544.94 Q812.324 1549.52 806.514 1549.52 Q800.704 1549.52 797.625 1544.94 Q794.569 1540.33 794.569 1531.6 Q794.569 1522.85 797.625 1518.27 Q800.704 1513.66 806.514 1513.66 Z\" fill=\"#000000\" fill-rule=\"evenodd\" fill-opacity=\"1\" /><path clip-path=\"url(#clip580)\" d=\"M826.676 1542.97 L831.56 1542.97 L831.56 1548.85 L826.676 1548.85 L826.676 1542.97 Z\" fill=\"#000000\" fill-rule=\"evenodd\" fill-opacity=\"1\" /><path clip-path=\"url(#clip580)\" d=\"M845.773 1544.91 L862.092 1544.91 L862.092 1548.85 L840.148 1548.85 L840.148 1544.91 Q842.81 1542.16 847.393 1537.53 Q852 1532.88 853.18 1531.53 Q855.426 1529.01 856.305 1527.27 Q857.208 1525.51 857.208 1523.82 Q857.208 1521.07 855.264 1519.33 Q853.342 1517.6 850.24 1517.6 Q848.041 1517.6 845.588 1518.36 Q843.157 1519.13 840.379 1520.68 L840.379 1515.95 Q843.203 1514.82 845.657 1514.24 Q848.111 1513.66 850.148 1513.66 Q855.518 1513.66 858.713 1516.35 Q861.907 1519.03 861.907 1523.52 Q861.907 1525.65 861.097 1527.57 Q860.31 1529.47 858.203 1532.07 Q857.625 1532.74 854.523 1535.95 Q851.421 1539.15 845.773 1544.91 Z\" fill=\"#000000\" fill-rule=\"evenodd\" fill-opacity=\"1\" /><path clip-path=\"url(#clip580)\" d=\"M871.953 1514.29 L890.31 1514.29 L890.31 1518.22 L876.236 1518.22 L876.236 1526.7 Q877.254 1526.35 878.273 1526.19 Q879.291 1526 880.31 1526 Q886.097 1526 889.476 1529.17 Q892.856 1532.34 892.856 1537.76 Q892.856 1543.34 889.384 1546.44 Q885.912 1549.52 879.592 1549.52 Q877.416 1549.52 875.148 1549.15 Q872.902 1548.78 870.495 1548.04 L870.495 1543.34 Q872.578 1544.47 874.8 1545.03 Q877.023 1545.58 879.5 1545.58 Q883.504 1545.58 885.842 1543.48 Q888.18 1541.37 888.18 1537.76 Q888.18 1534.15 885.842 1532.04 Q883.504 1529.94 879.5 1529.94 Q877.625 1529.94 875.75 1530.35 Q873.898 1530.77 871.953 1531.65 L871.953 1514.29 Z\" fill=\"#000000\" fill-rule=\"evenodd\" fill-opacity=\"1\" /><path clip-path=\"url(#clip580)\" d=\"M1231.82 1517.37 Q1228.21 1517.37 1226.38 1520.93 Q1224.57 1524.47 1224.57 1531.6 Q1224.57 1538.71 1226.38 1542.27 Q1228.21 1545.82 1231.82 1545.82 Q1235.45 1545.82 1237.26 1542.27 Q1239.09 1538.71 1239.09 1531.6 Q1239.09 1524.47 1237.26 1520.93 Q1235.45 1517.37 1231.82 1517.37 M1231.82 1513.66 Q1237.63 1513.66 1240.68 1518.27 Q1243.76 1522.85 1243.76 1531.6 Q1243.76 1540.33 1240.68 1544.94 Q1237.63 1549.52 1231.82 1549.52 Q1226.01 1549.52 1222.93 1544.94 Q1219.87 1540.33 1219.87 1531.6 Q1219.87 1522.85 1222.93 1518.27 Q1226.01 1513.66 1231.82 1513.66 Z\" fill=\"#000000\" fill-rule=\"evenodd\" fill-opacity=\"1\" /><path clip-path=\"url(#clip580)\" d=\"M1251.98 1542.97 L1256.86 1542.97 L1256.86 1548.85 L1251.98 1548.85 L1251.98 1542.97 Z\" fill=\"#000000\" fill-rule=\"evenodd\" fill-opacity=\"1\" /><path clip-path=\"url(#clip580)\" d=\"M1267.1 1514.29 L1285.45 1514.29 L1285.45 1518.22 L1271.38 1518.22 L1271.38 1526.7 Q1272.4 1526.35 1273.42 1526.19 Q1274.43 1526 1275.45 1526 Q1281.24 1526 1284.62 1529.17 Q1288 1532.34 1288 1537.76 Q1288 1543.34 1284.53 1546.44 Q1281.05 1549.52 1274.73 1549.52 Q1272.56 1549.52 1270.29 1549.15 Q1268.05 1548.78 1265.64 1548.04 L1265.64 1543.34 Q1267.72 1544.47 1269.94 1545.03 Q1272.17 1545.58 1274.64 1545.58 Q1278.65 1545.58 1280.98 1543.48 Q1283.32 1541.37 1283.32 1537.76 Q1283.32 1534.15 1280.98 1532.04 Q1278.65 1529.94 1274.64 1529.94 Q1272.77 1529.94 1270.89 1530.35 Q1269.04 1530.77 1267.1 1531.65 L1267.1 1514.29 Z\" fill=\"#000000\" fill-rule=\"evenodd\" fill-opacity=\"1\" /><path clip-path=\"url(#clip580)\" d=\"M1307.21 1517.37 Q1303.6 1517.37 1301.77 1520.93 Q1299.97 1524.47 1299.97 1531.6 Q1299.97 1538.71 1301.77 1542.27 Q1303.6 1545.82 1307.21 1545.82 Q1310.85 1545.82 1312.65 1542.27 Q1314.48 1538.71 1314.48 1531.6 Q1314.48 1524.47 1312.65 1520.93 Q1310.85 1517.37 1307.21 1517.37 M1307.21 1513.66 Q1313.02 1513.66 1316.08 1518.27 Q1319.16 1522.85 1319.16 1531.6 Q1319.16 1540.33 1316.08 1544.94 Q1313.02 1549.52 1307.21 1549.52 Q1301.4 1549.52 1298.32 1544.94 Q1295.27 1540.33 1295.27 1531.6 Q1295.27 1522.85 1298.32 1518.27 Q1301.4 1513.66 1307.21 1513.66 Z\" fill=\"#000000\" fill-rule=\"evenodd\" fill-opacity=\"1\" /><path clip-path=\"url(#clip580)\" d=\"M1658.12 1517.37 Q1654.51 1517.37 1652.68 1520.93 Q1650.87 1524.47 1650.87 1531.6 Q1650.87 1538.71 1652.68 1542.27 Q1654.51 1545.82 1658.12 1545.82 Q1661.75 1545.82 1663.56 1542.27 Q1665.39 1538.71 1665.39 1531.6 Q1665.39 1524.47 1663.56 1520.93 Q1661.75 1517.37 1658.12 1517.37 M1658.12 1513.66 Q1663.93 1513.66 1666.98 1518.27 Q1670.06 1522.85 1670.06 1531.6 Q1670.06 1540.33 1666.98 1544.94 Q1663.93 1549.52 1658.12 1549.52 Q1652.31 1549.52 1649.23 1544.94 Q1646.17 1540.33 1646.17 1531.6 Q1646.17 1522.85 1649.23 1518.27 Q1652.31 1513.66 1658.12 1513.66 Z\" fill=\"#000000\" fill-rule=\"evenodd\" fill-opacity=\"1\" /><path clip-path=\"url(#clip580)\" d=\"M1678.28 1542.97 L1683.16 1542.97 L1683.16 1548.85 L1678.28 1548.85 L1678.28 1542.97 Z\" fill=\"#000000\" fill-rule=\"evenodd\" fill-opacity=\"1\" /><path clip-path=\"url(#clip580)\" d=\"M1692.17 1514.29 L1714.39 1514.29 L1714.39 1516.28 L1701.84 1548.85 L1696.96 1548.85 L1708.77 1518.22 L1692.17 1518.22 L1692.17 1514.29 Z\" fill=\"#000000\" fill-rule=\"evenodd\" fill-opacity=\"1\" /><path clip-path=\"url(#clip580)\" d=\"M1723.56 1514.29 L1741.91 1514.29 L1741.91 1518.22 L1727.84 1518.22 L1727.84 1526.7 Q1728.86 1526.35 1729.88 1526.19 Q1730.9 1526 1731.91 1526 Q1737.7 1526 1741.08 1529.17 Q1744.46 1532.34 1744.46 1537.76 Q1744.46 1543.34 1740.99 1546.44 Q1737.52 1549.52 1731.2 1549.52 Q1729.02 1549.52 1726.75 1549.15 Q1724.51 1548.78 1722.1 1548.04 L1722.1 1543.34 Q1724.18 1544.47 1726.41 1545.03 Q1728.63 1545.58 1731.1 1545.58 Q1735.11 1545.58 1737.45 1543.48 Q1739.78 1541.37 1739.78 1537.76 Q1739.78 1534.15 1737.45 1532.04 Q1735.11 1529.94 1731.1 1529.94 Q1729.23 1529.94 1727.35 1530.35 Q1725.5 1530.77 1723.56 1531.65 L1723.56 1514.29 Z\" fill=\"#000000\" fill-rule=\"evenodd\" fill-opacity=\"1\" /><path clip-path=\"url(#clip580)\" d=\"M2073.19 1544.91 L2080.83 1544.91 L2080.83 1518.55 L2072.52 1520.21 L2072.52 1515.95 L2080.78 1514.29 L2085.46 1514.29 L2085.46 1544.91 L2093.1 1544.91 L2093.1 1548.85 L2073.19 1548.85 L2073.19 1544.91 Z\" fill=\"#000000\" fill-rule=\"evenodd\" fill-opacity=\"1\" /><path clip-path=\"url(#clip580)\" d=\"M2102.54 1542.97 L2107.43 1542.97 L2107.43 1548.85 L2102.54 1548.85 L2102.54 1542.97 Z\" fill=\"#000000\" fill-rule=\"evenodd\" fill-opacity=\"1\" /><path clip-path=\"url(#clip580)\" d=\"M2127.61 1517.37 Q2124 1517.37 2122.17 1520.93 Q2120.37 1524.47 2120.37 1531.6 Q2120.37 1538.71 2122.17 1542.27 Q2124 1545.82 2127.61 1545.82 Q2131.25 1545.82 2133.05 1542.27 Q2134.88 1538.71 2134.88 1531.6 Q2134.88 1524.47 2133.05 1520.93 Q2131.25 1517.37 2127.61 1517.37 M2127.61 1513.66 Q2133.42 1513.66 2136.48 1518.27 Q2139.56 1522.85 2139.56 1531.6 Q2139.56 1540.33 2136.48 1544.94 Q2133.42 1549.52 2127.61 1549.52 Q2121.8 1549.52 2118.72 1544.94 Q2115.67 1540.33 2115.67 1531.6 Q2115.67 1522.85 2118.72 1518.27 Q2121.8 1513.66 2127.61 1513.66 Z\" fill=\"#000000\" fill-rule=\"evenodd\" fill-opacity=\"1\" /><path clip-path=\"url(#clip580)\" d=\"M2157.77 1517.37 Q2154.16 1517.37 2152.33 1520.93 Q2150.53 1524.47 2150.53 1531.6 Q2150.53 1538.71 2152.33 1542.27 Q2154.16 1545.82 2157.77 1545.82 Q2161.41 1545.82 2163.21 1542.27 Q2165.04 1538.71 2165.04 1531.6 Q2165.04 1524.47 2163.21 1520.93 Q2161.41 1517.37 2157.77 1517.37 M2157.77 1513.66 Q2163.58 1513.66 2166.64 1518.27 Q2169.72 1522.85 2169.72 1531.6 Q2169.72 1540.33 2166.64 1544.94 Q2163.58 1549.52 2157.77 1549.52 Q2151.96 1549.52 2148.89 1544.94 Q2145.83 1540.33 2145.83 1531.6 Q2145.83 1522.85 2148.89 1518.27 Q2151.96 1513.66 2157.77 1513.66 Z\" fill=\"#000000\" fill-rule=\"evenodd\" fill-opacity=\"1\" /><polyline clip-path=\"url(#clip582)\" style=\"stroke:#000000; stroke-linecap:butt; stroke-linejoin:round; stroke-width:2; stroke-opacity:0.1; fill:none\" points=\"\n",
       "  186.274,1366.51 2352.76,1366.51 \n",
       "  \"/>\n",
       "<polyline clip-path=\"url(#clip582)\" style=\"stroke:#000000; stroke-linecap:butt; stroke-linejoin:round; stroke-width:2; stroke-opacity:0.1; fill:none\" points=\"\n",
       "  186.274,1066.68 2352.76,1066.68 \n",
       "  \"/>\n",
       "<polyline clip-path=\"url(#clip582)\" style=\"stroke:#000000; stroke-linecap:butt; stroke-linejoin:round; stroke-width:2; stroke-opacity:0.1; fill:none\" points=\"\n",
       "  186.274,766.846 2352.76,766.846 \n",
       "  \"/>\n",
       "<polyline clip-path=\"url(#clip582)\" style=\"stroke:#000000; stroke-linecap:butt; stroke-linejoin:round; stroke-width:2; stroke-opacity:0.1; fill:none\" points=\"\n",
       "  186.274,467.012 2352.76,467.012 \n",
       "  \"/>\n",
       "<polyline clip-path=\"url(#clip582)\" style=\"stroke:#000000; stroke-linecap:butt; stroke-linejoin:round; stroke-width:2; stroke-opacity:0.1; fill:none\" points=\"\n",
       "  186.274,167.178 2352.76,167.178 \n",
       "  \"/>\n",
       "<polyline clip-path=\"url(#clip580)\" style=\"stroke:#000000; stroke-linecap:butt; stroke-linejoin:round; stroke-width:4; stroke-opacity:1; fill:none\" points=\"\n",
       "  186.274,1486.45 186.274,47.2441 \n",
       "  \"/>\n",
       "<polyline clip-path=\"url(#clip580)\" style=\"stroke:#000000; stroke-linecap:butt; stroke-linejoin:round; stroke-width:4; stroke-opacity:1; fill:none\" points=\"\n",
       "  186.274,1366.51 205.172,1366.51 \n",
       "  \"/>\n",
       "<polyline clip-path=\"url(#clip580)\" style=\"stroke:#000000; stroke-linecap:butt; stroke-linejoin:round; stroke-width:4; stroke-opacity:1; fill:none\" points=\"\n",
       "  186.274,1066.68 205.172,1066.68 \n",
       "  \"/>\n",
       "<polyline clip-path=\"url(#clip580)\" style=\"stroke:#000000; stroke-linecap:butt; stroke-linejoin:round; stroke-width:4; stroke-opacity:1; fill:none\" points=\"\n",
       "  186.274,766.846 205.172,766.846 \n",
       "  \"/>\n",
       "<polyline clip-path=\"url(#clip580)\" style=\"stroke:#000000; stroke-linecap:butt; stroke-linejoin:round; stroke-width:4; stroke-opacity:1; fill:none\" points=\"\n",
       "  186.274,467.012 205.172,467.012 \n",
       "  \"/>\n",
       "<polyline clip-path=\"url(#clip580)\" style=\"stroke:#000000; stroke-linecap:butt; stroke-linejoin:round; stroke-width:4; stroke-opacity:1; fill:none\" points=\"\n",
       "  186.274,167.178 205.172,167.178 \n",
       "  \"/>\n",
       "<path clip-path=\"url(#clip580)\" d=\"M62.9365 1352.31 Q59.3254 1352.31 57.4967 1355.88 Q55.6912 1359.42 55.6912 1366.55 Q55.6912 1373.66 57.4967 1377.22 Q59.3254 1380.76 62.9365 1380.76 Q66.5707 1380.76 68.3763 1377.22 Q70.205 1373.66 70.205 1366.55 Q70.205 1359.42 68.3763 1355.88 Q66.5707 1352.31 62.9365 1352.31 M62.9365 1348.61 Q68.7467 1348.61 71.8022 1353.22 Q74.8809 1357.8 74.8809 1366.55 Q74.8809 1375.28 71.8022 1379.88 Q68.7467 1384.47 62.9365 1384.47 Q57.1264 1384.47 54.0477 1379.88 Q50.9921 1375.28 50.9921 1366.55 Q50.9921 1357.8 54.0477 1353.22 Q57.1264 1348.61 62.9365 1348.61 Z\" fill=\"#000000\" fill-rule=\"evenodd\" fill-opacity=\"1\" /><path clip-path=\"url(#clip580)\" d=\"M83.0984 1377.91 L87.9827 1377.91 L87.9827 1383.79 L83.0984 1383.79 L83.0984 1377.91 Z\" fill=\"#000000\" fill-rule=\"evenodd\" fill-opacity=\"1\" /><path clip-path=\"url(#clip580)\" d=\"M108.168 1352.31 Q104.557 1352.31 102.728 1355.88 Q100.922 1359.42 100.922 1366.55 Q100.922 1373.66 102.728 1377.22 Q104.557 1380.76 108.168 1380.76 Q111.802 1380.76 113.608 1377.22 Q115.436 1373.66 115.436 1366.55 Q115.436 1359.42 113.608 1355.88 Q111.802 1352.31 108.168 1352.31 M108.168 1348.61 Q113.978 1348.61 117.033 1353.22 Q120.112 1357.8 120.112 1366.55 Q120.112 1375.28 117.033 1379.88 Q113.978 1384.47 108.168 1384.47 Q102.358 1384.47 99.2789 1379.88 Q96.2234 1375.28 96.2234 1366.55 Q96.2234 1357.8 99.2789 1353.22 Q102.358 1348.61 108.168 1348.61 Z\" fill=\"#000000\" fill-rule=\"evenodd\" fill-opacity=\"1\" /><path clip-path=\"url(#clip580)\" d=\"M138.33 1352.31 Q134.719 1352.31 132.89 1355.88 Q131.084 1359.42 131.084 1366.55 Q131.084 1373.66 132.89 1377.22 Q134.719 1380.76 138.33 1380.76 Q141.964 1380.76 143.769 1377.22 Q145.598 1373.66 145.598 1366.55 Q145.598 1359.42 143.769 1355.88 Q141.964 1352.31 138.33 1352.31 M138.33 1348.61 Q144.14 1348.61 147.195 1353.22 Q150.274 1357.8 150.274 1366.55 Q150.274 1375.28 147.195 1379.88 Q144.14 1384.47 138.33 1384.47 Q132.519 1384.47 129.441 1379.88 Q126.385 1375.28 126.385 1366.55 Q126.385 1357.8 129.441 1353.22 Q132.519 1348.61 138.33 1348.61 Z\" fill=\"#000000\" fill-rule=\"evenodd\" fill-opacity=\"1\" /><path clip-path=\"url(#clip580)\" d=\"M63.9319 1052.48 Q60.3208 1052.48 58.4921 1056.04 Q56.6865 1059.59 56.6865 1066.71 Q56.6865 1073.82 58.4921 1077.39 Q60.3208 1080.93 63.9319 1080.93 Q67.5661 1080.93 69.3717 1077.39 Q71.2004 1073.82 71.2004 1066.71 Q71.2004 1059.59 69.3717 1056.04 Q67.5661 1052.48 63.9319 1052.48 M63.9319 1048.78 Q69.742 1048.78 72.7976 1053.38 Q75.8763 1057.96 75.8763 1066.71 Q75.8763 1075.44 72.7976 1080.05 Q69.742 1084.63 63.9319 1084.63 Q58.1217 1084.63 55.043 1080.05 Q51.9875 1075.44 51.9875 1066.71 Q51.9875 1057.96 55.043 1053.38 Q58.1217 1048.78 63.9319 1048.78 Z\" fill=\"#000000\" fill-rule=\"evenodd\" fill-opacity=\"1\" /><path clip-path=\"url(#clip580)\" d=\"M84.0938 1078.08 L88.978 1078.08 L88.978 1083.96 L84.0938 1083.96 L84.0938 1078.08 Z\" fill=\"#000000\" fill-rule=\"evenodd\" fill-opacity=\"1\" /><path clip-path=\"url(#clip580)\" d=\"M103.191 1080.02 L119.51 1080.02 L119.51 1083.96 L97.566 1083.96 L97.566 1080.02 Q100.228 1077.27 104.811 1072.64 Q109.418 1067.99 110.598 1066.65 Q112.844 1064.12 113.723 1062.39 Q114.626 1060.63 114.626 1058.94 Q114.626 1056.18 112.682 1054.45 Q110.76 1052.71 107.658 1052.71 Q105.459 1052.71 103.006 1053.47 Q100.575 1054.24 97.7974 1055.79 L97.7974 1051.07 Q100.621 1049.93 103.075 1049.35 Q105.529 1048.78 107.566 1048.78 Q112.936 1048.78 116.131 1051.46 Q119.325 1054.15 119.325 1058.64 Q119.325 1060.77 118.515 1062.69 Q117.728 1064.59 115.621 1067.18 Q115.043 1067.85 111.941 1071.07 Q108.839 1074.26 103.191 1080.02 Z\" fill=\"#000000\" fill-rule=\"evenodd\" fill-opacity=\"1\" /><path clip-path=\"url(#clip580)\" d=\"M129.371 1049.4 L147.728 1049.4 L147.728 1053.34 L133.654 1053.34 L133.654 1061.81 Q134.672 1061.46 135.691 1061.3 Q136.709 1061.11 137.728 1061.11 Q143.515 1061.11 146.894 1064.28 Q150.274 1067.46 150.274 1072.87 Q150.274 1078.45 146.802 1081.55 Q143.33 1084.63 137.01 1084.63 Q134.834 1084.63 132.566 1084.26 Q130.32 1083.89 127.913 1083.15 L127.913 1078.45 Q129.996 1079.59 132.219 1080.14 Q134.441 1080.7 136.918 1080.7 Q140.922 1080.7 143.26 1078.59 Q145.598 1076.48 145.598 1072.87 Q145.598 1069.26 143.26 1067.15 Q140.922 1065.05 136.918 1065.05 Q135.043 1065.05 133.168 1065.46 Q131.316 1065.88 129.371 1066.76 L129.371 1049.4 Z\" fill=\"#000000\" fill-rule=\"evenodd\" fill-opacity=\"1\" /><path clip-path=\"url(#clip580)\" d=\"M62.9365 752.645 Q59.3254 752.645 57.4967 756.209 Q55.6912 759.751 55.6912 766.881 Q55.6912 773.987 57.4967 777.552 Q59.3254 781.094 62.9365 781.094 Q66.5707 781.094 68.3763 777.552 Q70.205 773.987 70.205 766.881 Q70.205 759.751 68.3763 756.209 Q66.5707 752.645 62.9365 752.645 M62.9365 748.941 Q68.7467 748.941 71.8022 753.547 Q74.8809 758.131 74.8809 766.881 Q74.8809 775.608 71.8022 780.214 Q68.7467 784.797 62.9365 784.797 Q57.1264 784.797 54.0477 780.214 Q50.9921 775.608 50.9921 766.881 Q50.9921 758.131 54.0477 753.547 Q57.1264 748.941 62.9365 748.941 Z\" fill=\"#000000\" fill-rule=\"evenodd\" fill-opacity=\"1\" /><path clip-path=\"url(#clip580)\" d=\"M83.0984 778.246 L87.9827 778.246 L87.9827 784.126 L83.0984 784.126 L83.0984 778.246 Z\" fill=\"#000000\" fill-rule=\"evenodd\" fill-opacity=\"1\" /><path clip-path=\"url(#clip580)\" d=\"M98.2141 749.566 L116.57 749.566 L116.57 753.501 L102.496 753.501 L102.496 761.973 Q103.515 761.626 104.534 761.464 Q105.552 761.279 106.571 761.279 Q112.358 761.279 115.737 764.45 Q119.117 767.621 119.117 773.038 Q119.117 778.617 115.645 781.719 Q112.172 784.797 105.853 784.797 Q103.677 784.797 101.409 784.427 Q99.1632 784.057 96.7558 783.316 L96.7558 778.617 Q98.8391 779.751 101.061 780.307 Q103.284 780.862 105.76 780.862 Q109.765 780.862 112.103 778.756 Q114.441 776.649 114.441 773.038 Q114.441 769.427 112.103 767.321 Q109.765 765.214 105.76 765.214 Q103.885 765.214 102.01 765.631 Q100.159 766.047 98.2141 766.927 L98.2141 749.566 Z\" fill=\"#000000\" fill-rule=\"evenodd\" fill-opacity=\"1\" /><path clip-path=\"url(#clip580)\" d=\"M138.33 752.645 Q134.719 752.645 132.89 756.209 Q131.084 759.751 131.084 766.881 Q131.084 773.987 132.89 777.552 Q134.719 781.094 138.33 781.094 Q141.964 781.094 143.769 777.552 Q145.598 773.987 145.598 766.881 Q145.598 759.751 143.769 756.209 Q141.964 752.645 138.33 752.645 M138.33 748.941 Q144.14 748.941 147.195 753.547 Q150.274 758.131 150.274 766.881 Q150.274 775.608 147.195 780.214 Q144.14 784.797 138.33 784.797 Q132.519 784.797 129.441 780.214 Q126.385 775.608 126.385 766.881 Q126.385 758.131 129.441 753.547 Q132.519 748.941 138.33 748.941 Z\" fill=\"#000000\" fill-rule=\"evenodd\" fill-opacity=\"1\" /><path clip-path=\"url(#clip580)\" d=\"M63.9319 452.811 Q60.3208 452.811 58.4921 456.375 Q56.6865 459.917 56.6865 467.047 Q56.6865 474.153 58.4921 477.718 Q60.3208 481.259 63.9319 481.259 Q67.5661 481.259 69.3717 477.718 Q71.2004 474.153 71.2004 467.047 Q71.2004 459.917 69.3717 456.375 Q67.5661 452.811 63.9319 452.811 M63.9319 449.107 Q69.742 449.107 72.7976 453.713 Q75.8763 458.297 75.8763 467.047 Q75.8763 475.773 72.7976 480.38 Q69.742 484.963 63.9319 484.963 Q58.1217 484.963 55.043 480.38 Q51.9875 475.773 51.9875 467.047 Q51.9875 458.297 55.043 453.713 Q58.1217 449.107 63.9319 449.107 Z\" fill=\"#000000\" fill-rule=\"evenodd\" fill-opacity=\"1\" /><path clip-path=\"url(#clip580)\" d=\"M84.0938 478.412 L88.978 478.412 L88.978 484.292 L84.0938 484.292 L84.0938 478.412 Z\" fill=\"#000000\" fill-rule=\"evenodd\" fill-opacity=\"1\" /><path clip-path=\"url(#clip580)\" d=\"M97.9826 449.732 L120.205 449.732 L120.205 451.723 L107.658 484.292 L102.774 484.292 L114.58 453.667 L97.9826 453.667 L97.9826 449.732 Z\" fill=\"#000000\" fill-rule=\"evenodd\" fill-opacity=\"1\" /><path clip-path=\"url(#clip580)\" d=\"M129.371 449.732 L147.728 449.732 L147.728 453.667 L133.654 453.667 L133.654 462.139 Q134.672 461.792 135.691 461.63 Q136.709 461.445 137.728 461.445 Q143.515 461.445 146.894 464.616 Q150.274 467.787 150.274 473.204 Q150.274 478.783 146.802 481.884 Q143.33 484.963 137.01 484.963 Q134.834 484.963 132.566 484.593 Q130.32 484.222 127.913 483.482 L127.913 478.783 Q129.996 479.917 132.219 480.472 Q134.441 481.028 136.918 481.028 Q140.922 481.028 143.26 478.922 Q145.598 476.815 145.598 473.204 Q145.598 469.593 143.26 467.486 Q140.922 465.38 136.918 465.38 Q135.043 465.38 133.168 465.797 Q131.316 466.213 129.371 467.093 L129.371 449.732 Z\" fill=\"#000000\" fill-rule=\"evenodd\" fill-opacity=\"1\" /><path clip-path=\"url(#clip580)\" d=\"M53.7467 180.523 L61.3856 180.523 L61.3856 154.157 L53.0754 155.824 L53.0754 151.564 L61.3393 149.898 L66.0152 149.898 L66.0152 180.523 L73.654 180.523 L73.654 184.458 L53.7467 184.458 L53.7467 180.523 Z\" fill=\"#000000\" fill-rule=\"evenodd\" fill-opacity=\"1\" /><path clip-path=\"url(#clip580)\" d=\"M83.0984 178.578 L87.9827 178.578 L87.9827 184.458 L83.0984 184.458 L83.0984 178.578 Z\" fill=\"#000000\" fill-rule=\"evenodd\" fill-opacity=\"1\" /><path clip-path=\"url(#clip580)\" d=\"M108.168 152.976 Q104.557 152.976 102.728 156.541 Q100.922 160.083 100.922 167.212 Q100.922 174.319 102.728 177.884 Q104.557 181.425 108.168 181.425 Q111.802 181.425 113.608 177.884 Q115.436 174.319 115.436 167.212 Q115.436 160.083 113.608 156.541 Q111.802 152.976 108.168 152.976 M108.168 149.273 Q113.978 149.273 117.033 153.879 Q120.112 158.463 120.112 167.212 Q120.112 175.939 117.033 180.546 Q113.978 185.129 108.168 185.129 Q102.358 185.129 99.2789 180.546 Q96.2234 175.939 96.2234 167.212 Q96.2234 158.463 99.2789 153.879 Q102.358 149.273 108.168 149.273 Z\" fill=\"#000000\" fill-rule=\"evenodd\" fill-opacity=\"1\" /><path clip-path=\"url(#clip580)\" d=\"M138.33 152.976 Q134.719 152.976 132.89 156.541 Q131.084 160.083 131.084 167.212 Q131.084 174.319 132.89 177.884 Q134.719 181.425 138.33 181.425 Q141.964 181.425 143.769 177.884 Q145.598 174.319 145.598 167.212 Q145.598 160.083 143.769 156.541 Q141.964 152.976 138.33 152.976 M138.33 149.273 Q144.14 149.273 147.195 153.879 Q150.274 158.463 150.274 167.212 Q150.274 175.939 147.195 180.546 Q144.14 185.129 138.33 185.129 Q132.519 185.129 129.441 180.546 Q126.385 175.939 126.385 167.212 Q126.385 158.463 129.441 153.879 Q132.519 149.273 138.33 149.273 Z\" fill=\"#000000\" fill-rule=\"evenodd\" fill-opacity=\"1\" /><polyline clip-path=\"url(#clip582)\" style=\"stroke:#009af9; stroke-linecap:butt; stroke-linejoin:round; stroke-width:4; stroke-opacity:1; fill:none\" points=\"\n",
       "  247.59,53.1141 264.622,52.0062 281.654,51.012 298.686,50.1325 315.718,49.3684 332.75,48.7207 349.782,48.1898 366.814,47.7764 383.846,47.4808 400.878,47.3033 \n",
       "  417.91,47.2441 434.943,47.3033 451.975,47.4808 469.007,47.7764 486.039,48.1898 503.071,48.7207 520.103,49.3684 537.135,50.1325 554.167,51.012 571.199,52.0062 \n",
       "  588.231,53.1141 605.263,54.3345 622.296,55.6663 639.328,57.1081 656.36,58.6585 673.392,60.3161 690.424,62.0791 707.456,63.9458 724.488,65.9144 741.52,67.983 \n",
       "  758.552,70.1494 775.584,72.4116 792.616,74.7673 809.649,77.2142 826.681,79.7499 843.713,82.3718 860.745,85.0775 877.777,87.8642 894.809,90.7292 911.841,93.6696 \n",
       "  928.873,96.6825 945.905,99.765 962.937,102.914 979.969,106.127 997.002,109.399 1014.03,112.729 1031.07,116.112 1048.1,119.546 1065.13,123.027 1082.16,126.552 \n",
       "  1099.19,130.116 1116.23,133.717 1133.26,137.351 1150.29,141.015 1167.32,144.704 1184.35,148.416 1201.39,152.146 1218.42,155.891 1235.45,159.647 1252.48,163.411 \n",
       "  1269.51,167.178 1286.55,170.945 1303.58,174.708 1320.61,178.464 1337.64,182.209 1354.68,185.939 1371.71,189.651 1388.74,193.34 1405.77,197.004 1422.8,200.638 \n",
       "  1439.84,204.239 1456.87,207.804 1473.9,211.328 1490.93,214.809 1507.96,218.243 1525,221.626 1542.03,224.956 1559.06,228.229 1576.09,231.441 1593.12,234.59 \n",
       "  1610.16,237.673 1627.19,240.686 1644.22,243.626 1661.25,246.491 1678.29,249.278 1695.32,251.984 1712.35,254.606 1729.38,257.141 1746.41,259.588 1763.45,261.944 \n",
       "  1780.48,264.206 1797.51,266.373 1814.54,268.441 1831.57,270.41 1848.61,272.276 1865.64,274.039 1882.67,275.697 1899.7,277.247 1916.73,278.689 1933.77,280.021 \n",
       "  1950.8,281.241 1967.83,282.349 1984.86,283.343 2001.89,284.223 2018.93,284.987 2035.96,285.635 2052.99,286.166 2070.02,286.579 2087.06,286.875 2104.09,287.052 \n",
       "  2121.12,287.111 2138.15,287.052 2155.18,286.875 2172.22,286.579 2189.25,286.166 2206.28,285.635 2223.31,284.987 2240.34,284.223 2257.38,283.343 2274.41,282.349 \n",
       "  2291.44,281.241 \n",
       "  \"/>\n",
       "<polyline clip-path=\"url(#clip582)\" style=\"stroke:#e26f46; stroke-linecap:butt; stroke-linejoin:round; stroke-width:4; stroke-opacity:1; fill:none\" points=\"\n",
       "  247.59,1486.45 264.622,1474.45 281.654,1462.46 298.686,1450.47 315.718,1438.47 332.75,1426.48 349.782,1414.49 366.814,1402.49 383.846,1390.5 400.878,1378.51 \n",
       "  417.91,1366.51 434.943,1354.52 451.975,1342.53 469.007,1330.53 486.039,1318.54 503.071,1306.55 520.103,1294.55 537.135,1282.56 554.167,1270.57 571.199,1258.57 \n",
       "  588.231,1246.58 605.263,1234.59 622.296,1222.59 639.328,1210.6 656.36,1198.61 673.392,1186.61 690.424,1174.62 707.456,1162.63 724.488,1150.63 741.52,1138.64 \n",
       "  758.552,1126.65 775.584,1114.65 792.616,1102.66 809.649,1090.67 826.681,1078.67 843.713,1066.68 860.745,1054.69 877.777,1042.69 894.809,1030.7 911.841,1018.71 \n",
       "  928.873,1006.71 945.905,994.72 962.937,982.727 979.969,970.733 997.002,958.74 1014.03,946.746 1031.07,934.753 1048.1,922.76 1065.13,910.766 1082.16,898.773 \n",
       "  1099.19,886.78 1116.23,874.786 1133.26,862.793 1150.29,850.8 1167.32,838.806 1184.35,826.813 1201.39,814.819 1218.42,802.826 1235.45,790.833 1252.48,778.839 \n",
       "  1269.51,766.846 1286.55,754.853 1303.58,742.859 1320.61,730.866 1337.64,718.873 1354.68,706.879 1371.71,694.886 1388.74,682.892 1405.77,670.899 1422.8,658.906 \n",
       "  1439.84,646.912 1456.87,634.919 1473.9,622.926 1490.93,610.932 1507.96,598.939 1525,586.946 1542.03,574.952 1559.06,562.959 1576.09,550.965 1593.12,538.972 \n",
       "  1610.16,526.979 1627.19,514.985 1644.22,502.992 1661.25,490.999 1678.29,479.005 1695.32,467.012 1712.35,455.018 1729.38,443.025 1746.41,431.032 1763.45,419.038 \n",
       "  1780.48,407.045 1797.51,395.052 1814.54,383.058 1831.57,371.065 1848.61,359.072 1865.64,347.078 1882.67,335.085 1899.7,323.091 1916.73,311.098 1933.77,299.105 \n",
       "  1950.8,287.111 1967.83,275.118 1984.86,263.125 2001.89,251.131 2018.93,239.138 2035.96,227.145 2052.99,215.151 2070.02,203.158 2087.06,191.164 2104.09,179.171 \n",
       "  2121.12,167.178 2138.15,155.184 2155.18,143.191 2172.22,131.198 2189.25,119.204 2206.28,107.211 2223.31,95.2176 2240.34,83.2242 2257.38,71.2308 2274.41,59.2375 \n",
       "  2291.44,47.2441 \n",
       "  \"/>\n",
       "<polyline clip-path=\"url(#clip582)\" style=\"stroke:#000000; stroke-linecap:butt; stroke-linejoin:round; stroke-width:4; stroke-opacity:1; fill:none\" points=\"\n",
       "  1269.51,1366.51 1269.51,167.178 \n",
       "  \"/>\n",
       "<polyline clip-path=\"url(#clip582)\" style=\"stroke:#000000; stroke-linecap:butt; stroke-linejoin:round; stroke-width:4; stroke-opacity:1; fill:none\" points=\"\n",
       "  1269.51,167.178 1286.55,167.178 1303.58,167.178 1320.61,167.178 1337.64,167.178 1354.68,167.178 1371.71,167.178 1388.74,167.178 1405.77,167.178 1422.8,167.178 \n",
       "  1439.84,167.178 1456.87,167.178 1473.9,167.178 1490.93,167.178 1507.96,167.178 1525,167.178 1542.03,167.178 1559.06,167.178 1576.09,167.178 1593.12,167.178 \n",
       "  1610.16,167.178 1627.19,167.178 1644.22,167.178 1661.25,167.178 1678.29,167.178 1695.32,167.178 1712.35,167.178 1729.38,167.178 1746.41,167.178 1763.45,167.178 \n",
       "  1780.48,167.178 1797.51,167.178 1814.54,167.178 1831.57,167.178 1848.61,167.178 1865.64,167.178 1882.67,167.178 1899.7,167.178 1916.73,167.178 1933.77,167.178 \n",
       "  1950.8,167.178 1967.83,167.178 1984.86,167.178 2001.89,167.178 2018.93,167.178 2035.96,167.178 2052.99,167.178 2070.02,167.178 2087.06,167.178 2104.09,167.178 \n",
       "  2121.12,167.178 \n",
       "  \"/>\n",
       "<polyline clip-path=\"url(#clip582)\" style=\"stroke:#000000; stroke-linecap:butt; stroke-linejoin:round; stroke-width:4; stroke-opacity:1; fill:none\" points=\"\n",
       "  2121.12,287.111 2121.12,275.118 2121.12,263.125 2121.12,251.131 2121.12,239.138 2121.12,227.145 2121.12,215.151 2121.12,203.158 2121.12,191.164 2121.12,179.171 \n",
       "  2121.12,167.178 \n",
       "  \"/>\n",
       "<polyline clip-path=\"url(#clip582)\" style=\"stroke:#000000; stroke-linecap:butt; stroke-linejoin:round; stroke-width:4; stroke-opacity:1; fill:none\" points=\"\n",
       "  1950.8,287.111 1967.83,287.111 1984.86,287.111 2001.89,287.111 2018.93,287.111 2035.96,287.111 2052.99,287.111 2070.02,287.111 2087.06,287.111 2104.09,287.111 \n",
       "  2121.12,287.111 \n",
       "  \"/>\n",
       "<path clip-path=\"url(#clip580)\" d=\"\n",
       "M2016.65 198.898 L2280.54 198.898 L2280.54 95.2176 L2016.65 95.2176  Z\n",
       "  \" fill=\"#ffffff\" fill-rule=\"evenodd\" fill-opacity=\"1\"/>\n",
       "<polyline clip-path=\"url(#clip580)\" style=\"stroke:#000000; stroke-linecap:butt; stroke-linejoin:round; stroke-width:4; stroke-opacity:1; fill:none\" points=\"\n",
       "  2016.65,198.898 2280.54,198.898 2280.54,95.2176 2016.65,95.2176 2016.65,198.898 \n",
       "  \"/>\n",
       "<polyline clip-path=\"url(#clip580)\" style=\"stroke:#009af9; stroke-linecap:butt; stroke-linejoin:round; stroke-width:4; stroke-opacity:1; fill:none\" points=\"\n",
       "  2040.72,147.058 2185.15,147.058 \n",
       "  \"/>\n",
       "<path clip-path=\"url(#clip580)\" d=\"M2228.14 151.074 Q2228.14 146.444 2226.22 143.898 Q2224.32 141.352 2220.87 141.352 Q2217.44 141.352 2215.52 143.898 Q2213.62 146.444 2213.62 151.074 Q2213.62 155.68 2215.52 158.226 Q2217.44 160.773 2220.87 160.773 Q2224.32 160.773 2226.22 158.226 Q2228.14 155.68 2228.14 151.074 M2232.4 161.12 Q2232.4 167.74 2229.46 170.958 Q2226.52 174.199 2220.45 174.199 Q2218.21 174.199 2216.22 173.851 Q2214.22 173.527 2212.35 172.833 L2212.35 168.689 Q2214.22 169.708 2216.05 170.194 Q2217.88 170.68 2219.78 170.68 Q2223.97 170.68 2226.05 168.481 Q2228.14 166.305 2228.14 161.884 L2228.14 159.777 Q2226.82 162.069 2224.76 163.203 Q2222.7 164.338 2219.83 164.338 Q2215.06 164.338 2212.14 160.703 Q2209.22 157.069 2209.22 151.074 Q2209.22 145.055 2212.14 141.421 Q2215.06 137.787 2219.83 137.787 Q2222.7 137.787 2224.76 138.921 Q2226.82 140.055 2228.14 142.347 L2228.14 138.412 L2232.4 138.412 L2232.4 161.12 Z\" fill=\"#000000\" fill-rule=\"evenodd\" fill-opacity=\"1\" /></svg>\n"
      ]
     },
     "metadata": {},
     "output_type": "display_data"
    }
   ],
   "source": [
    "display(plt)"
   ]
  },
  {
   "cell_type": "markdown",
   "id": "14549f29",
   "metadata": {},
   "source": [
    "In the first five steps, we see that the method converges to ``9.0447e-01``."
   ]
  },
  {
   "cell_type": "markdown",
   "id": "6aa68f74",
   "metadata": {},
   "source": [
    "To compute the convergence at that fixed point, we evaluate the derivative of g."
   ]
  },
  {
   "cell_type": "code",
   "execution_count": 7,
   "id": "48222cee",
   "metadata": {},
   "outputs": [
    {
     "data": {
      "text/latex": [
       "$- \\frac{\\pi \\sin{\\left(\\pi z \\right)}}{10}$"
      ],
      "text/plain": [
       "-pi*sin(pi*z) \n",
       "--------------\n",
       "      10      "
      ]
     },
     "execution_count": 7,
     "metadata": {},
     "output_type": "execute_result"
    }
   ],
   "source": [
    "using SymPy\n",
    "z = Sym(\"z\")\n",
    "gz = 1 + cos(pi*z)/10\n",
    "dg = diff(gz, z)"
   ]
  },
  {
   "cell_type": "code",
   "execution_count": 8,
   "id": "bbc0ad77",
   "metadata": {},
   "outputs": [
    {
     "data": {
      "text/latex": [
       "$- \\frac{\\pi \\sin{\\left(0.90447 \\pi \\right)}}{10}$"
      ],
      "text/plain": [
       "-pi*sin(0.90447*pi) \n",
       "--------------------\n",
       "         10         "
      ]
     },
     "execution_count": 8,
     "metadata": {},
     "output_type": "execute_result"
    }
   ],
   "source": [
    "r = dg.subs(Dict(z=>9.0447e-1))"
   ]
  },
  {
   "cell_type": "code",
   "execution_count": 9,
   "id": "d5c572f5",
   "metadata": {},
   "outputs": [
    {
     "data": {
      "text/plain": [
       "-0.09287532912440738"
      ]
     },
     "execution_count": 9,
     "metadata": {},
     "output_type": "execute_result"
    }
   ],
   "source": [
    "Float64(r)"
   ]
  },
  {
   "cell_type": "markdown",
   "id": "bfcc3b15",
   "metadata": {},
   "source": [
    "The convergence rate is negative which explains that the approximations are alternating (once to the left, once to the right of the fixed point).  The value of the rate is close to 0.1, which shows that in each step we gain about one decimal place."
   ]
  },
  {
   "cell_type": "markdown",
   "id": "88205838",
   "metadata": {},
   "source": [
    "# Question 3"
   ]
  },
  {
   "cell_type": "markdown",
   "id": "e09aec9e",
   "metadata": {},
   "source": [
    "The linear system $A {\\bf x} = {\\bf b}$ is defined by\n",
    "\n",
    "$$\n",
    "   A = \\left[\n",
    "         \\begin{array}{rrr}\n",
    "           4 & 6 & 8 \\\\\n",
    "           6 & 13 & 18 \\\\\n",
    "           8 & 18 & 29\n",
    "         \\end{array}\n",
    "       \\right]\n",
    "  \\quad \\mbox{and} \\quad\n",
    "   {\\bf b} = \\left[\n",
    "             \\begin{array}{c}\n",
    "                18 \\\\ 37 \\\\ 55\n",
    "             \\end{array}\n",
    "          \\right].\n",
    "$$\n",
    "\n",
    "1. Which matrix factorization is best for this type of matrix?\n",
    "\n",
    "   Justify your answer.\n",
    "\n",
    "            \n",
    "2. Solve this system using this best matrix factorization."
   ]
  },
  {
   "cell_type": "markdown",
   "id": "6a229005",
   "metadata": {},
   "source": [
    "# Answer to Question 3"
   ]
  },
  {
   "cell_type": "markdown",
   "id": "19dd8319",
   "metadata": {},
   "source": [
    "The matrix is symmetric.  In an LU factorization, the upper triangular factor will be the transpose of the lower triangular matrix, or using the cholesky in the LinearAlgebra module of Julia, the lower triangular factor is the transpose of the upper triangular factor.  The Cholesky factorization is the best type of factorization for this type of matrix, because we need to compute only one factor, and compute half of the LU factorization."
   ]
  },
  {
   "cell_type": "code",
   "execution_count": 6,
   "id": "3f5f78c5",
   "metadata": {},
   "outputs": [
    {
     "data": {
      "text/plain": [
       "3×3 Matrix{Float64}:\n",
       " 4.0   6.0   8.0\n",
       " 6.0  13.0  18.0\n",
       " 8.0  18.0  29.0"
      ]
     },
     "execution_count": 6,
     "metadata": {},
     "output_type": "execute_result"
    }
   ],
   "source": [
    "A = [4.0 6.0 8.0; 6.0 13.0 18.0; 8.0 18.0 29.0]"
   ]
  },
  {
   "cell_type": "code",
   "execution_count": 7,
   "id": "639b24ce",
   "metadata": {},
   "outputs": [
    {
     "data": {
      "text/plain": [
       "Cholesky{Float64, Matrix{Float64}}\n",
       "U factor:\n",
       "3×3 UpperTriangular{Float64, Matrix{Float64}}:\n",
       " 2.0  3.0  4.0\n",
       "  ⋅   2.0  3.0\n",
       "  ⋅    ⋅   2.0"
      ]
     },
     "execution_count": 7,
     "metadata": {},
     "output_type": "execute_result"
    }
   ],
   "source": [
    "using LinearAlgebra\n",
    "C = cholesky(A)"
   ]
  },
  {
   "cell_type": "code",
   "execution_count": 13,
   "id": "e2da2a23",
   "metadata": {},
   "outputs": [
    {
     "data": {
      "text/plain": [
       "3×3 LowerTriangular{Float64, Adjoint{Float64, Matrix{Float64}}}:\n",
       " 2.0   ⋅    ⋅ \n",
       " 3.0  2.0   ⋅ \n",
       " 4.0  3.0  2.0"
      ]
     },
     "execution_count": 13,
     "metadata": {},
     "output_type": "execute_result"
    }
   ],
   "source": [
    "C.U'"
   ]
  },
  {
   "cell_type": "code",
   "execution_count": 14,
   "id": "563d556b",
   "metadata": {},
   "outputs": [
    {
     "data": {
      "text/plain": [
       "3-element Vector{Float64}:\n",
       " 18.0\n",
       " 37.0\n",
       " 55.0"
      ]
     },
     "execution_count": 14,
     "metadata": {},
     "output_type": "execute_result"
    }
   ],
   "source": [
    "b = [18.0, 37.0, 55.0]"
   ]
  },
  {
   "cell_type": "markdown",
   "id": "a2dcef57",
   "metadata": {},
   "source": [
    "In order to solve ``U'*U x = b``, we set ``y = U*x`` and solve first ``U' y = b`` first.  The we solve  ``U*x = y``."
   ]
  },
  {
   "cell_type": "code",
   "execution_count": 15,
   "id": "faa8701b",
   "metadata": {},
   "outputs": [
    {
     "data": {
      "text/plain": [
       "3-element Vector{Float64}:\n",
       " 9.0\n",
       " 5.0\n",
       " 2.0"
      ]
     },
     "execution_count": 15,
     "metadata": {},
     "output_type": "execute_result"
    }
   ],
   "source": [
    "y = C.U'\\b"
   ]
  },
  {
   "cell_type": "code",
   "execution_count": 16,
   "id": "5d750de1",
   "metadata": {},
   "outputs": [
    {
     "data": {
      "text/plain": [
       "3-element Vector{Float64}:\n",
       " 1.0\n",
       " 1.0\n",
       " 1.0"
      ]
     },
     "execution_count": 16,
     "metadata": {},
     "output_type": "execute_result"
    }
   ],
   "source": [
    "z = C.U\\y"
   ]
  },
  {
   "cell_type": "code",
   "execution_count": 17,
   "id": "b095119e",
   "metadata": {},
   "outputs": [
    {
     "data": {
      "text/plain": [
       "0.0"
      ]
     },
     "execution_count": 17,
     "metadata": {},
     "output_type": "execute_result"
    }
   ],
   "source": [
    "norm(b - A*z)"
   ]
  },
  {
   "cell_type": "markdown",
   "id": "8362d633",
   "metadata": {},
   "source": [
    "# Question 4"
   ]
  },
  {
   "cell_type": "markdown",
   "id": "d53e9c11",
   "metadata": {},
   "source": [
    "Let $h_i = 0.1$, for $i=0,1, \\ldots, 4$, as the distances between\n",
    "the five nodes $x_{i+1} = x_i + h_i$, of an interpolating natural spline $S(x)$.\n",
    "\n",
    "1. Define the matrix $A$ of the linear system that must be solved to compute $S$.\n",
    "\n",
    "\n",
    "2. Compute the condition number $\\kappa(A)$ of $A$.\n",
    "\n",
    "   Is this problem well conditioned?  Justify your answer."
   ]
  },
  {
   "cell_type": "markdown",
   "id": "21da1701",
   "metadata": {},
   "source": [
    "# Answer to Question 4"
   ]
  },
  {
   "cell_type": "markdown",
   "id": "a5b54396",
   "metadata": {},
   "source": [
    "1. The matrix is a 5-by-5 matrix with twice the sum of two consecutive $h_i$ values on the diagonal and $h_i$ values off the diagonal.  As all $h_i = 0.1$ are the same, the diagonal is 0.4 and the off diagonal is 0.1."
   ]
  },
  {
   "cell_type": "code",
   "execution_count": 18,
   "id": "5832ba60",
   "metadata": {},
   "outputs": [
    {
     "data": {
      "text/plain": [
       "5×5 Matrix{Float64}:\n",
       " 0.4  0.1  0.0  0.0  0.0\n",
       " 0.1  0.4  0.1  0.0  0.0\n",
       " 0.0  0.1  0.4  0.1  0.0\n",
       " 0.0  0.0  0.1  0.4  0.1\n",
       " 0.0  0.0  0.0  0.1  0.4"
      ]
     },
     "execution_count": 18,
     "metadata": {},
     "output_type": "execute_result"
    }
   ],
   "source": [
    "using LinearAlgebra\n",
    "A = diagm(1 => [0.1, 0.1, 0.1, 0.1]) + diagm(-1 => [0.1, 0.1, 0.1, 0.1]) + diagm(0.4*ones(5))"
   ]
  },
  {
   "cell_type": "markdown",
   "id": "a5a2470a",
   "metadata": {},
   "source": [
    "2. Computing the condition number goes as follows:"
   ]
  },
  {
   "cell_type": "code",
   "execution_count": 19,
   "id": "36d80887",
   "metadata": {},
   "outputs": [
    {
     "data": {
      "text/plain": [
       "2.5274158815808474"
      ]
     },
     "execution_count": 19,
     "metadata": {},
     "output_type": "execute_result"
    }
   ],
   "source": [
    "cond(A)"
   ]
  },
  {
   "cell_type": "markdown",
   "id": "94ab8d19",
   "metadata": {},
   "source": [
    "The condition number is very small, so we expect the solution of the linear system to be close to the machine precision."
   ]
  },
  {
   "cell_type": "markdown",
   "id": "7412f2fe",
   "metadata": {},
   "source": [
    "# Question 5"
   ]
  },
  {
   "cell_type": "markdown",
   "id": "4910394e",
   "metadata": {},
   "source": [
    "Consider $p(x) = x^2 - 3 x + 7$.\n",
    "\n",
    "1. Approximate $p(x)$ with the linear function that minimizes the\n",
    "   squares of the errors, using the points\n",
    "   $(0,p(0))$, $(1,p(1))$, $(2,p(2))$, and $(3,p(3))$.\n",
    "\n",
    "\n",
    "2. Explain the verification of the least squares property of your computed solution."
   ]
  },
  {
   "cell_type": "markdown",
   "id": "a2dc527e",
   "metadata": {},
   "source": [
    "# Answer to Question 5"
   ]
  },
  {
   "cell_type": "code",
   "execution_count": 20,
   "id": "c02a2bd2",
   "metadata": {},
   "outputs": [
    {
     "data": {
      "text/plain": [
       "p (generic function with 1 method)"
      ]
     },
     "execution_count": 20,
     "metadata": {},
     "output_type": "execute_result"
    }
   ],
   "source": [
    "p(x) = x^2 - 3*x + 7"
   ]
  },
  {
   "cell_type": "markdown",
   "id": "72fabeec",
   "metadata": {},
   "source": [
    "1. The coefficient matrix of the linear system has four rows and two columns.  The right hand side consists of the four function values."
   ]
  },
  {
   "cell_type": "code",
   "execution_count": 21,
   "id": "c43c62fc",
   "metadata": {},
   "outputs": [
    {
     "data": {
      "text/plain": [
       "4×2 Matrix{Float64}:\n",
       " 1.0  0.0\n",
       " 1.0  1.0\n",
       " 1.0  2.0\n",
       " 1.0  3.0"
      ]
     },
     "execution_count": 21,
     "metadata": {},
     "output_type": "execute_result"
    }
   ],
   "source": [
    "A = zeros(4, 2)\n",
    "A[:,1] = ones(4)\n",
    "A[:,2] = [0.0, 1.0, 2.0, 3.0]\n",
    "A"
   ]
  },
  {
   "cell_type": "code",
   "execution_count": 22,
   "id": "56d56f19",
   "metadata": {},
   "outputs": [
    {
     "data": {
      "text/plain": [
       "4-element Vector{Int64}:\n",
       " 7\n",
       " 5\n",
       " 5\n",
       " 7"
      ]
     },
     "execution_count": 22,
     "metadata": {},
     "output_type": "execute_result"
    }
   ],
   "source": [
    "b = [p(k) for k=0:3]"
   ]
  },
  {
   "cell_type": "code",
   "execution_count": 23,
   "id": "1ccb912e",
   "metadata": {},
   "outputs": [
    {
     "data": {
      "text/plain": [
       "2-element Vector{Float64}:\n",
       "  6.0\n",
       " -0.0"
      ]
     },
     "execution_count": 23,
     "metadata": {},
     "output_type": "execute_result"
    }
   ],
   "source": [
    "c = A\\b"
   ]
  },
  {
   "cell_type": "markdown",
   "id": "bc483d34",
   "metadata": {},
   "source": [
    "2. To verify the least squares property, we verify that the residual is perpendicular to the column space."
   ]
  },
  {
   "cell_type": "code",
   "execution_count": 24,
   "id": "05a43c7f",
   "metadata": {},
   "outputs": [
    {
     "data": {
      "text/plain": [
       "0.0"
      ]
     },
     "execution_count": 24,
     "metadata": {},
     "output_type": "execute_result"
    }
   ],
   "source": [
    "r = b - A*c\n",
    "norm(r'*A)"
   ]
  },
  {
   "cell_type": "markdown",
   "id": "8dfb05f4",
   "metadata": {},
   "source": [
    "# Question 6"
   ]
  },
  {
   "cell_type": "markdown",
   "id": "d504e831",
   "metadata": {},
   "source": [
    "Do ``using LinearAlgebra``; execute the instructions\n",
    "\n",
    "``D = diagm(ones(10)); D[1,1] = 2.0``\n",
    "\n",
    "``Q, R = qr(rand(10,10)); A = Q*D*Q'``\n",
    "\n",
    "as this makes a matrix ``A`` with largest eigenvalue 2, with all others one.\n",
    "\n",
    "\n",
    "1. Without doing any runs, predict how many iterations it would take\n",
    "   to reach an accuracy of ``1.0e-4`` in the answer,\n",
    "   when starting at a vector with an accuracy of ``1.0e-1``?\n",
    "\n",
    "\n",
    "2. Do ``x0 = rand(10)`` and run the power method on ``A``.\n",
    "\n",
    "   Does the number of steps to reach ``1.0e-4`` agree with your prediction?"
   ]
  },
  {
   "cell_type": "markdown",
   "id": "2f39bdb0",
   "metadata": {},
   "source": [
    "# Answer to Question 6"
   ]
  },
  {
   "cell_type": "code",
   "execution_count": 25,
   "id": "9bdaa329",
   "metadata": {},
   "outputs": [
    {
     "data": {
      "text/plain": [
       "10×10 Matrix{Float64}:\n",
       " 1.09295    0.0097317   0.179932   …  0.0390039   0.0198244   0.0784564\n",
       " 0.0097317  1.00102     0.0188388     0.00408369  0.00207561  0.00821436\n",
       " 0.179932   0.0188388   1.34831       0.0755043   0.0383764   0.151877\n",
       " 0.0121103  0.00126795  0.0234433     0.00508182  0.00258292  0.0102221\n",
       " 0.0868881  0.00909716  0.168199      0.0364607   0.0185318   0.0733408\n",
       " 0.0851237  0.00891242  0.164784   …  0.0357203   0.0181554   0.0718514\n",
       " 0.169786   0.0177765   0.328674      0.0712469   0.0362125   0.143313\n",
       " 0.0390039  0.00408369  0.0755043     1.01637     0.00831887  0.0329225\n",
       " 0.0198244  0.00207561  0.0383764     0.00831887  1.00423     0.0167334\n",
       " 0.0784564  0.00821436  0.151877      0.0329225   0.0167334   1.06622"
      ]
     },
     "execution_count": 25,
     "metadata": {},
     "output_type": "execute_result"
    }
   ],
   "source": [
    "using LinearAlgebra\n",
    "D = diagm(ones(10)); D[1,1] = 2.0\n",
    "Q, R = qr(rand(10,10)); A = Q*D*Q'"
   ]
  },
  {
   "cell_type": "markdown",
   "id": "4f6db06c",
   "metadata": {},
   "source": [
    "1. The convergence of the power method is determined by the ratio of the second largest eigenvalue over the largest eigenvalue (both in absolute value), which is 1/2 in this case.  So in every step we gain one step of accuracy.  So it will take more than 3 steps to gain one decimal place, or more than 9 steps to gain 3 decimal places, to go from ``1.0e-1`` to ``1.0e-4``."
   ]
  },
  {
   "cell_type": "code",
   "execution_count": 26,
   "id": "633478f9",
   "metadata": {},
   "outputs": [
    {
     "data": {
      "text/plain": [
       "9.765625e-5"
      ]
     },
     "execution_count": 26,
     "metadata": {},
     "output_type": "execute_result"
    }
   ],
   "source": [
    "0.5^10*1.0e-1"
   ]
  },
  {
   "cell_type": "markdown",
   "id": "a6002bc2",
   "metadata": {},
   "source": [
    "So ten steps with the power method will do.  Let us verify this with the power method."
   ]
  },
  {
   "cell_type": "code",
   "execution_count": 27,
   "id": "87d9b6e2",
   "metadata": {},
   "outputs": [
    {
     "data": {
      "text/plain": [
       "power"
      ]
     },
     "execution_count": 27,
     "metadata": {},
     "output_type": "execute_result"
    }
   ],
   "source": [
    "using Printf\n",
    "Base.show(io::IO, f::Float64) = @printf(io, \"%.3e\", f)\n",
    "\n",
    "\"\"\"\n",
    "    power(A::Array{Float64,2},x0::Array{Float64,1},\n",
    "          tol::Float64=1.0e-8,maxit::Int=10,verbose::Bool=true)\n",
    "\n",
    "Runs the power method on A, starting at the vector x0.\n",
    "\n",
    "Does no more than maxit steps.\n",
    "\n",
    "Stops when the error is less than the tolerance.\n",
    "\n",
    "By default, the verbose flag is true.\n",
    "\"\"\"\n",
    "function power(A::Array{Float64,2},x0::Array{Float64,1},\n",
    "               tol::Float64=1.0e-4,maxit::Int=10,verbose::Bool=true)\n",
    "    x = deepcopy(x0)\n",
    "    (L, previousL, err) = (0.0, 0.0, 0.0)\n",
    "    for i=1:maxit\n",
    "        if verbose\n",
    "            show(stdout, \"text/plain\", transpose(x)); println(\"\")\n",
    "        end\n",
    "        x = A*x\n",
    "        previousL = L\n",
    "        L = norm(x)\n",
    "        x = x/L\n",
    "        err = abs(previousL - L)\n",
    "        if verbose\n",
    "            strL = @sprintf(\"%.16e\", L)\n",
    "            strE = @sprintf(\"%.2e\", err)\n",
    "            println(\"|lambda1| = $strL, error = $strE\")\n",
    "        end\n",
    "        if err < tol\n",
    "            return (x, L, err, false)\n",
    "        end\n",
    "    end\n",
    "    return (x, L, err, true)\n",
    "end"
   ]
  },
  {
   "cell_type": "code",
   "execution_count": 28,
   "id": "951fb843",
   "metadata": {},
   "outputs": [
    {
     "name": "stdout",
     "output_type": "stream",
     "text": [
      "1×10 transpose(::Vector{Float64}) with eltype Float64:\n",
      " 9.798e-01  4.740e-02  5.629e-01  8.233e-01  3.148e-01  6.048e-01  9.027e-01  1.704e-01  2.557e-01  8.366e-01\n",
      "|lambda1| = 3.5354831034654235e+00, error = 3.54e+00\n",
      "1×10 transpose(::Vector{Float64}) with eltype Float64:\n",
      " 4.220e-01  2.858e-02  4.397e-01  2.517e-01  2.245e-01  3.038e-01  5.200e-01  1.090e-01  1.032e-01  3.589e-01\n",
      "|lambda1| = 1.9261517745532457e+00, error = 1.61e+00\n",
      "1×10 transpose(::Vector{Float64}) with eltype Float64:\n",
      " 3.695e-01  3.059e-02  5.195e-01  1.503e-01  2.572e-01  2.955e-01  5.448e-01  1.197e-01  8.568e-02  3.133e-01\n",
      "|lambda1| = 1.9803662570025962e+00, error = 5.42e-02\n",
      "1×10 transpose(::Vector{Float64}) with eltype Float64:\n",
      " 3.385e-01  3.135e-02  5.564e-01  9.569e-02  2.719e-01  2.883e-01  5.526e-01  1.242e-01  7.567e-02  2.865e-01\n",
      "|lambda1| = 1.9950121084516710e+00, error = 1.46e-02\n",
      "1×10 transpose(::Vector{Float64}) with eltype Float64:\n",
      " 3.220e-01  3.166e-02  5.738e-01  6.781e-02  2.787e-01  2.840e-01  5.552e-01  1.262e-01  7.041e-02  2.721e-01\n",
      "|lambda1| = 1.9987479548242335e+00, error = 3.74e-03\n",
      "1×10 transpose(::Vector{Float64}) with eltype Float64:\n",
      " 3.135e-01  3.180e-02  5.821e-01  5.378e-02  2.819e-01  2.817e-01  5.562e-01  1.271e-01  6.773e-02  2.648e-01\n",
      "|lambda1| = 1.9996866699883904e+00, error = 9.39e-04\n",
      "1×10 transpose(::Vector{Float64}) with eltype Float64:\n",
      " 3.092e-01  3.186e-02  5.862e-01  4.676e-02  2.835e-01  2.805e-01  5.566e-01  1.275e-01  6.638e-02  2.611e-01\n",
      "|lambda1| = 1.9999216475505317e+00, error = 2.35e-04\n",
      "1×10 transpose(::Vector{Float64}) with eltype Float64:\n",
      " 3.070e-01  3.189e-02  5.882e-01  4.324e-02  2.842e-01  2.798e-01  5.567e-01  1.277e-01  6.570e-02  2.592e-01\n",
      "|lambda1| = 1.9999804106405541e+00, error = 5.88e-05\n"
     ]
    },
    {
     "data": {
      "text/plain": [
       "([3.060e-01, 3.191e-02, 5.892e-01, 4.148e-02, 2.846e-01, 2.795e-01, 5.568e-01, 1.278e-01, 6.536e-02, 2.583e-01], 2.000e+00, 5.876e-05, false)"
      ]
     },
     "execution_count": 28,
     "metadata": {},
     "output_type": "execute_result"
    }
   ],
   "source": [
    "x0 = rand(10)\n",
    "power(A, x0)"
   ]
  },
  {
   "cell_type": "markdown",
   "id": "136fcc70",
   "metadata": {},
   "source": [
    "Indeed in 10 steps, the power method converged."
   ]
  },
  {
   "cell_type": "markdown",
   "id": "f7312482",
   "metadata": {},
   "source": [
    "# Question 1"
   ]
  },
  {
   "cell_type": "markdown",
   "id": "e04be317",
   "metadata": {},
   "source": [
    "Let $f(x) = \\cos(\\pi x)$.\n",
    "Suppose we want to approximate the derivative $f'(2)$.\n",
    "\n",
    "1. Compute forward differences for $h = 1/8, 1/16, 1/32, 1/64$.\n",
    "\n",
    "2. Apply extrapolation on the computed forward differences.\n",
    "\n",
    "3. How many decimal places in your answer are correct?  Justify your estimate."
   ]
  },
  {
   "cell_type": "markdown",
   "id": "04680fab",
   "metadata": {},
   "source": [
    "### Answer to Question 1"
   ]
  },
  {
   "cell_type": "markdown",
   "id": "d93c93df",
   "metadata": {},
   "source": [
    "The first two parts are answered by the function ``richardson`` below."
   ]
  },
  {
   "cell_type": "code",
   "execution_count": 2,
   "id": "5379c38d",
   "metadata": {},
   "outputs": [
    {
     "data": {
      "text/plain": [
       "richardson"
      ]
     },
     "execution_count": 2,
     "metadata": {},
     "output_type": "execute_result"
    }
   ],
   "source": [
    "using Printf\n",
    "Base.show(io::IO, f::Float64) = @printf(io, \"%.8e\", f)\n",
    "\n",
    "\"\"\"\n",
    "    richardson(f::Function,z::Float64,h::Float64,n::Int)\n",
    "\n",
    "returns the triangular table of numerical approximations of\n",
    "the derivative of f at z, with initial h value and n steps.\n",
    "\"\"\"\n",
    "function richardson(f::Function,z::Float64,h::Float64,n::Int)\n",
    "    R = zeros(n, n)\n",
    "    w = h\n",
    "    for i=1:n\n",
    "        R[i, 1] = (f(z+w) - f(z))/w\n",
    "        w = w/2\n",
    "    end\n",
    "    for j=2:n\n",
    "        for i=j:n\n",
    "            w = 2^(j-1) - 1\n",
    "            R[i, j] = (2^(j-1)*R[i, j-1] - R[i-1, j-1])/w\n",
    "        end\n",
    "    end\n",
    "    return R\n",
    "end"
   ]
  },
  {
   "cell_type": "code",
   "execution_count": 3,
   "id": "8cc45427",
   "metadata": {},
   "outputs": [
    {
     "data": {
      "text/plain": [
       "4×4 Matrix{Float64}:\n",
       " -6.08963740e-01   0.00000000e+00  0.00000000e+00  0.00000000e+00\n",
       " -3.07435514e-01  -5.90728719e-03  0.00000000e+00  0.00000000e+00\n",
       " -1.54088746e-01  -7.41979431e-04  9.79789821e-04  0.00000000e+00\n",
       " -7.70908029e-02  -9.28592482e-05  1.23514146e-04  1.18904965e-06"
      ]
     },
     "execution_count": 3,
     "metadata": {},
     "output_type": "execute_result"
    }
   ],
   "source": [
    "f(x) = cos(pi*x)\n",
    "h = 1.0/8.0\n",
    "R = richardson(f,2.0,h,4)"
   ]
  },
  {
   "cell_type": "markdown",
   "id": "dfb29609",
   "metadata": {},
   "source": [
    "3. To compute the error, we compare with the exact value."
   ]
  },
  {
   "cell_type": "code",
   "execution_count": 4,
   "id": "cf7f000f",
   "metadata": {},
   "outputs": [
    {
     "data": {
      "text/plain": [
       "-2.44929360e-16"
      ]
     },
     "execution_count": 4,
     "metadata": {},
     "output_type": "execute_result"
    }
   ],
   "source": [
    "exact = sin(pi*2.0)"
   ]
  },
  {
   "cell_type": "markdown",
   "id": "9dc17593",
   "metadata": {},
   "source": [
    "As the exact value equals zero, the error is ``1.2e-06``."
   ]
  },
  {
   "cell_type": "markdown",
   "id": "f890b53e",
   "metadata": {},
   "source": [
    "# Question 2"
   ]
  },
  {
   "cell_type": "markdown",
   "id": "74c9b689",
   "metadata": {},
   "source": [
    "Consider the quadrature rule:\n",
    "\n",
    "$$\n",
    "   \\int_{a}^b f(x) dx \\approx w_0 f(a) + w_1 f(b) + w_2 f(2b - a).\n",
    "$$\n",
    "\n",
    "1. What are the conditions on the weights $w_0$, $w_1$, $w_2$\n",
    "   so the quadrature rule has the highest possible degree of precision?\n",
    "\n",
    "2. What is the degree of precision?  Justify your answer."
   ]
  },
  {
   "cell_type": "markdown",
   "id": "c1629071",
   "metadata": {},
   "source": [
    "### Answer to Question 2"
   ]
  },
  {
   "cell_type": "markdown",
   "id": "b84a05a3",
   "metadata": {},
   "source": [
    "1. We require the basis functions are integrated exactly by the rule."
   ]
  },
  {
   "cell_type": "code",
   "execution_count": 6,
   "id": "1b1172e3",
   "metadata": {},
   "outputs": [
    {
     "data": {
      "text/plain": [
       "(w0, w1, w2, a, b)"
      ]
     },
     "execution_count": 6,
     "metadata": {},
     "output_type": "execute_result"
    }
   ],
   "source": [
    "using SymPy\n",
    "w0, w1, w2, a, b = Sym(\"w0, w1, w2, a, b\")"
   ]
  },
  {
   "cell_type": "markdown",
   "id": "73bc7008",
   "metadata": {},
   "source": [
    "We have three unknowns ``w0``, ``w1``, and ``w2``.  Therefore, we work with the first three basis functions."
   ]
  },
  {
   "cell_type": "code",
   "execution_count": 7,
   "id": "543f55a4",
   "metadata": {},
   "outputs": [
    {
     "data": {
      "text/plain": [
       "3-element Vector{var\"#b0#3\"{Int64}}:\n",
       " (::var\"#b0#3\"{Int64}) (generic function with 1 method)\n",
       " (::var\"#b0#3\"{Int64}) (generic function with 1 method)\n",
       " (::var\"#b0#3\"{Int64}) (generic function with 1 method)"
      ]
     },
     "execution_count": 7,
     "metadata": {},
     "output_type": "execute_result"
    }
   ],
   "source": [
    "B = [b0(x) = x^k for k=0:2]"
   ]
  },
  {
   "cell_type": "markdown",
   "id": "004ef22c",
   "metadata": {},
   "source": [
    "Now we apply the integration rule to the basis functions, which will give the right hand side of the equations."
   ]
  },
  {
   "cell_type": "code",
   "execution_count": 8,
   "id": "84191e2d",
   "metadata": {},
   "outputs": [
    {
     "data": {
      "text/latex": [
       "$\\left[ \\begin{array}{r}- a + b\\\\- \\frac{a^{2}}{2} + \\frac{b^{2}}{2}\\\\- \\frac{a^{3}}{3} + \\frac{b^{3}}{3}\\end{array} \\right]$\n"
      ],
      "text/plain": [
       "3-element Vector{Sym}:\n",
       "         -a + b\n",
       " -a^2/2 + b^2/2\n",
       " -a^3/3 + b^3/3"
      ]
     },
     "execution_count": 8,
     "metadata": {},
     "output_type": "execute_result"
    }
   ],
   "source": [
    "z = Sym(\"z\")\n",
    "r = [integrate(B[k](z), (z, a, b)) for k=1:3]"
   ]
  },
  {
   "cell_type": "code",
   "execution_count": 10,
   "id": "5d1c3e3a",
   "metadata": {},
   "outputs": [
    {
     "data": {
      "text/latex": [
       "$\\begin{align*}F\\end{align*}$\n"
      ],
      "text/plain": [
       "F"
      ]
     },
     "execution_count": 10,
     "metadata": {},
     "output_type": "execute_result"
    }
   ],
   "source": [
    "F = SymFunction(\"F\")"
   ]
  },
  {
   "cell_type": "code",
   "execution_count": 13,
   "id": "c728f6fb",
   "metadata": {},
   "outputs": [
    {
     "data": {
      "text/plain": [
       "rule (generic function with 1 method)"
      ]
     },
     "execution_count": 13,
     "metadata": {},
     "output_type": "execute_result"
    }
   ],
   "source": [
    "rule(F) = w0*F(a) + w1*F(b) + w2*F(2*b-a)"
   ]
  },
  {
   "cell_type": "markdown",
   "id": "4ee43632",
   "metadata": {},
   "source": [
    "Now we apply the rule to the basis functions."
   ]
  },
  {
   "cell_type": "code",
   "execution_count": 14,
   "id": "29325a8f",
   "metadata": {},
   "outputs": [
    {
     "data": {
      "text/latex": [
       "$\\left[ \\begin{array}{r}w_{0} + w_{1} + w_{2}\\\\a w_{0} + b w_{1} + w_{2} \\left(- a + 2 b\\right)\\\\a^{2} w_{0} + b^{2} w_{1} + w_{2} \\left(- a + 2 b\\right)^{2}\\end{array} \\right]$\n"
      ],
      "text/plain": [
       "3-element Vector{Sym}:\n",
       "                      w0 + w1 + w2\n",
       "       a*w0 + b*w1 + w2*(-a + 2*b)\n",
       " a^2*w0 + b^2*w1 + w2*(-a + 2*b)^2"
      ]
     },
     "execution_count": 14,
     "metadata": {},
     "output_type": "execute_result"
    }
   ],
   "source": [
    "R = [rule(B[k]) for k=1:3]"
   ]
  },
  {
   "cell_type": "code",
   "execution_count": 15,
   "id": "dcafdc8b",
   "metadata": {},
   "outputs": [
    {
     "data": {
      "text/latex": [
       "$\\left[ \\begin{array}{r}a - b + w_{0} + w_{1} + w_{2}\\\\\\frac{a^{2}}{2} + a w_{0} - \\frac{b^{2}}{2} + b w_{1} + w_{2} \\left(- a + 2 b\\right)\\\\\\frac{a^{3}}{3} + a^{2} w_{0} - \\frac{b^{3}}{3} + b^{2} w_{1} + w_{2} \\left(- a + 2 b\\right)^{2}\\end{array} \\right]$\n"
      ],
      "text/plain": [
       "3-element Vector{Sym}:\n",
       "                              a - b + w0 + w1 + w2\n",
       "       a^2/2 + a*w0 - b^2/2 + b*w1 + w2*(-a + 2*b)\n",
       " a^3/3 + a^2*w0 - b^3/3 + b^2*w1 + w2*(-a + 2*b)^2"
      ]
     },
     "execution_count": 15,
     "metadata": {},
     "output_type": "execute_result"
    }
   ],
   "source": [
    "eqs = [R[k] - r[k] for k=1:3]"
   ]
  },
  {
   "cell_type": "markdown",
   "id": "5218234c",
   "metadata": {},
   "source": [
    "The above solution applied ``SymPy`` and is computational.  Alternatively, a solution that does not involve computations, but that is also correct is below."
   ]
  },
  {
   "cell_type": "markdown",
   "id": "24a88fdb",
   "metadata": {},
   "source": [
    "Because we have three unknowns, we can impose three conditions, requiring that $f = 1, x, x^2$ are integrated correctly.\n",
    "\n",
    "$$\n",
    "   \\int_{a}^{b} 1 dx = w_0 + w_1 + w_2\n",
    "$$\n",
    "\n",
    "$$\n",
    "   \\int_{a}^{b} x dx = w_0 a + w_1 b + w_2 (2b - a)\n",
    "$$\n",
    "\n",
    "$$\n",
    "   \\int_{a}^{b} x^2 dx = w_0 a^2 + w_1 b^2 + w_2 (2b - a)^2\n",
    "$$"
   ]
  },
  {
   "cell_type": "markdown",
   "id": "aaf90486",
   "metadata": {},
   "source": [
    "The degree of precision is 2 because the first 2 basis functions are integrated correctly and the integral is a linear operator."
   ]
  },
  {
   "cell_type": "markdown",
   "id": "61a54ff6",
   "metadata": {},
   "source": [
    "# Question 3"
   ]
  },
  {
   "cell_type": "markdown",
   "id": "f5129be6",
   "metadata": {},
   "source": [
    "Derive the coefficients in the 2-stage Runge-Kutta method\n",
    "that corresponds to the application of the midpoint rule,\n",
    "that is: $\\alpha = 1/2$.\n",
    "\n",
    "1. Write the 2-stage Runge method in the standard format.\n",
    "\n",
    "2. What is local error of this method?  What is the global error?"
   ]
  },
  {
   "cell_type": "markdown",
   "id": "9a1e2bf0",
   "metadata": {},
   "source": [
    "### Answer to Question 3"
   ]
  },
  {
   "cell_type": "markdown",
   "id": "d2a6047c",
   "metadata": {},
   "source": [
    "1. The coefficients of the 2-stage Runge-Kutta method that applies the midpoint rule satisfy the following equations\n",
    "\n",
    "$$\n",
    "   a + b = h\n",
    "$$\n",
    "\n",
    "$$\n",
    "   \\alpha b h = h^2/2\n",
    "$$\n",
    "\n",
    "$$\n",
    "   b \\beta = h^2/2\n",
    "$$"
   ]
  },
  {
   "cell_type": "markdown",
   "id": "dc26061c",
   "metadata": {},
   "source": [
    "Using $\\alpha = 1/2$, we obtain $b = h/2$, $a = h/2$, and $\\beta = h$."
   ]
  },
  {
   "cell_type": "markdown",
   "id": "4ac61e97",
   "metadata": {},
   "source": [
    "In standard format, the rule is written as\n",
    "\n",
    "$$\n",
    "   k_1 = f(x_n, y_n)\n",
    "$$\n",
    "\n",
    "$$\n",
    "   k_2 = f(x_n + h/2, y + h k_1)\n",
    "$$\n",
    "\n",
    "$$\n",
    "   y_{n+1} = y_n + \\frac{h}{2} ( k_1 + k_2 )\n",
    "$$"
   ]
  },
  {
   "cell_type": "markdown",
   "id": "809280f8",
   "metadata": {},
   "source": [
    "2. A 2-stage Runge-Kutta method has local error $O(h^3)$ and global error $O(h^2)$."
   ]
  },
  {
   "cell_type": "markdown",
   "id": "f7f09d14",
   "metadata": {},
   "source": [
    "# Question 4"
   ]
  },
  {
   "cell_type": "markdown",
   "id": "9e1c5268",
   "metadata": {},
   "source": [
    "Suppose we want to solve an initial value problem\n",
    "$y' = f(x,y)$, $y(0) = y_0$,\n",
    "with a predictor-corrector method using five points in each step.\n",
    "\n",
    "1. Calculate how many times we evaluate $f$ to approximate $y(1.2)$,\n",
    "   using step size $h = 0.15$.\n",
    "\n",
    "2. Justify your answer."
   ]
  },
  {
   "cell_type": "markdown",
   "id": "2db17cd1",
   "metadata": {},
   "source": [
    "### Answer to Question 4"
   ]
  },
  {
   "cell_type": "markdown",
   "id": "56f6e834",
   "metadata": {},
   "source": [
    "We divide the interval $[0,1.2]$ using the step size 0.15."
   ]
  },
  {
   "cell_type": "code",
   "execution_count": 5,
   "id": "abbbac5c",
   "metadata": {},
   "outputs": [],
   "source": [
    "s = \"\"\"\n",
    "        5      5      5      5      5      1      1      1      1\n",
    "        +------+------+------+------+------+------+------+------+\n",
    "       0.0    0.15   0.3    0.45   0.6    0.75   0.9    1.05   1.2\n",
    "\"\"\";"
   ]
  },
  {
   "cell_type": "markdown",
   "id": "db85133b",
   "metadata": {},
   "source": [
    "Only after the first five steps can we apply a predictor-corrector method, after we have computed the first five approximations. \n",
    "For the five steps we must apply a 5-stage Runge-Kutta method, to obtain the same accuracy of the predictor-corrector method."
   ]
  },
  {
   "cell_type": "markdown",
   "id": "b76650c9",
   "metadata": {},
   "source": [
    "A predictor-corrector method uses one new function evaluation in each step.\n",
    "A 5-stage Runge-Kutta method uses five function evaluations in each step."
   ]
  },
  {
   "cell_type": "markdown",
   "id": "beec7ac1",
   "metadata": {},
   "source": [
    "Adding up all function evaluations leads to 29 function evaluations."
   ]
  },
  {
   "cell_type": "markdown",
   "id": "b92fd9c7",
   "metadata": {},
   "source": [
    "# Question 5"
   ]
  },
  {
   "cell_type": "markdown",
   "id": "799fd753",
   "metadata": {},
   "source": [
    "We want to apply the finite difference method \n",
    "to solve the boundary value problem\n",
    "\n",
    "$$\n",
    "   y'' = 6x^2, \\quad y(0) = 5, \\quad y'(1) = 1.\n",
    "$$\n",
    "\n",
    "1. Setup the linear system for $h = 0.2$.\n",
    "\n",
    "\n",
    "2. How small should $h$ be for an accuracy of 4 decimal places?\n",
    "        \n",
    "   Justify your answer."
   ]
  },
  {
   "cell_type": "markdown",
   "id": "ea63bc13",
   "metadata": {},
   "source": [
    "### Answer to Question 5"
   ]
  },
  {
   "cell_type": "markdown",
   "id": "ef6a60f9",
   "metadata": {},
   "source": [
    "1. Because this is a mixed boundary value problem, we have four internal points and the boundary value y(1).\n",
    "\n",
    "y0 = y(x0) = y(0) = 5\n",
    "\n",
    "y1 approximates y(0.2)\n",
    "\n",
    "y2 approximates y(0.4)\n",
    "\n",
    "y3 approximates y(0.6)\n",
    "\n",
    "y4 approximates y(0.8)\n",
    "\n",
    "y5 approximates y(1.0)\n",
    "\n",
    "For y5 we use central differences $y'(1) = (y(1+h) - y(1-h))/(2 h) = 1$ or $y6 = y4 + 2 h$."
   ]
  },
  {
   "cell_type": "markdown",
   "id": "7bd7bba6",
   "metadata": {},
   "source": [
    "For the general equation, we use central differences as well\n",
    "\n",
    "$$\n",
    "    \\frac{y(i-1) - 2 y(i) + y(i+1)}{h^2} = 6x(i)^2, \\quad \\mbox{for } i = 1,2, .., 5.\n",
    "$$\n",
    "\n",
    "so we have 5 equations in the five unknowns, $x(i) = i h$."
   ]
  },
  {
   "cell_type": "markdown",
   "id": "9157b92a",
   "metadata": {},
   "source": [
    "$i = 1$: $-2y_1 + y_2 = 6 h^4 - 5$\n",
    "\n",
    "$i = 2$: $y_1 - 2y_2 + y_3 = h^2 6 (2h)^2$\n",
    "\n",
    "$i = 3$: $y_2 - 2y_3 + y_4 = h^2 6 (3h)^2$\n",
    "\n",
    "$i = 4$: $y_3 - 2y_4 + y_5 = h^2 6 (4h)^2$\n",
    "\n",
    "$i = 5$: $2y_4 - 2y_5 = h^2 6 (5h)^2 - 2h$"
   ]
  },
  {
   "cell_type": "markdown",
   "id": "eb520397",
   "metadata": {},
   "source": [
    "2. The error of central differences is $O(h^2)$.  For an accuracy of 4 decimal places or $10^{-4}$, take $h = 10^{-2}$."
   ]
  },
  {
   "cell_type": "markdown",
   "id": "216bd31f",
   "metadata": {},
   "source": [
    "# Question 1"
   ]
  },
  {
   "cell_type": "markdown",
   "id": "408f4a45",
   "metadata": {},
   "source": [
    "Let $f$ be some function and $A$ be some point.\n",
    "\n",
    "Consider forward differences to approximate $f'(A)$,\n",
    "the value of the derivative of $f$ at $A$.\n",
    "\n",
    "1. If the step size $h = 10^{-2}$, then how many decimal places of\n",
    "   accuracy will the forward difference approximation for $f'(A)$ have?\n",
    "  \n",
    "   Justify your answer.\n",
    "\n",
    "\n",
    "2. Consider $f(x) = \\sin(x)$ and $A = 0.0$.\n",
    "   Apply forward differences to approximate $f'(A)$.\n",
    "\n",
    "   What is the accuracy of the forward difference approximation\n",
    "   for $f'(A)$ with $h = 10^{-2}$?\n",
    "\n",
    "   Use the Taylor series for $\\sin(x)$ in the explanation of your answer."
   ]
  },
  {
   "cell_type": "markdown",
   "id": "aa924566",
   "metadata": {},
   "source": [
    "### Answer to Question 1"
   ]
  },
  {
   "cell_type": "markdown",
   "id": "f4f9d790",
   "metadata": {},
   "source": [
    "1. The forward differences have an order of accuracy of $O(h)$.  This implies that if $h = 10^{-2}$, then the error will also be about $10^{-2}$, so we may expect to have about 2 decimal places of accuracy."
   ]
  },
  {
   "cell_type": "markdown",
   "id": "d89e2c25",
   "metadata": {},
   "source": [
    "2. We apply the forward difference operator to approximate the derivative of $\\sin$ at $0.0$, with $h = 10^{-2}$."
   ]
  },
  {
   "cell_type": "code",
   "execution_count": 1,
   "id": "56729779",
   "metadata": {},
   "outputs": [
    {
     "data": {
      "text/plain": [
       "0.9999833334166665"
      ]
     },
     "execution_count": 1,
     "metadata": {},
     "output_type": "execute_result"
    }
   ],
   "source": [
    "h = 1.0e-2\n",
    "A = 0.0\n",
    "dfA = (sin(A+h) - sin(A))/h"
   ]
  },
  {
   "cell_type": "markdown",
   "id": "3ed94dd2",
   "metadata": {},
   "source": [
    "The derivative of $\\sin$ equals $\\cos$, which evaluates to 1.0 at 0.0, so we can compute the error as follows:"
   ]
  },
  {
   "cell_type": "code",
   "execution_count": 2,
   "id": "98ae0974",
   "metadata": {},
   "outputs": [
    {
     "data": {
      "text/plain": [
       "1.6666583333546647e-5"
      ]
     },
     "execution_count": 2,
     "metadata": {},
     "output_type": "execute_result"
    }
   ],
   "source": [
    "abs(dfA - 1.0)"
   ]
  },
  {
   "cell_type": "markdown",
   "id": "f2041978",
   "metadata": {},
   "source": [
    "So we have at least four decimal places correct, twice as what was expected, because the exponents in the power series of $\\sin$ are odd."
   ]
  },
  {
   "cell_type": "markdown",
   "id": "1bc8c868",
   "metadata": {},
   "source": [
    "# Question 2"
   ]
  },
  {
   "cell_type": "markdown",
   "id": "1f6180bf",
   "metadata": {},
   "source": [
    "Consider $\\displaystyle \\int_0^1 \\frac{x}{\\sqrt{x^4 + 1}} dx$.\n",
    "\n",
    "1. Use the composite trapezoidal rule for $n=1,2,4,8,16$.\n",
    "\n",
    "2. Apply Romberg integration to improve the approximation.\n",
    "\n",
    "3. How many decimal places in your answer are correct?  Justify your estimate."
   ]
  },
  {
   "cell_type": "markdown",
   "id": "64bea187",
   "metadata": {},
   "source": [
    "### Answer to Question 2"
   ]
  },
  {
   "cell_type": "markdown",
   "id": "e8168235",
   "metadata": {},
   "source": [
    "1. We copy the function to run the Trapezoidal rule."
   ]
  },
  {
   "cell_type": "code",
   "execution_count": 3,
   "id": "f21d6ed5",
   "metadata": {},
   "outputs": [
    {
     "data": {
      "text/plain": [
       "adaptrap"
      ]
     },
     "execution_count": 3,
     "metadata": {},
     "output_type": "execute_result"
    }
   ],
   "source": [
    "\"\"\"\n",
    "    function adaptrap(f::Function,a::Float64,b::Float64,n::Int64)\n",
    "\n",
    "Returns a vector of n approximations for the definite integral of\n",
    "the function f over the interval [a,b], the i-th entry in the vector\n",
    "uses 2^i function evaluations.\n",
    "The degree of precision is 5 because the first 5 basis functions are integrated correctly and the integral is a linear operator.\n",
    "Example:\n",
    "\n",
    "    t = adaptrap(cos,0,pi/2,10)\n",
    "\"\"\"\n",
    "function adaptrap(f::Function,a::Float64,b::Float64,n::Int64)\n",
    "    t = zeros(n)\n",
    "    h = (b-a)        # size of subinterval\n",
    "    m = 1            # number of subintervals\n",
    "    t[1] = (f(a) + f(b))*h/2\n",
    "    for i = 2:n\n",
    "        h = h/2\n",
    "        for j=0:m-1\n",
    "            t[i] = t[i] + f(a+h+j*2*h)\n",
    "        end;\n",
    "        t[i] = t[i-1]/2 + h*t[i]\n",
    "        m = 2*m\n",
    "    end\n",
    "    return t\n",
    "end"
   ]
  },
  {
   "cell_type": "code",
   "execution_count": 4,
   "id": "78690c31",
   "metadata": {},
   "outputs": [
    {
     "data": {
      "text/plain": [
       "5-element Vector{Float64}:\n",
       " 0.35355339059327373\n",
       " 0.41931232033296983\n",
       " 0.43545485953251845\n",
       " 0.43938326285891693\n",
       " 0.44036118262969365"
      ]
     },
     "execution_count": 4,
     "metadata": {},
     "output_type": "execute_result"
    }
   ],
   "source": [
    "f(x) = x/sqrt(x^4+1)\n",
    "T = adaptrap(f,0.0,1.0,5)"
   ]
  },
  {
   "cell_type": "markdown",
   "id": "c04b4f25",
   "metadata": {},
   "source": [
    "2. We copy the function ``romberg``."
   ]
  },
  {
   "cell_type": "code",
   "execution_count": 5,
   "id": "1cdf17b7",
   "metadata": {},
   "outputs": [
    {
     "data": {
      "text/plain": [
       "romberg"
      ]
     },
     "execution_count": 5,
     "metadata": {},
     "output_type": "execute_result"
    }
   ],
   "source": [
    "\"\"\"\n",
    "    function romberg(t::Array{Float64,1})\n",
    "\n",
    "Applies extrapolation to the approximations in t,\n",
    "returned by the composite Trapezoidal rule.\n",
    "\n",
    "Example:\n",
    "\n",
    "    t = adaptrap(cos,0,pi/2,6)\n",
    "    et = romberg(t);\n",
    "\"\"\"\n",
    "function romberg(t::Array{Float64,1})\n",
    "    n = length(t)\n",
    "    et = zeros(n,n)\n",
    "    et[:,1] = t\n",
    "    for i = 2:n\n",
    "        for j = 2:i\n",
    "            r = 4^(j-1)\n",
    "            et[i,j] = (r*et[i,j-1] - et[i-1,j-1])/(r - 1);\n",
    "       end\n",
    "    end\n",
    "    return et\n",
    "end"
   ]
  },
  {
   "cell_type": "code",
   "execution_count": 6,
   "id": "1ce88891",
   "metadata": {},
   "outputs": [
    {
     "data": {
      "text/plain": [
       "5×5 Matrix{Float64}:\n",
       " 0.353553  0.0       0.0       0.0       0.0\n",
       " 0.419312  0.441232  0.0       0.0       0.0\n",
       " 0.435455  0.440836  0.440809  0.0       0.0\n",
       " 0.439383  0.440693  0.440683  0.440681  0.0\n",
       " 0.440361  0.440687  0.440687  0.440687  0.440687"
      ]
     },
     "execution_count": 6,
     "metadata": {},
     "output_type": "execute_result"
    }
   ],
   "source": [
    "R = romberg(T)"
   ]
  },
  {
   "cell_type": "markdown",
   "id": "c3fbb016",
   "metadata": {},
   "source": [
    "3. To compute the error, let us print an error table, using the last element as the exact number."
   ]
  },
  {
   "cell_type": "code",
   "execution_count": 7,
   "id": "50930999",
   "metadata": {},
   "outputs": [],
   "source": [
    "using Printf"
   ]
  },
  {
   "cell_type": "code",
   "execution_count": 8,
   "id": "cb833570",
   "metadata": {},
   "outputs": [
    {
     "name": "stdout",
     "output_type": "stream",
     "text": [
      "  8.71e-02\n",
      "  2.14e-02  5.45e-04\n",
      "  5.23e-03  1.49e-04  1.22e-04\n",
      "  1.30e-03  5.87e-06  3.66e-06  5.67e-06\n",
      "  3.26e-04  2.93e-07  7.90e-08  2.21e-08  0.00e+00\n"
     ]
    }
   ],
   "source": [
    "exact = R[end,end]\n",
    "for i=1:5\n",
    "    for j=1:i\n",
    "        err = abs(R[i,j] - exact)\n",
    "        strerr = @sprintf(\"%.2e\", err)\n",
    "        print(\"  \", strerr)\n",
    "    end\n",
    "    println(\"\")\n",
    "end"
   ]
  },
  {
   "cell_type": "markdown",
   "id": "2387fa82",
   "metadata": {},
   "source": [
    "We may expect to have at least 8 decimal places correct."
   ]
  },
  {
   "cell_type": "markdown",
   "id": "205cf404",
   "metadata": {},
   "source": [
    "Let us double with SymPy and compute the exact value of the integral."
   ]
  },
  {
   "cell_type": "code",
   "execution_count": 9,
   "id": "b0dc3b11",
   "metadata": {},
   "outputs": [
    {
     "data": {
      "text/latex": [
       "$\\frac{\\log{\\left(1 + \\sqrt{2} \\right)}}{2}$"
      ],
      "text/plain": [
       "   /      ___\\\n",
       "log\\1 + \\/ 2 /\n",
       "--------------\n",
       "      2       "
      ]
     },
     "execution_count": 9,
     "metadata": {},
     "output_type": "execute_result"
    }
   ],
   "source": [
    "using SymPy\n",
    "z = Sym(\"z\")\n",
    "exactval = integrate(z/sqrt(z^4 + 1), (z, 0, 1))"
   ]
  },
  {
   "cell_type": "code",
   "execution_count": 10,
   "id": "3700bdea",
   "metadata": {},
   "outputs": [
    {
     "data": {
      "text/plain": [
       "6.976820265958139e-8"
      ]
     },
     "execution_count": 10,
     "metadata": {},
     "output_type": "execute_result"
    }
   ],
   "source": [
    "abs(R[end,end] - Float64(exactval))"
   ]
  },
  {
   "cell_type": "markdown",
   "id": "3882bae6",
   "metadata": {},
   "source": [
    "Indeed, we do have 8 correct decimal places."
   ]
  },
  {
   "cell_type": "markdown",
   "id": "fb583044",
   "metadata": {},
   "source": [
    "# Question 3"
   ]
  },
  {
   "cell_type": "markdown",
   "id": "8e9802cb",
   "metadata": {},
   "source": [
    "Consider the differential equation\n",
    "\n",
    "$$\n",
    "   \\frac{d^4 y}{d~\\!x^4} \n",
    "   - \\mbox{0.8301} \\frac{d^3 y}{d~\\!x^3} \n",
    "   + \\mbox{0.3488} \\frac{d^2 y}{d~\\!x^2} \n",
    "   - \\mbox{0.7136} \\frac{d~\\!y}{d~\\!x} \n",
    "   + \\mbox{0.4862} y = x,\n",
    "$$\n",
    "\n",
    "for some initial conditions \n",
    "$y(0) = A$, $y'(0) = B$, $y''(0) = C$, $y'''(0) = D$.\n",
    "\n",
    "\n",
    "1. Rewrite this equation as a system of first order equations.\n",
    "\n",
    "\n",
    "2. What is the long term behavior of the solution?\n",
    "\n",
    "   Is the solution decaying, oscillating, or diverging?  Justify your answer."
   ]
  },
  {
   "cell_type": "markdown",
   "id": "863bf9a9",
   "metadata": {},
   "source": [
    "### Answer to Question 3"
   ]
  },
  {
   "cell_type": "markdown",
   "id": "c5cf97cc",
   "metadata": {},
   "source": [
    "1. To rewrite the equation as a system, we introduce new variables, $y_1 = y$.\n",
    "\n",
    "$$\n",
    "    y'_1 = y_2\n",
    "$$\n",
    "\n",
    "$$\n",
    "    y'_2 = y_3  \n",
    "$$\n",
    "\n",
    "$$\n",
    "    y'_3 = y_4\n",
    "$$\n",
    "\n",
    "$$\n",
    "    y'_4 = 0.8301 y_4 - 0.3488 y_3 + 0.7136 y_2 - 0.4862 y_1 + x\n",
    "$$"
   ]
  },
  {
   "cell_type": "markdown",
   "id": "00f39a21",
   "metadata": {},
   "source": [
    "2. We compute the roots of the characteristic equation."
   ]
  },
  {
   "cell_type": "code",
   "execution_count": 11,
   "id": "47c9180f",
   "metadata": {},
   "outputs": [
    {
     "data": {
      "text/plain": [
       "4-element Vector{ComplexF64}:\n",
       " -0.8456192434679478 - 0.8721545596974783im\n",
       " -0.8456192434679478 + 0.8721545596974783im\n",
       "   0.430569243467948 - 0.3795723874872388im\n",
       "   0.430569243467948 + 0.3795723874872388im"
      ]
     },
     "execution_count": 11,
     "metadata": {},
     "output_type": "execute_result"
    }
   ],
   "source": [
    "A = zeros(4,4)\n",
    "A[1,2] = 1.0\n",
    "A[2,3] = 1.0\n",
    "A[3,4] = 1.0\n",
    "A[4,1] = -0.4862\n",
    "A[4,2] = 0.7136\n",
    "A[4,3] = -0.3488\n",
    "A[4,4] = -0.8301\n",
    "using LinearAlgebra\n",
    "roots = eigvals(A)"
   ]
  },
  {
   "cell_type": "markdown",
   "id": "584f388f",
   "metadata": {},
   "source": [
    "Some eigenvalues $\\lambda$ have a positive real part.  As the general form of the solution is a linear combination of $\\exp(\\lambda x)$, the solution is diverging as $x$ goes to infinity.  The solution is also oscillating as some eigenvalues have nonzero imaginary parts."
   ]
  },
  {
   "cell_type": "markdown",
   "id": "6dff7959",
   "metadata": {},
   "source": [
    "# Question 4"
   ]
  },
  {
   "cell_type": "markdown",
   "id": "dc518b9c",
   "metadata": {},
   "source": [
    "We want to determine the coefficients $c_1$, $c_2$, $c_3$, $c_4$ in\n",
    "\n",
    "$$\n",
    "   \\int_{x_n}^{x_{n+1}} f(x, y(x)) dx\n",
    "   \\approx c_1 f_n + c_2 f_{n-1} + c_3 f_{n-2} + c_4 f_{n-3}\n",
    "$$\n",
    "\n",
    "so that the degree of precision is as high as possible.\n",
    "\n",
    "\n",
    "1. Write the conditions on the coefficients.\n",
    "\n",
    "   Do not solve the system of equations.\n",
    "\n",
    "\n",
    "2. What is the degree of precision?  Justify your answer."
   ]
  },
  {
   "cell_type": "markdown",
   "id": "c61f7dc4",
   "metadata": {},
   "source": [
    "### Answer to Question 4"
   ]
  },
  {
   "cell_type": "markdown",
   "id": "6b4f5666",
   "metadata": {},
   "source": [
    "1. Set $h = x_{n+1} - x_n$.  Without loss of generality: $x_n = 0$, then $x_{n-1} = -h$, $x_{n-2} = -2h$, and $x_{n-3} = -3h$.\n",
    "\n",
    "We require that $f = 1, x, x^2, x^3$ is integrated correctly by the rule."
   ]
  },
  {
   "cell_type": "markdown",
   "id": "90f160a7",
   "metadata": {},
   "source": [
    "$$\n",
    "   \\int_0^h 1 dx = c_1 1 + c_2 1 + c_3 1 + c_4 1\n",
    "$$\n",
    "\n",
    "$$\n",
    "   \\int_0^h x dx = c_1 0 + c_2 (-h) + c_3 (-2h) + c_4 (-3h)\n",
    "$$\n",
    "\n",
    "$$\n",
    "   \\int_0^h x^2 dx = c_1 0^2 + c_2 (-h)^2 + c_3 (-2h)^2 + c_4 (-3h)^2\n",
    "$$\n",
    "\n",
    "$$\n",
    "   \\int_0^h x^3 dx = c_1 0^3 + c_2 (-h)^3 + c_3 (-2h)^3 + c_4 (-3h)^3\n",
    "$$"
   ]
  },
  {
   "cell_type": "markdown",
   "id": "9d9d06f4",
   "metadata": {},
   "source": [
    "2. The degree of precision is three, as every cubic polynomial will be integrated correctly by the rule, because the four coefficients satisfy the conditions that express that the first four basis functions are integrated correctly and the integral operator is a linear operator."
   ]
  },
  {
   "cell_type": "markdown",
   "id": "e2bfcbad",
   "metadata": {},
   "source": [
    "# Question 5"
   ]
  },
  {
   "cell_type": "markdown",
   "id": "6800e0b6",
   "metadata": {},
   "source": [
    "Consider the application of the Galerkin method to\n",
    "\n",
    "$$\n",
    "   y'' = 6 x^2,  \\quad y'(0) = -1, \\quad y'(1) = 1,\n",
    "$$\n",
    "\n",
    "for $h = 1/n$, for some positive integer $n > 1$.\n",
    "\n",
    "\n",
    "1. Write the equation that minimizes the residual.\n",
    "\n",
    "2. Formulate the conditions imposed by the Galerkin method."
   ]
  },
  {
   "cell_type": "markdown",
   "id": "c0d089dc",
   "metadata": {},
   "source": [
    "### Answer to Question 5"
   ]
  },
  {
   "cell_type": "markdown",
   "id": "d681db2f",
   "metadata": {},
   "source": [
    "1. Let $\\displaystyle S(x) = \\sum_{i=0}^{n+1} c_i \\phi_i(x)$\n",
    "be the piecewise linear B-spline."
   ]
  },
  {
   "cell_type": "markdown",
   "id": "1b47c1ef",
   "metadata": {},
   "source": [
    "The condition that $S(x)$ minimizes the residual is\n",
    "\n",
    "$$\n",
    "  \\int_0^1 \\left( \\vphantom{\\frac{h}{2}} S''(x) - 6 x^2 \\right)\n",
    "   \\phi_i(x) dx.\n",
    "$$"
   ]
  },
  {
   "cell_type": "markdown",
   "id": "f7e1df43",
   "metadata": {},
   "source": [
    "2. The second derivative in\n",
    "\n",
    "$$\n",
    "  \\int_0^1 \\left( \\vphantom{\\frac{h}{2}} S''(x) - 6 x^2 \\right)\n",
    "   \\phi_i(x) dx\n",
    "$$\n",
    "\n",
    "is eliminated, for $i=0,1,\\ldots,n+1$: \n",
    "\n",
    "$$\n",
    "   S'(1) \\phi_i(1) - S'(0) \\phi_i(0)\n",
    "   - \\int_0^1 S'(x) \\phi'_i(x) dx = 6 \\int_0^1 x^2 \\phi_i(x) dx.\n",
    "$$"
   ]
  },
  {
   "cell_type": "markdown",
   "id": "30f41a3d",
   "metadata": {},
   "source": [
    "# Question 1"
   ]
  },
  {
   "cell_type": "markdown",
   "id": "35acda00",
   "metadata": {},
   "source": [
    "Let $f$ be some function and $A$ be some point.\n",
    "\n",
    "Consider central differences to approximate $f'(A)$,\n",
    "the value of the derivative of $f$ at $A$.\n",
    "\n",
    "1. If the step size $h = 10^{-2}$, then how many decimal places of\n",
    "   accuracy will the central difference approximation for $f'(A)$ have?\n",
    "\n",
    "   Justify your answer.\n",
    "\n",
    "        \n",
    "2. Consider $f(x) = \\cos(x)$ and $A = \\pi/2$.\n",
    "   Apply central differences to approximate $f'(A)$.\n",
    "\n",
    "   What is the accuracy of the central difference approximation\n",
    "   for $f'(A)$ with $h = 10^{-2}$?\n",
    "\n",
    "   Use the Taylor series for $\\cos(x)$ in the explanation of your answer."
   ]
  },
  {
   "cell_type": "markdown",
   "id": "7dcf985d",
   "metadata": {},
   "source": [
    "### Answer to Question 1"
   ]
  },
  {
   "cell_type": "markdown",
   "id": "dfbbb90c",
   "metadata": {},
   "source": [
    "1. The central differences have an order of $O(h^2)$.  This implies that, if $h = 10^{-2}$, the error will be about $10^{-4}$, and we may expect to have about 4 correct decimal places."
   ]
  },
  {
   "cell_type": "markdown",
   "id": "a8ab83e7",
   "metadata": {},
   "source": [
    "2. We apply the central difference operator to $\\cos$ at $A = \\pi/2$, with $h = 10^{-2}$."
   ]
  },
  {
   "cell_type": "code",
   "execution_count": 3,
   "id": "bd969b99",
   "metadata": {},
   "outputs": [
    {
     "data": {
      "text/plain": [
       "-0.9999958333385205"
      ]
     },
     "execution_count": 3,
     "metadata": {},
     "output_type": "execute_result"
    }
   ],
   "source": [
    "A = pi/2\n",
    "h = 1.0e-2\n",
    "dfA = (cos(A+h/2) - cos(A-h/2))/h"
   ]
  },
  {
   "cell_type": "code",
   "execution_count": 5,
   "id": "e0de4b3d",
   "metadata": {},
   "outputs": [
    {
     "data": {
      "text/plain": [
       "-1.0"
      ]
     },
     "execution_count": 5,
     "metadata": {},
     "output_type": "execute_result"
    }
   ],
   "source": [
    "exact = -sin(A)"
   ]
  },
  {
   "cell_type": "code",
   "execution_count": 6,
   "id": "6ed60b34",
   "metadata": {},
   "outputs": [
    {
     "data": {
      "text/plain": [
       "4.166661479509948e-6"
      ]
     },
     "execution_count": 6,
     "metadata": {},
     "output_type": "execute_result"
    }
   ],
   "source": [
    "error = abs(dfA - exact)"
   ]
  },
  {
   "cell_type": "markdown",
   "id": "13015f21",
   "metadata": {},
   "source": [
    "We see that the accuracy of the approximation is about six decimal places, while we expected four.  This is because of the power series of $\\cos(x)$, in which only even powers of $x$ appear."
   ]
  },
  {
   "cell_type": "markdown",
   "id": "22c8d733",
   "metadata": {},
   "source": [
    "# Question 2"
   ]
  },
  {
   "cell_type": "markdown",
   "id": "ab3c2371",
   "metadata": {},
   "source": [
    "Consider the quadrature rule:\n",
    "\n",
    "$$\n",
    "   \\int_{a}^b f(x) dx \\approx w_0 f(2a - b) + w_1 f(a) + w_2 f(b).\n",
    "$$\n",
    "                    \n",
    "1. What are the conditions on the weights $w_0$, $w_1$, $w_2$\n",
    "   so the quadrature rule has the highest possible degree of precision?\n",
    "\n",
    "2. What is the degree of precision?  Justify your answer."
   ]
  },
  {
   "cell_type": "markdown",
   "id": "9552332e",
   "metadata": {},
   "source": [
    "### Answer to Question 2"
   ]
  },
  {
   "cell_type": "markdown",
   "id": "2801147b",
   "metadata": {},
   "source": [
    "1. We require that the basis functions are integrated exactly by the rule."
   ]
  },
  {
   "cell_type": "code",
   "execution_count": 9,
   "id": "51d7738c",
   "metadata": {},
   "outputs": [
    {
     "data": {
      "text/plain": [
       "(w0, w1, w2, a, b)"
      ]
     },
     "execution_count": 9,
     "metadata": {},
     "output_type": "execute_result"
    }
   ],
   "source": [
    "using SymPy\n",
    "w0, w1, w2, a, b = Sym(\"w0, w1, w2, a, b\")"
   ]
  },
  {
   "cell_type": "markdown",
   "id": "91e2cc7d",
   "metadata": {},
   "source": [
    "The ``a`` and ``b`` are parameters, the three unknowns are the three weights, so we consider the first three basis functions."
   ]
  },
  {
   "cell_type": "code",
   "execution_count": 10,
   "id": "73d77748",
   "metadata": {},
   "outputs": [
    {
     "data": {
      "text/plain": [
       "3-element Vector{var\"#b0#3\"{Int64}}:\n",
       " (::var\"#b0#3\"{Int64}) (generic function with 1 method)\n",
       " (::var\"#b0#3\"{Int64}) (generic function with 1 method)\n",
       " (::var\"#b0#3\"{Int64}) (generic function with 1 method)"
      ]
     },
     "execution_count": 10,
     "metadata": {},
     "output_type": "execute_result"
    }
   ],
   "source": [
    "B = [b0(x) = x^k for k=0:2]"
   ]
  },
  {
   "cell_type": "markdown",
   "id": "42493d8c",
   "metadata": {},
   "source": [
    "We compute the right hand sides of the equations by integrating the basis functions over the interval $[a, b]$."
   ]
  },
  {
   "cell_type": "code",
   "execution_count": 11,
   "id": "a22f835b",
   "metadata": {},
   "outputs": [
    {
     "data": {
      "text/latex": [
       "$\\left[ \\begin{array}{r}- a + b\\\\- \\frac{a^{2}}{2} + \\frac{b^{2}}{2}\\\\- \\frac{a^{3}}{3} + \\frac{b^{3}}{3}\\end{array} \\right]$\n"
      ],
      "text/plain": [
       "3-element Vector{Sym}:\n",
       "         -a + b\n",
       " -a^2/2 + b^2/2\n",
       " -a^3/3 + b^3/3"
      ]
     },
     "execution_count": 11,
     "metadata": {},
     "output_type": "execute_result"
    }
   ],
   "source": [
    "z = Sym(\"z\")\n",
    "r = [integrate(B[k](z), (z, a, b)) for k=1:3]"
   ]
  },
  {
   "cell_type": "code",
   "execution_count": 12,
   "id": "a1bd08b3",
   "metadata": {},
   "outputs": [
    {
     "data": {
      "text/latex": [
       "$\\begin{align*}F\\end{align*}$\n"
      ],
      "text/plain": [
       "F"
      ]
     },
     "execution_count": 12,
     "metadata": {},
     "output_type": "execute_result"
    }
   ],
   "source": [
    "F = SymFunction(\"F\")"
   ]
  },
  {
   "cell_type": "code",
   "execution_count": 13,
   "id": "c3fb7656",
   "metadata": {},
   "outputs": [
    {
     "data": {
      "text/plain": [
       "rule (generic function with 1 method)"
      ]
     },
     "execution_count": 13,
     "metadata": {},
     "output_type": "execute_result"
    }
   ],
   "source": [
    "rule(F) = w0*F(2*a-b) + w1*F(a) + w2*F(b)"
   ]
  },
  {
   "cell_type": "markdown",
   "id": "a44767a3",
   "metadata": {},
   "source": [
    "Now we apply the rule to the three basis functions."
   ]
  },
  {
   "cell_type": "code",
   "execution_count": 14,
   "id": "ee90398a",
   "metadata": {},
   "outputs": [
    {
     "data": {
      "text/latex": [
       "$\\left[ \\begin{array}{r}w_{0} + w_{1} + w_{2}\\\\a w_{1} + b w_{2} + w_{0} \\left(2 a - b\\right)\\\\a^{2} w_{1} + b^{2} w_{2} + w_{0} \\left(2 a - b\\right)^{2}\\end{array} \\right]$\n"
      ],
      "text/plain": [
       "3-element Vector{Sym}:\n",
       "                     w0 + w1 + w2\n",
       "       a*w1 + b*w2 + w0*(2*a - b)\n",
       " a^2*w1 + b^2*w2 + w0*(2*a - b)^2"
      ]
     },
     "execution_count": 14,
     "metadata": {},
     "output_type": "execute_result"
    }
   ],
   "source": [
    "R = [rule(B[k]) for k=1:3]"
   ]
  },
  {
   "cell_type": "code",
   "execution_count": 15,
   "id": "94ebf25e",
   "metadata": {},
   "outputs": [
    {
     "data": {
      "text/latex": [
       "$\\left[ \\begin{array}{r}a - b + w_{0} + w_{1} + w_{2}\\\\\\frac{a^{2}}{2} + a w_{1} - \\frac{b^{2}}{2} + b w_{2} + w_{0} \\left(2 a - b\\right)\\\\\\frac{a^{3}}{3} + a^{2} w_{1} - \\frac{b^{3}}{3} + b^{2} w_{2} + w_{0} \\left(2 a - b\\right)^{2}\\end{array} \\right]$\n"
      ],
      "text/plain": [
       "3-element Vector{Sym}:\n",
       "                             a - b + w0 + w1 + w2\n",
       "       a^2/2 + a*w1 - b^2/2 + b*w2 + w0*(2*a - b)\n",
       " a^3/3 + a^2*w1 - b^3/3 + b^2*w2 + w0*(2*a - b)^2"
      ]
     },
     "execution_count": 15,
     "metadata": {},
     "output_type": "execute_result"
    }
   ],
   "source": [
    "eqs = [R[k] - r[k] for k=1:3]"
   ]
  },
  {
   "cell_type": "markdown",
   "id": "b4f68f30",
   "metadata": {},
   "source": [
    "The above solution uses SymPy and is computational.  An alternative solution is below."
   ]
  },
  {
   "cell_type": "markdown",
   "id": "803974c0",
   "metadata": {},
   "source": [
    "Because we have three unknowns, we can impose three conditions, requiring that $f = 1, x, x^2$ are integrated correctly.\n",
    "\n",
    "$$\n",
    "   \\int_{a}^{b} 1 dx = w_0 + w_1 + w_2\n",
    "$$\n",
    "\n",
    "$$\n",
    "   \\int_{a}^{b} x dx = w_0 (2a-b) + w_1 a + w_2 b\n",
    "$$\n",
    "\n",
    "$$\n",
    "   \\int_{a}^{b} x^2 dx = w_0 (2a-b)^2 + w_1 a^2 + w_2 b^2\n",
    "$$"
   ]
  },
  {
   "cell_type": "markdown",
   "id": "d5e97b35",
   "metadata": {},
   "source": [
    "The degree of precision is 2 because the first 2 basis functions are integrated correctly and the integral is a linear operator."
   ]
  },
  {
   "cell_type": "markdown",
   "id": "e73da59f",
   "metadata": {},
   "source": [
    "# Question 3"
   ]
  },
  {
   "cell_type": "markdown",
   "id": "3ac11cf6",
   "metadata": {},
   "source": [
    "Consider the application of Euler's method to\n",
    "\n",
    "$$\n",
    "   y' = -22 y, \\quad y(0) = 1.\n",
    "$$\n",
    "    \n",
    "1. What is a good choice for the step size if we want to compute $y(1)$\n",
    "   with four decimal places of accuracy?\n",
    "      \n",
    "   Justify your answer.\n",
    "\n",
    "        \n",
    "2. Considering the long term behavior of the solution,\n",
    "   what is the condition on the step size \n",
    "   for Euler's method to converge?"
   ]
  },
  {
   "cell_type": "markdown",
   "id": "99e69e34",
   "metadata": {},
   "source": [
    "### Answer to Question 3"
   ]
  },
  {
   "cell_type": "markdown",
   "id": "9126e67b",
   "metadata": {},
   "source": [
    "1. Euler's method has a global error of $O(h)$.  If we want three decimal places of accuracy, or a global error of $10^{-3}$, then we must take $h = 10^{-3}$."
   ]
  },
  {
   "cell_type": "markdown",
   "id": "64fabcba",
   "metadata": {},
   "source": [
    "Let us verify and compare with the exact solution $\\exp(-22 x)$."
   ]
  },
  {
   "cell_type": "code",
   "execution_count": 7,
   "id": "1ee340fd",
   "metadata": {},
   "outputs": [
    {
     "data": {
      "text/plain": [
       "eulerexp"
      ]
     },
     "execution_count": 7,
     "metadata": {},
     "output_type": "execute_result"
    }
   ],
   "source": [
    "using Printf\n",
    "\n",
    "\"\"\"\n",
    "    eulerexp(n::Int64,verbose::Bool=true)\n",
    "\n",
    "Euler's method with n evaluations\n",
    "on the interval [0,1] on the test\n",
    "equation y' = -22*y, y(0) = 1.\n",
    "\"\"\"\n",
    "function eulerexp(n::Int64,verbose::Bool=true)\n",
    "    h = 1.0/n\n",
    "    if verbose\n",
    "        println(\"  i   x       approx        exact       error\")\n",
    "    end\n",
    "    y = 0.0\n",
    "    for i=0:n\n",
    "        x = i*h\n",
    "        y = (1.0-22*h)^i\n",
    "        exact = exp(-22*x)\n",
    "        if verbose\n",
    "            stri = @sprintf(\"%3d\", i)\n",
    "            strx = @sprintf(\"%.2f\", x)\n",
    "            stry = @sprintf(\"%.6e\", y)\n",
    "            strexp = @sprintf(\"%.6e\", exact)\n",
    "            strerr = @sprintf(\"%.2e\", abs(y-exact))\n",
    "            println(\"$stri  $strx  $stry  $strexp  $strerr\")\n",
    "        end\n",
    "    end\n",
    "    return y\n",
    "end"
   ]
  },
  {
   "cell_type": "markdown",
   "id": "fad3f306",
   "metadata": {},
   "source": [
    "If we want to have 3 decimal correct places, then we must take $1/h = 10^3$ steps."
   ]
  },
  {
   "cell_type": "code",
   "execution_count": 8,
   "id": "a635ba3e",
   "metadata": {},
   "outputs": [
    {
     "name": "stdout",
     "output_type": "stream",
     "text": [
      "  i   x       approx        exact       error\n",
      "  0  0.00  1.000000e+00  1.000000e+00  0.00e+00\n",
      "  1  0.00  9.780000e-01  9.782402e-01  2.40e-04\n",
      "  2  0.00  9.564840e-01  9.569540e-01  4.70e-04\n",
      "  3  0.00  9.354414e-01  9.361309e-01  6.90e-04\n",
      "  4  0.00  9.148616e-01  9.157609e-01  8.99e-04\n",
      "  5  0.01  8.947347e-01  8.958341e-01  1.10e-03\n",
      "  6  0.01  8.750505e-01  8.763410e-01  1.29e-03\n",
      "  7  0.01  8.557994e-01  8.572720e-01  1.47e-03\n",
      "  8  0.01  8.369718e-01  8.386180e-01  1.65e-03\n",
      "  9  0.01  8.185584e-01  8.203699e-01  1.81e-03\n",
      " 10  0.01  8.005502e-01  8.025188e-01  1.97e-03\n",
      " 11  0.01  7.829381e-01  7.850562e-01  2.12e-03\n",
      " 12  0.01  7.657134e-01  7.679735e-01  2.26e-03\n",
      " 13  0.01  7.488677e-01  7.512626e-01  2.39e-03\n",
      " 14  0.01  7.323926e-01  7.349153e-01  2.52e-03\n",
      " 15  0.01  7.162800e-01  7.189237e-01  2.64e-03\n",
      " 16  0.02  7.005218e-01  7.032801e-01  2.76e-03\n",
      " 17  0.02  6.851104e-01  6.879769e-01  2.87e-03\n",
      " 18  0.02  6.700379e-01  6.730067e-01  2.97e-03\n",
      " 19  0.02  6.552971e-01  6.583622e-01  3.07e-03\n",
      " 20  0.02  6.408806e-01  6.440364e-01  3.16e-03\n",
      " 21  0.02  6.267812e-01  6.300223e-01  3.24e-03\n",
      " 22  0.02  6.129920e-01  6.163132e-01  3.32e-03\n",
      " 23  0.02  5.995062e-01  6.029024e-01  3.40e-03\n",
      " 24  0.02  5.863170e-01  5.897834e-01  3.47e-03\n",
      " 25  0.03  5.734181e-01  5.769498e-01  3.53e-03\n",
      " 26  0.03  5.608029e-01  5.643955e-01  3.59e-03\n",
      " 27  0.03  5.484652e-01  5.521144e-01  3.65e-03\n",
      " 28  0.03  5.363990e-01  5.401005e-01  3.70e-03\n",
      " 29  0.03  5.245982e-01  5.283481e-01  3.75e-03\n",
      " 30  0.03  5.130570e-01  5.168513e-01  3.79e-03\n",
      " 31  0.03  5.017698e-01  5.056048e-01  3.83e-03\n",
      " 32  0.03  4.907308e-01  4.946029e-01  3.87e-03\n",
      " 33  0.03  4.799348e-01  4.838405e-01  3.91e-03\n",
      " 34  0.03  4.693762e-01  4.733122e-01  3.94e-03\n",
      " 35  0.04  4.590499e-01  4.630131e-01  3.96e-03\n",
      " 36  0.04  4.489508e-01  4.529380e-01  3.99e-03\n",
      " 37  0.04  4.390739e-01  4.430822e-01  4.01e-03\n",
      " 38  0.04  4.294143e-01  4.334408e-01  4.03e-03\n",
      " 39  0.04  4.199672e-01  4.240093e-01  4.04e-03\n",
      " 40  0.04  4.107279e-01  4.147829e-01  4.06e-03\n",
      " 41  0.04  4.016919e-01  4.057573e-01  4.07e-03\n",
      " 42  0.04  3.928547e-01  3.969281e-01  4.07e-03\n",
      " 43  0.04  3.842119e-01  3.882911e-01  4.08e-03\n",
      " 44  0.04  3.757592e-01  3.798420e-01  4.08e-03\n",
      " 45  0.04  3.674925e-01  3.715767e-01  4.08e-03\n",
      " 46  0.05  3.594077e-01  3.634913e-01  4.08e-03\n",
      " 47  0.05  3.515007e-01  3.555818e-01  4.08e-03\n",
      " 48  0.05  3.437677e-01  3.478444e-01  4.08e-03\n",
      " 49  0.05  3.362048e-01  3.402754e-01  4.07e-03\n",
      " 50  0.05  3.288083e-01  3.328711e-01  4.06e-03\n",
      " 51  0.05  3.215745e-01  3.256279e-01  4.05e-03\n",
      " 52  0.05  3.144999e-01  3.185423e-01  4.04e-03\n",
      " 53  0.05  3.075809e-01  3.116109e-01  4.03e-03\n",
      " 54  0.05  3.008141e-01  3.048303e-01  4.02e-03\n",
      " 55  0.06  2.941962e-01  2.981973e-01  4.00e-03\n",
      " 56  0.06  2.877239e-01  2.917086e-01  3.98e-03\n",
      " 57  0.06  2.813939e-01  2.853611e-01  3.97e-03\n",
      " 58  0.06  2.752033e-01  2.791517e-01  3.95e-03\n",
      " 59  0.06  2.691488e-01  2.730774e-01  3.93e-03\n",
      " 60  0.06  2.632275e-01  2.671353e-01  3.91e-03\n",
      " 61  0.06  2.574365e-01  2.613225e-01  3.89e-03\n",
      " 62  0.06  2.517729e-01  2.556362e-01  3.86e-03\n",
      " 63  0.06  2.462339e-01  2.500736e-01  3.84e-03\n",
      " 64  0.06  2.408168e-01  2.446321e-01  3.82e-03\n",
      " 65  0.07  2.355188e-01  2.393089e-01  3.79e-03\n",
      " 66  0.07  2.303374e-01  2.341016e-01  3.76e-03\n",
      " 67  0.07  2.252700e-01  2.290076e-01  3.74e-03\n",
      " 68  0.07  2.203140e-01  2.240245e-01  3.71e-03\n",
      " 69  0.07  2.154671e-01  2.191497e-01  3.68e-03\n",
      " 70  0.07  2.107268e-01  2.143811e-01  3.65e-03\n",
      " 71  0.07  2.060908e-01  2.097162e-01  3.63e-03\n",
      " 72  0.07  2.015568e-01  2.051528e-01  3.60e-03\n",
      " 73  0.07  1.971226e-01  2.006888e-01  3.57e-03\n",
      " 74  0.07  1.927859e-01  1.963218e-01  3.54e-03\n",
      " 75  0.07  1.885446e-01  1.920499e-01  3.51e-03\n",
      " 76  0.08  1.843966e-01  1.878709e-01  3.47e-03\n",
      " 77  0.08  1.803399e-01  1.837829e-01  3.44e-03\n",
      " 78  0.08  1.763724e-01  1.797838e-01  3.41e-03\n",
      " 79  0.08  1.724922e-01  1.758718e-01  3.38e-03\n",
      " 80  0.08  1.686974e-01  1.720449e-01  3.35e-03\n",
      " 81  0.08  1.649861e-01  1.683012e-01  3.32e-03\n",
      " 82  0.08  1.613564e-01  1.646390e-01  3.28e-03\n",
      " 83  0.08  1.578065e-01  1.610565e-01  3.25e-03\n",
      " 84  0.08  1.543348e-01  1.575520e-01  3.22e-03\n",
      " 85  0.09  1.509394e-01  1.541237e-01  3.18e-03\n",
      " 86  0.09  1.476187e-01  1.507700e-01  3.15e-03\n",
      " 87  0.09  1.443711e-01  1.474892e-01  3.12e-03\n",
      " 88  0.09  1.411950e-01  1.442799e-01  3.08e-03\n",
      " 89  0.09  1.380887e-01  1.411404e-01  3.05e-03\n",
      " 90  0.09  1.350507e-01  1.380692e-01  3.02e-03\n",
      " 91  0.09  1.320796e-01  1.350649e-01  2.99e-03\n",
      " 92  0.09  1.291739e-01  1.321259e-01  2.95e-03\n",
      " 93  0.09  1.263320e-01  1.292509e-01  2.92e-03\n",
      " 94  0.09  1.235527e-01  1.264384e-01  2.89e-03\n",
      " 95  0.10  1.208346e-01  1.236871e-01  2.85e-03\n",
      " 96  0.10  1.181762e-01  1.209957e-01  2.82e-03\n",
      " 97  0.10  1.155763e-01  1.183629e-01  2.79e-03\n",
      " 98  0.10  1.130337e-01  1.157873e-01  2.75e-03\n",
      " 99  0.10  1.105469e-01  1.132678e-01  2.72e-03\n",
      "100  0.10  1.081149e-01  1.108032e-01  2.69e-03\n",
      "101  0.10  1.057364e-01  1.083921e-01  2.66e-03\n",
      "102  0.10  1.034102e-01  1.060335e-01  2.62e-03\n",
      "103  0.10  1.011351e-01  1.037263e-01  2.59e-03\n",
      "104  0.10  9.891016e-02  1.014692e-01  2.56e-03\n",
      "105  0.10  9.673414e-02  9.926125e-02  2.53e-03\n",
      "106  0.11  9.460598e-02  9.710135e-02  2.50e-03\n",
      "107  0.11  9.252465e-02  9.498845e-02  2.46e-03\n",
      "108  0.11  9.048911e-02  9.292152e-02  2.43e-03\n",
      "109  0.11  8.849835e-02  9.089957e-02  2.40e-03\n",
      "110  0.11  8.655139e-02  8.892162e-02  2.37e-03\n",
      "111  0.11  8.464726e-02  8.698670e-02  2.34e-03\n",
      "112  0.11  8.278502e-02  8.509389e-02  2.31e-03\n",
      "113  0.11  8.096375e-02  8.324227e-02  2.28e-03\n",
      "114  0.11  7.918254e-02  8.143094e-02  2.25e-03\n",
      "115  0.12  7.744053e-02  7.965902e-02  2.22e-03\n",
      "116  0.12  7.573684e-02  7.792566e-02  2.19e-03\n",
      "117  0.12  7.407063e-02  7.623001e-02  2.16e-03\n",
      "118  0.12  7.244107e-02  7.457127e-02  2.13e-03\n",
      "119  0.12  7.084737e-02  7.294861e-02  2.10e-03\n",
      "120  0.12  6.928873e-02  7.136127e-02  2.07e-03\n",
      "121  0.12  6.776437e-02  6.980847e-02  2.04e-03\n",
      "122  0.12  6.627356e-02  6.828945e-02  2.02e-03\n",
      "123  0.12  6.481554e-02  6.680349e-02  1.99e-03\n",
      "124  0.12  6.338960e-02  6.534986e-02  1.96e-03\n",
      "125  0.12  6.199503e-02  6.392786e-02  1.93e-03\n",
      "126  0.13  6.063114e-02  6.253681e-02  1.91e-03\n",
      "127  0.13  5.929725e-02  6.117602e-02  1.88e-03\n",
      "128  0.13  5.799271e-02  5.984484e-02  1.85e-03\n",
      "129  0.13  5.671687e-02  5.854263e-02  1.83e-03\n",
      "130  0.13  5.546910e-02  5.726876e-02  1.80e-03\n",
      "131  0.13  5.424878e-02  5.602261e-02  1.77e-03\n",
      "132  0.13  5.305531e-02  5.480357e-02  1.75e-03\n",
      "133  0.13  5.188809e-02  5.361105e-02  1.72e-03\n",
      "134  0.13  5.074655e-02  5.244449e-02  1.70e-03\n",
      "135  0.14  4.963013e-02  5.130331e-02  1.67e-03\n",
      "136  0.14  4.853827e-02  5.018696e-02  1.65e-03\n",
      "137  0.14  4.747042e-02  4.909491e-02  1.62e-03\n",
      "138  0.14  4.642607e-02  4.802661e-02  1.60e-03\n",
      "139  0.14  4.540470e-02  4.698156e-02  1.58e-03\n",
      "140  0.14  4.440580e-02  4.595926e-02  1.55e-03\n",
      "141  0.14  4.342887e-02  4.495919e-02  1.53e-03\n",
      "142  0.14  4.247343e-02  4.398089e-02  1.51e-03\n",
      "143  0.14  4.153902e-02  4.302388e-02  1.48e-03\n",
      "144  0.14  4.062516e-02  4.208769e-02  1.46e-03\n",
      "145  0.14  3.973141e-02  4.117187e-02  1.44e-03\n",
      "146  0.15  3.885732e-02  4.027598e-02  1.42e-03\n",
      "147  0.15  3.800246e-02  3.939958e-02  1.40e-03\n",
      "148  0.15  3.716640e-02  3.854226e-02  1.38e-03\n",
      "149  0.15  3.634874e-02  3.770359e-02  1.35e-03\n",
      "150  0.15  3.554907e-02  3.688317e-02  1.33e-03\n",
      "151  0.15  3.476699e-02  3.608060e-02  1.31e-03\n",
      "152  0.15  3.400211e-02  3.529549e-02  1.29e-03\n",
      "153  0.15  3.325407e-02  3.452747e-02  1.27e-03\n",
      "154  0.15  3.252248e-02  3.377616e-02  1.25e-03\n",
      "155  0.15  3.180698e-02  3.304120e-02  1.23e-03\n",
      "156  0.16  3.110723e-02  3.232223e-02  1.22e-03\n",
      "157  0.16  3.042287e-02  3.161891e-02  1.20e-03\n",
      "158  0.16  2.975357e-02  3.093089e-02  1.18e-03\n",
      "159  0.16  2.909899e-02  3.025784e-02  1.16e-03\n",
      "160  0.16  2.845881e-02  2.959944e-02  1.14e-03\n",
      "161  0.16  2.783272e-02  2.895536e-02  1.12e-03\n",
      "162  0.16  2.722040e-02  2.832530e-02  1.10e-03\n",
      "163  0.16  2.662155e-02  2.770894e-02  1.09e-03\n",
      "164  0.16  2.603588e-02  2.710600e-02  1.07e-03\n",
      "165  0.17  2.546309e-02  2.651618e-02  1.05e-03\n",
      "166  0.17  2.490290e-02  2.593920e-02  1.04e-03\n",
      "167  0.17  2.435503e-02  2.537477e-02  1.02e-03\n",
      "168  0.17  2.381922e-02  2.482262e-02  1.00e-03\n",
      "169  0.17  2.329520e-02  2.428248e-02  9.87e-04\n",
      "170  0.17  2.278271e-02  2.375410e-02  9.71e-04\n",
      "171  0.17  2.228149e-02  2.323722e-02  9.56e-04\n",
      "172  0.17  2.179129e-02  2.273158e-02  9.40e-04\n",
      "173  0.17  2.131189e-02  2.223695e-02  9.25e-04\n",
      "174  0.17  2.084302e-02  2.175308e-02  9.10e-04\n",
      "175  0.18  2.038448e-02  2.127974e-02  8.95e-04\n",
      "176  0.18  1.993602e-02  2.081669e-02  8.81e-04\n",
      "177  0.18  1.949743e-02  2.036373e-02  8.66e-04\n",
      "178  0.18  1.906848e-02  1.992062e-02  8.52e-04\n",
      "179  0.18  1.864898e-02  1.948715e-02  8.38e-04\n",
      "180  0.18  1.823870e-02  1.906311e-02  8.24e-04\n",
      "181  0.18  1.783745e-02  1.864831e-02  8.11e-04\n",
      "182  0.18  1.744502e-02  1.824252e-02  7.97e-04\n",
      "183  0.18  1.706123e-02  1.784557e-02  7.84e-04\n",
      "184  0.18  1.668589e-02  1.745725e-02  7.71e-04\n",
      "185  0.18  1.631880e-02  1.707739e-02  7.59e-04\n",
      "186  0.19  1.595978e-02  1.670579e-02  7.46e-04\n",
      "187  0.19  1.560867e-02  1.634227e-02  7.34e-04\n",
      "188  0.19  1.526528e-02  1.598667e-02  7.21e-04\n",
      "189  0.19  1.492944e-02  1.563880e-02  7.09e-04\n",
      "190  0.19  1.460099e-02  1.529851e-02  6.98e-04\n",
      "191  0.19  1.427977e-02  1.496562e-02  6.86e-04\n",
      "192  0.19  1.396562e-02  1.463997e-02  6.74e-04\n",
      "193  0.19  1.365837e-02  1.432141e-02  6.63e-04\n",
      "194  0.19  1.335789e-02  1.400977e-02  6.52e-04\n",
      "195  0.20  1.306402e-02  1.370493e-02  6.41e-04\n",
      "196  0.20  1.277661e-02  1.340671e-02  6.30e-04\n",
      "197  0.20  1.249552e-02  1.311498e-02  6.19e-04\n",
      "198  0.20  1.222062e-02  1.282960e-02  6.09e-04\n",
      "199  0.20  1.195177e-02  1.255043e-02  5.99e-04\n",
      "200  0.20  1.168883e-02  1.227734e-02  5.89e-04\n",
      "201  0.20  1.143167e-02  1.201019e-02  5.79e-04\n",
      "202  0.20  1.118018e-02  1.174885e-02  5.69e-04\n",
      "203  0.20  1.093421e-02  1.149320e-02  5.59e-04\n",
      "204  0.20  1.069366e-02  1.124311e-02  5.49e-04\n",
      "205  0.21  1.045840e-02  1.099846e-02  5.40e-04\n",
      "206  0.21  1.022831e-02  1.075914e-02  5.31e-04\n",
      "207  0.21  1.000329e-02  1.052502e-02  5.22e-04\n",
      "208  0.21  9.783219e-03  1.029600e-02  5.13e-04\n",
      "209  0.21  9.567989e-03  1.007196e-02  5.04e-04\n",
      "210  0.21  9.357493e-03  9.852796e-03  4.95e-04\n",
      "211  0.21  9.151628e-03  9.638402e-03  4.87e-04\n",
      "212  0.21  8.950292e-03  9.428672e-03  4.78e-04\n",
      "213  0.21  8.753386e-03  9.223506e-03  4.70e-04\n",
      "214  0.21  8.560811e-03  9.022805e-03  4.62e-04\n",
      "215  0.21  8.372473e-03  8.826471e-03  4.54e-04\n",
      "216  0.22  8.188279e-03  8.634409e-03  4.46e-04\n",
      "217  0.22  8.008137e-03  8.446526e-03  4.38e-04\n",
      "218  0.22  7.831958e-03  8.262732e-03  4.31e-04\n",
      "219  0.22  7.659655e-03  8.082937e-03  4.23e-04\n",
      "220  0.22  7.491142e-03  7.907054e-03  4.16e-04\n",
      "221  0.22  7.326337e-03  7.734998e-03  4.09e-04\n",
      "222  0.22  7.165158e-03  7.566687e-03  4.02e-04\n",
      "223  0.22  7.007524e-03  7.402037e-03  3.95e-04\n",
      "224  0.22  6.853359e-03  7.240971e-03  3.88e-04\n",
      "225  0.23  6.702585e-03  7.083409e-03  3.81e-04\n",
      "226  0.23  6.555128e-03  6.929276e-03  3.74e-04\n",
      "227  0.23  6.410915e-03  6.778496e-03  3.68e-04\n",
      "228  0.23  6.269875e-03  6.630998e-03  3.61e-04\n",
      "229  0.23  6.131938e-03  6.486709e-03  3.55e-04\n",
      "230  0.23  5.997035e-03  6.345560e-03  3.49e-04\n",
      "231  0.23  5.865100e-03  6.207482e-03  3.42e-04\n",
      "232  0.23  5.736068e-03  6.072408e-03  3.36e-04\n",
      "233  0.23  5.609875e-03  5.940274e-03  3.30e-04\n",
      "234  0.23  5.486458e-03  5.811015e-03  3.25e-04\n",
      "235  0.24  5.365755e-03  5.684569e-03  3.19e-04\n",
      "236  0.24  5.247709e-03  5.560874e-03  3.13e-04\n",
      "237  0.24  5.132259e-03  5.439871e-03  3.08e-04\n",
      "238  0.24  5.019350e-03  5.321500e-03  3.02e-04\n",
      "239  0.24  4.908924e-03  5.205706e-03  2.97e-04\n",
      "240  0.24  4.800928e-03  5.092431e-03  2.92e-04\n",
      "241  0.24  4.695307e-03  4.981621e-03  2.86e-04\n",
      "242  0.24  4.592010e-03  4.873222e-03  2.81e-04\n",
      "243  0.24  4.490986e-03  4.767182e-03  2.76e-04\n",
      "244  0.24  4.392184e-03  4.663449e-03  2.71e-04\n",
      "245  0.24  4.295556e-03  4.561973e-03  2.66e-04\n",
      "246  0.25  4.201054e-03  4.462706e-03  2.62e-04\n",
      "247  0.25  4.108631e-03  4.365598e-03  2.57e-04\n",
      "248  0.25  4.018241e-03  4.270604e-03  2.52e-04\n",
      "249  0.25  3.929840e-03  4.177677e-03  2.48e-04\n",
      "250  0.25  3.843383e-03  4.086771e-03  2.43e-04\n",
      "251  0.25  3.758829e-03  3.997844e-03  2.39e-04\n",
      "252  0.25  3.676135e-03  3.910852e-03  2.35e-04\n",
      "253  0.25  3.595260e-03  3.825753e-03  2.30e-04\n",
      "254  0.25  3.516164e-03  3.742505e-03  2.26e-04\n",
      "255  0.26  3.438808e-03  3.661069e-03  2.22e-04\n",
      "256  0.26  3.363155e-03  3.581405e-03  2.18e-04\n",
      "257  0.26  3.289165e-03  3.503475e-03  2.14e-04\n",
      "258  0.26  3.216804e-03  3.427240e-03  2.10e-04\n",
      "259  0.26  3.146034e-03  3.352664e-03  2.07e-04\n",
      "260  0.26  3.076821e-03  3.279711e-03  2.03e-04\n",
      "261  0.26  3.009131e-03  3.208345e-03  1.99e-04\n",
      "262  0.26  2.942930e-03  3.138532e-03  1.96e-04\n",
      "263  0.26  2.878186e-03  3.070239e-03  1.92e-04\n",
      "264  0.26  2.814866e-03  3.003431e-03  1.89e-04\n",
      "265  0.27  2.752939e-03  2.938077e-03  1.85e-04\n",
      "266  0.27  2.692374e-03  2.874145e-03  1.82e-04\n",
      "267  0.27  2.633142e-03  2.811604e-03  1.78e-04\n",
      "268  0.27  2.575213e-03  2.750425e-03  1.75e-04\n",
      "269  0.27  2.518558e-03  2.690576e-03  1.72e-04\n",
      "270  0.27  2.463150e-03  2.632030e-03  1.69e-04\n",
      "271  0.27  2.408960e-03  2.574757e-03  1.66e-04\n",
      "272  0.27  2.355963e-03  2.518731e-03  1.63e-04\n",
      "273  0.27  2.304132e-03  2.463924e-03  1.60e-04\n",
      "274  0.27  2.253441e-03  2.410310e-03  1.57e-04\n",
      "275  0.28  2.203865e-03  2.357862e-03  1.54e-04\n",
      "276  0.28  2.155380e-03  2.306555e-03  1.51e-04\n",
      "277  0.28  2.107962e-03  2.256365e-03  1.48e-04\n",
      "278  0.28  2.061587e-03  2.207267e-03  1.46e-04\n",
      "279  0.28  2.016232e-03  2.159238e-03  1.43e-04\n",
      "280  0.28  1.971875e-03  2.112253e-03  1.40e-04\n",
      "281  0.28  1.928494e-03  2.066291e-03  1.38e-04\n",
      "282  0.28  1.886067e-03  2.021329e-03  1.35e-04\n",
      "283  0.28  1.844573e-03  1.977345e-03  1.33e-04\n",
      "284  0.28  1.803993e-03  1.934319e-03  1.30e-04\n",
      "285  0.29  1.764305e-03  1.892229e-03  1.28e-04\n",
      "286  0.29  1.725490e-03  1.851054e-03  1.26e-04\n",
      "287  0.29  1.687529e-03  1.810776e-03  1.23e-04\n",
      "288  0.29  1.650404e-03  1.771374e-03  1.21e-04\n",
      "289  0.29  1.614095e-03  1.732829e-03  1.19e-04\n",
      "290  0.29  1.578585e-03  1.695123e-03  1.17e-04\n",
      "291  0.29  1.543856e-03  1.658237e-03  1.14e-04\n",
      "292  0.29  1.509891e-03  1.622155e-03  1.12e-04\n",
      "293  0.29  1.476673e-03  1.586857e-03  1.10e-04\n",
      "294  0.29  1.444187e-03  1.552327e-03  1.08e-04\n",
      "295  0.29  1.412414e-03  1.518549e-03  1.06e-04\n",
      "296  0.30  1.381341e-03  1.485506e-03  1.04e-04\n",
      "297  0.30  1.350952e-03  1.453181e-03  1.02e-04\n",
      "298  0.30  1.321231e-03  1.421561e-03  1.00e-04\n",
      "299  0.30  1.292164e-03  1.390628e-03  9.85e-05\n",
      "300  0.30  1.263736e-03  1.360368e-03  9.66e-05\n",
      "301  0.30  1.235934e-03  1.330767e-03  9.48e-05\n",
      "302  0.30  1.208743e-03  1.301810e-03  9.31e-05\n",
      "303  0.30  1.182151e-03  1.273483e-03  9.13e-05\n",
      "304  0.30  1.156144e-03  1.245772e-03  8.96e-05\n",
      "305  0.30  1.130709e-03  1.218664e-03  8.80e-05\n",
      "306  0.31  1.105833e-03  1.192146e-03  8.63e-05\n",
      "307  0.31  1.081505e-03  1.166205e-03  8.47e-05\n",
      "308  0.31  1.057712e-03  1.140829e-03  8.31e-05\n",
      "309  0.31  1.034442e-03  1.116005e-03  8.16e-05\n",
      "310  0.31  1.011684e-03  1.091721e-03  8.00e-05\n",
      "311  0.31  9.894272e-04  1.067965e-03  7.85e-05\n",
      "312  0.31  9.676598e-04  1.044727e-03  7.71e-05\n",
      "313  0.31  9.463713e-04  1.021994e-03  7.56e-05\n",
      "314  0.31  9.255511e-04  9.997553e-04  7.42e-05\n",
      "315  0.32  9.051890e-04  9.780009e-04  7.28e-05\n",
      "316  0.32  8.852748e-04  9.567198e-04  7.14e-05\n",
      "317  0.32  8.657988e-04  9.359018e-04  7.01e-05\n",
      "318  0.32  8.467512e-04  9.155368e-04  6.88e-05\n",
      "319  0.32  8.281227e-04  8.956149e-04  6.75e-05\n",
      "320  0.32  8.099040e-04  8.761266e-04  6.62e-05\n",
      "321  0.32  7.920861e-04  8.570623e-04  6.50e-05\n",
      "322  0.32  7.746602e-04  8.384128e-04  6.38e-05\n",
      "323  0.32  7.576177e-04  8.201691e-04  6.26e-05\n",
      "324  0.32  7.409501e-04  8.023224e-04  6.14e-05\n",
      "325  0.33  7.246492e-04  7.848641e-04  6.02e-05\n",
      "326  0.33  7.087069e-04  7.677856e-04  5.91e-05\n",
      "327  0.33  6.931153e-04  7.510788e-04  5.80e-05\n",
      "328  0.33  6.778668e-04  7.347355e-04  5.69e-05\n",
      "329  0.33  6.629537e-04  7.187478e-04  5.58e-05\n",
      "330  0.33  6.483688e-04  7.031080e-04  5.47e-05\n",
      "331  0.33  6.341046e-04  6.878086e-04  5.37e-05\n",
      "332  0.33  6.201543e-04  6.728420e-04  5.27e-05\n",
      "333  0.33  6.065109e-04  6.582011e-04  5.17e-05\n",
      "334  0.33  5.931677e-04  6.438788e-04  5.07e-05\n",
      "335  0.34  5.801180e-04  6.298682e-04  4.98e-05\n",
      "336  0.34  5.673554e-04  6.161624e-04  4.88e-05\n",
      "337  0.34  5.548736e-04  6.027548e-04  4.79e-05\n",
      "338  0.34  5.426664e-04  5.896390e-04  4.70e-05\n",
      "339  0.34  5.307277e-04  5.768086e-04  4.61e-05\n",
      "340  0.34  5.190517e-04  5.642574e-04  4.52e-05\n",
      "341  0.34  5.076326e-04  5.519793e-04  4.43e-05\n",
      "342  0.34  4.964647e-04  5.399684e-04  4.35e-05\n",
      "343  0.34  4.855424e-04  5.282188e-04  4.27e-05\n",
      "344  0.34  4.748605e-04  5.167249e-04  4.19e-05\n",
      "345  0.35  4.644136e-04  5.054811e-04  4.11e-05\n",
      "346  0.35  4.541965e-04  4.944819e-04  4.03e-05\n",
      "347  0.35  4.442041e-04  4.837221e-04  3.95e-05\n",
      "348  0.35  4.344317e-04  4.731964e-04  3.88e-05\n",
      "349  0.35  4.248742e-04  4.628998e-04  3.80e-05\n",
      "350  0.35  4.155269e-04  4.528272e-04  3.73e-05\n",
      "351  0.35  4.063853e-04  4.429738e-04  3.66e-05\n",
      "352  0.35  3.974449e-04  4.333348e-04  3.59e-05\n",
      "353  0.35  3.887011e-04  4.239055e-04  3.52e-05\n",
      "354  0.35  3.801496e-04  4.146814e-04  3.45e-05\n",
      "355  0.35  3.717864e-04  4.056580e-04  3.39e-05\n",
      "356  0.36  3.636071e-04  3.968310e-04  3.32e-05\n",
      "357  0.36  3.556077e-04  3.881961e-04  3.26e-05\n",
      "358  0.36  3.477843e-04  3.797490e-04  3.20e-05\n",
      "359  0.36  3.401331e-04  3.714858e-04  3.14e-05\n",
      "360  0.36  3.326501e-04  3.634023e-04  3.08e-05\n",
      "361  0.36  3.253318e-04  3.554948e-04  3.02e-05\n",
      "362  0.36  3.181745e-04  3.477593e-04  2.96e-05\n",
      "363  0.36  3.111747e-04  3.401921e-04  2.90e-05\n",
      "364  0.36  3.043289e-04  3.327896e-04  2.85e-05\n",
      "365  0.36  2.976336e-04  3.255482e-04  2.79e-05\n",
      "366  0.37  2.910857e-04  3.184644e-04  2.74e-05\n",
      "367  0.37  2.846818e-04  3.115346e-04  2.69e-05\n",
      "368  0.37  2.784188e-04  3.047557e-04  2.63e-05\n",
      "369  0.37  2.722936e-04  2.981243e-04  2.58e-05\n",
      "370  0.37  2.663031e-04  2.916372e-04  2.53e-05\n",
      "371  0.37  2.604445e-04  2.852912e-04  2.48e-05\n",
      "372  0.37  2.547147e-04  2.790834e-04  2.44e-05\n",
      "373  0.37  2.491110e-04  2.730106e-04  2.39e-05\n",
      "374  0.37  2.436305e-04  2.670699e-04  2.34e-05\n",
      "375  0.38  2.382706e-04  2.612586e-04  2.30e-05\n",
      "376  0.38  2.330287e-04  2.555736e-04  2.25e-05\n",
      "377  0.38  2.279021e-04  2.500124e-04  2.21e-05\n",
      "378  0.38  2.228882e-04  2.445722e-04  2.17e-05\n",
      "379  0.38  2.179847e-04  2.392504e-04  2.13e-05\n",
      "380  0.38  2.131890e-04  2.340443e-04  2.09e-05\n",
      "381  0.38  2.084989e-04  2.289516e-04  2.05e-05\n",
      "382  0.38  2.039119e-04  2.239697e-04  2.01e-05\n",
      "383  0.38  1.994258e-04  2.190961e-04  1.97e-05\n",
      "384  0.38  1.950385e-04  2.143286e-04  1.93e-05\n",
      "385  0.39  1.907476e-04  2.096649e-04  1.89e-05\n",
      "386  0.39  1.865512e-04  2.051026e-04  1.86e-05\n",
      "387  0.39  1.824470e-04  2.006397e-04  1.82e-05\n",
      "388  0.39  1.784332e-04  1.962738e-04  1.78e-05\n",
      "389  0.39  1.745077e-04  1.920029e-04  1.75e-05\n",
      "390  0.39  1.706685e-04  1.878250e-04  1.72e-05\n",
      "391  0.39  1.669138e-04  1.837380e-04  1.68e-05\n",
      "392  0.39  1.632417e-04  1.797399e-04  1.65e-05\n",
      "393  0.39  1.596504e-04  1.758288e-04  1.62e-05\n",
      "394  0.39  1.561381e-04  1.720028e-04  1.59e-05\n",
      "395  0.40  1.527030e-04  1.682600e-04  1.56e-05\n",
      "396  0.40  1.493436e-04  1.645987e-04  1.53e-05\n",
      "397  0.40  1.460580e-04  1.610171e-04  1.50e-05\n",
      "398  0.40  1.428447e-04  1.575134e-04  1.47e-05\n",
      "399  0.40  1.397021e-04  1.540859e-04  1.44e-05\n",
      "400  0.40  1.366287e-04  1.507331e-04  1.41e-05\n",
      "401  0.40  1.336229e-04  1.474532e-04  1.38e-05\n",
      "402  0.40  1.306832e-04  1.442446e-04  1.36e-05\n",
      "403  0.40  1.278081e-04  1.411059e-04  1.33e-05\n",
      "404  0.40  1.249964e-04  1.380355e-04  1.30e-05\n",
      "405  0.41  1.222464e-04  1.350318e-04  1.28e-05\n",
      "406  0.41  1.195570e-04  1.320936e-04  1.25e-05\n",
      "407  0.41  1.169268e-04  1.292192e-04  1.23e-05\n",
      "408  0.41  1.143544e-04  1.264075e-04  1.21e-05\n",
      "409  0.41  1.118386e-04  1.236569e-04  1.18e-05\n",
      "410  0.41  1.093781e-04  1.209661e-04  1.16e-05\n",
      "411  0.41  1.069718e-04  1.183339e-04  1.14e-05\n",
      "412  0.41  1.046184e-04  1.157590e-04  1.11e-05\n",
      "413  0.41  1.023168e-04  1.132401e-04  1.09e-05\n",
      "414  0.41  1.000658e-04  1.107760e-04  1.07e-05\n",
      "415  0.42  9.786440e-05  1.083656e-04  1.05e-05\n",
      "416  0.42  9.571138e-05  1.060076e-04  1.03e-05\n",
      "417  0.42  9.360573e-05  1.037009e-04  1.01e-05\n",
      "418  0.42  9.154641e-05  1.014444e-04  9.90e-06\n",
      "419  0.42  8.953239e-05  9.923696e-05  9.70e-06\n",
      "420  0.42  8.756267e-05  9.707759e-05  9.51e-06\n",
      "421  0.42  8.563629e-05  9.496520e-05  9.33e-06\n",
      "422  0.42  8.375230e-05  9.289878e-05  9.15e-06\n",
      "423  0.42  8.190975e-05  9.087733e-05  8.97e-06\n",
      "424  0.42  8.010773e-05  8.889986e-05  8.79e-06\n",
      "425  0.42  7.834536e-05  8.696542e-05  8.62e-06\n",
      "426  0.43  7.662176e-05  8.507307e-05  8.45e-06\n",
      "427  0.43  7.493608e-05  8.322190e-05  8.29e-06\n",
      "428  0.43  7.328749e-05  8.141101e-05  8.12e-06\n",
      "429  0.43  7.167517e-05  7.963953e-05  7.96e-06\n",
      "430  0.43  7.009831e-05  7.790659e-05  7.81e-06\n",
      "431  0.43  6.855615e-05  7.621136e-05  7.66e-06\n",
      "432  0.43  6.704791e-05  7.455302e-05  7.51e-06\n",
      "433  0.43  6.557286e-05  7.293076e-05  7.36e-06\n",
      "434  0.43  6.413026e-05  7.134381e-05  7.21e-06\n",
      "435  0.43  6.271939e-05  6.979138e-05  7.07e-06\n",
      "436  0.44  6.133956e-05  6.827274e-05  6.93e-06\n",
      "437  0.44  5.999009e-05  6.678714e-05  6.80e-06\n",
      "438  0.44  5.867031e-05  6.533387e-05  6.66e-06\n",
      "439  0.44  5.737957e-05  6.391222e-05  6.53e-06\n",
      "440  0.44  5.611721e-05  6.252150e-05  6.40e-06\n",
      "441  0.44  5.488264e-05  6.116105e-05  6.28e-06\n",
      "442  0.44  5.367522e-05  5.983020e-05  6.15e-06\n",
      "443  0.44  5.249436e-05  5.852831e-05  6.03e-06\n",
      "444  0.44  5.133949e-05  5.725475e-05  5.92e-06\n",
      "445  0.45  5.021002e-05  5.600890e-05  5.80e-06\n",
      "446  0.45  4.910540e-05  5.479016e-05  5.68e-06\n",
      "447  0.45  4.802508e-05  5.359794e-05  5.57e-06\n",
      "448  0.45  4.696853e-05  5.243166e-05  5.46e-06\n",
      "449  0.45  4.593522e-05  5.129076e-05  5.36e-06\n",
      "450  0.45  4.492465e-05  5.017468e-05  5.25e-06\n",
      "451  0.45  4.393630e-05  4.908289e-05  5.15e-06\n",
      "452  0.45  4.296970e-05  4.801486e-05  5.05e-06\n",
      "453  0.45  4.202437e-05  4.697007e-05  4.95e-06\n",
      "454  0.45  4.109983e-05  4.594801e-05  4.85e-06\n",
      "455  0.46  4.019564e-05  4.494819e-05  4.75e-06\n",
      "456  0.46  3.931133e-05  4.397013e-05  4.66e-06\n",
      "457  0.46  3.844648e-05  4.301335e-05  4.57e-06\n",
      "458  0.46  3.760066e-05  4.207739e-05  4.48e-06\n",
      "459  0.46  3.677345e-05  4.116180e-05  4.39e-06\n",
      "460  0.46  3.596443e-05  4.026613e-05  4.30e-06\n",
      "461  0.46  3.517321e-05  3.938994e-05  4.22e-06\n",
      "462  0.46  3.439940e-05  3.853283e-05  4.13e-06\n",
      "463  0.46  3.364262e-05  3.769436e-05  4.05e-06\n",
      "464  0.46  3.290248e-05  3.687414e-05  3.97e-06\n",
      "465  0.47  3.217862e-05  3.607177e-05  3.89e-06\n",
      "466  0.47  3.147069e-05  3.528686e-05  3.82e-06\n",
      "467  0.47  3.077834e-05  3.451902e-05  3.74e-06\n",
      "468  0.47  3.010122e-05  3.376790e-05  3.67e-06\n",
      "469  0.47  2.943899e-05  3.303312e-05  3.59e-06\n",
      "470  0.47  2.879133e-05  3.231432e-05  3.52e-06\n",
      "471  0.47  2.815792e-05  3.161117e-05  3.45e-06\n",
      "472  0.47  2.753845e-05  3.092332e-05  3.38e-06\n",
      "473  0.47  2.693260e-05  3.025043e-05  3.32e-06\n",
      "474  0.47  2.634008e-05  2.959219e-05  3.25e-06\n",
      "475  0.48  2.576060e-05  2.894827e-05  3.19e-06\n",
      "476  0.48  2.519387e-05  2.831837e-05  3.12e-06\n",
      "477  0.48  2.463960e-05  2.770216e-05  3.06e-06\n",
      "478  0.48  2.409753e-05  2.709937e-05  3.00e-06\n",
      "479  0.48  2.356739e-05  2.650970e-05  2.94e-06\n",
      "480  0.48  2.304891e-05  2.593285e-05  2.88e-06\n",
      "481  0.48  2.254183e-05  2.536856e-05  2.83e-06\n",
      "482  0.48  2.204591e-05  2.481654e-05  2.77e-06\n",
      "483  0.48  2.156090e-05  2.427654e-05  2.72e-06\n",
      "484  0.48  2.108656e-05  2.374829e-05  2.66e-06\n",
      "485  0.48  2.062265e-05  2.323153e-05  2.61e-06\n",
      "486  0.49  2.016896e-05  2.272602e-05  2.56e-06\n",
      "487  0.49  1.972524e-05  2.223151e-05  2.51e-06\n",
      "488  0.49  1.929128e-05  2.174776e-05  2.46e-06\n",
      "489  0.49  1.886688e-05  2.127453e-05  2.41e-06\n",
      "490  0.49  1.845180e-05  2.081160e-05  2.36e-06\n",
      "491  0.49  1.804586e-05  2.035875e-05  2.31e-06\n",
      "492  0.49  1.764886e-05  1.991574e-05  2.27e-06\n",
      "493  0.49  1.726058e-05  1.948238e-05  2.22e-06\n",
      "494  0.49  1.688085e-05  1.905845e-05  2.18e-06\n",
      "495  0.49  1.650947e-05  1.864374e-05  2.13e-06\n",
      "496  0.50  1.614626e-05  1.823806e-05  2.09e-06\n",
      "497  0.50  1.579104e-05  1.784120e-05  2.05e-06\n",
      "498  0.50  1.544364e-05  1.745298e-05  2.01e-06\n",
      "499  0.50  1.510388e-05  1.707321e-05  1.97e-06\n",
      "500  0.50  1.477160e-05  1.670170e-05  1.93e-06\n",
      "501  0.50  1.444662e-05  1.633828e-05  1.89e-06\n",
      "502  0.50  1.412879e-05  1.598276e-05  1.85e-06\n",
      "503  0.50  1.381796e-05  1.563498e-05  1.82e-06\n",
      "504  0.50  1.351397e-05  1.529476e-05  1.78e-06\n",
      "505  0.51  1.321666e-05  1.496195e-05  1.75e-06\n",
      "506  0.51  1.292589e-05  1.463639e-05  1.71e-06\n",
      "507  0.51  1.264152e-05  1.431790e-05  1.68e-06\n",
      "508  0.51  1.236341e-05  1.400635e-05  1.64e-06\n",
      "509  0.51  1.209141e-05  1.370157e-05  1.61e-06\n",
      "510  0.51  1.182540e-05  1.340343e-05  1.58e-06\n",
      "511  0.51  1.156524e-05  1.311177e-05  1.55e-06\n",
      "512  0.51  1.131081e-05  1.282646e-05  1.52e-06\n",
      "513  0.51  1.106197e-05  1.254736e-05  1.49e-06\n",
      "514  0.51  1.081861e-05  1.227434e-05  1.46e-06\n",
      "515  0.52  1.058060e-05  1.200725e-05  1.43e-06\n",
      "516  0.52  1.034782e-05  1.174597e-05  1.40e-06\n",
      "517  0.52  1.012017e-05  1.149038e-05  1.37e-06\n",
      "518  0.52  9.897529e-06  1.124036e-05  1.34e-06\n",
      "519  0.52  9.679783e-06  1.099577e-05  1.32e-06\n",
      "520  0.52  9.466828e-06  1.075650e-05  1.29e-06\n",
      "521  0.52  9.258558e-06  1.052244e-05  1.26e-06\n",
      "522  0.52  9.054870e-06  1.029348e-05  1.24e-06\n",
      "523  0.52  8.855662e-06  1.006950e-05  1.21e-06\n",
      "524  0.52  8.660838e-06  9.850385e-06  1.19e-06\n",
      "525  0.53  8.470299e-06  9.636043e-06  1.17e-06\n",
      "526  0.53  8.283953e-06  9.426365e-06  1.14e-06\n",
      "527  0.53  8.101706e-06  9.221250e-06  1.12e-06\n",
      "528  0.53  7.923468e-06  9.020597e-06  1.10e-06\n",
      "529  0.53  7.749152e-06  8.824311e-06  1.08e-06\n",
      "530  0.53  7.578671e-06  8.632296e-06  1.05e-06\n",
      "531  0.53  7.411940e-06  8.444460e-06  1.03e-06\n",
      "532  0.53  7.248877e-06  8.260710e-06  1.01e-06\n",
      "533  0.53  7.089402e-06  8.080959e-06  9.92e-07\n",
      "534  0.53  6.933435e-06  7.905119e-06  9.72e-07\n",
      "535  0.54  6.780900e-06  7.733106e-06  9.52e-07\n",
      "536  0.54  6.631720e-06  7.564835e-06  9.33e-07\n",
      "537  0.54  6.485822e-06  7.400226e-06  9.14e-07\n",
      "538  0.54  6.343134e-06  7.239199e-06  8.96e-07\n",
      "539  0.54  6.203585e-06  7.081676e-06  8.78e-07\n",
      "540  0.54  6.067106e-06  6.927580e-06  8.60e-07\n",
      "541  0.54  5.933630e-06  6.776838e-06  8.43e-07\n",
      "542  0.54  5.803090e-06  6.629375e-06  8.26e-07\n",
      "543  0.54  5.675422e-06  6.485122e-06  8.10e-07\n",
      "544  0.54  5.550563e-06  6.344007e-06  7.93e-07\n",
      "545  0.55  5.428450e-06  6.205963e-06  7.78e-07\n",
      "546  0.55  5.309024e-06  6.070922e-06  7.62e-07\n",
      "547  0.55  5.192226e-06  5.938821e-06  7.47e-07\n",
      "548  0.55  5.077997e-06  5.809593e-06  7.32e-07\n",
      "549  0.55  4.966281e-06  5.683178e-06  7.17e-07\n",
      "550  0.55  4.857023e-06  5.559513e-06  7.02e-07\n",
      "551  0.55  4.750168e-06  5.438540e-06  6.88e-07\n",
      "552  0.55  4.645664e-06  5.320198e-06  6.75e-07\n",
      "553  0.55  4.543460e-06  5.204432e-06  6.61e-07\n",
      "554  0.55  4.443504e-06  5.091185e-06  6.48e-07\n",
      "555  0.56  4.345747e-06  4.980402e-06  6.35e-07\n",
      "556  0.56  4.250140e-06  4.872029e-06  6.22e-07\n",
      "557  0.56  4.156637e-06  4.766015e-06  6.09e-07\n",
      "558  0.56  4.065191e-06  4.662308e-06  5.97e-07\n",
      "559  0.56  3.975757e-06  4.560857e-06  5.85e-07\n",
      "560  0.56  3.888290e-06  4.461614e-06  5.73e-07\n",
      "561  0.56  3.802748e-06  4.364530e-06  5.62e-07\n",
      "562  0.56  3.719087e-06  4.269559e-06  5.50e-07\n",
      "563  0.56  3.637268e-06  4.176654e-06  5.39e-07\n",
      "564  0.56  3.557248e-06  4.085771e-06  5.29e-07\n",
      "565  0.57  3.478988e-06  3.996866e-06  5.18e-07\n",
      "566  0.57  3.402450e-06  3.909895e-06  5.07e-07\n",
      "567  0.57  3.327597e-06  3.824817e-06  4.97e-07\n",
      "568  0.57  3.254389e-06  3.741590e-06  4.87e-07\n",
      "569  0.57  3.182793e-06  3.660174e-06  4.77e-07\n",
      "570  0.57  3.112771e-06  3.580529e-06  4.68e-07\n",
      "571  0.57  3.044290e-06  3.502618e-06  4.58e-07\n",
      "572  0.57  2.977316e-06  3.426401e-06  4.49e-07\n",
      "573  0.57  2.911815e-06  3.351844e-06  4.40e-07\n",
      "574  0.57  2.847755e-06  3.278908e-06  4.31e-07\n",
      "575  0.58  2.785105e-06  3.207560e-06  4.22e-07\n",
      "576  0.58  2.723832e-06  3.137764e-06  4.14e-07\n",
      "577  0.58  2.663908e-06  3.069487e-06  4.06e-07\n",
      "578  0.58  2.605302e-06  3.002696e-06  3.97e-07\n",
      "579  0.58  2.547985e-06  2.937358e-06  3.89e-07\n",
      "580  0.58  2.491930e-06  2.873442e-06  3.82e-07\n",
      "581  0.58  2.437107e-06  2.810916e-06  3.74e-07\n",
      "582  0.58  2.383491e-06  2.749752e-06  3.66e-07\n",
      "583  0.58  2.331054e-06  2.689918e-06  3.59e-07\n",
      "584  0.58  2.279771e-06  2.631386e-06  3.52e-07\n",
      "585  0.58  2.229616e-06  2.574127e-06  3.45e-07\n",
      "586  0.59  2.180564e-06  2.518115e-06  3.38e-07\n",
      "587  0.59  2.132592e-06  2.463321e-06  3.31e-07\n",
      "588  0.59  2.085675e-06  2.409720e-06  3.24e-07\n",
      "589  0.59  2.039790e-06  2.357285e-06  3.17e-07\n",
      "590  0.59  1.994915e-06  2.305991e-06  3.11e-07\n",
      "591  0.59  1.951027e-06  2.255813e-06  3.05e-07\n",
      "592  0.59  1.908104e-06  2.206727e-06  2.99e-07\n",
      "593  0.59  1.866126e-06  2.158709e-06  2.93e-07\n",
      "594  0.59  1.825071e-06  2.111736e-06  2.87e-07\n",
      "595  0.59  1.784919e-06  2.065786e-06  2.81e-07\n",
      "596  0.60  1.745651e-06  2.020835e-06  2.75e-07\n",
      "597  0.60  1.707247e-06  1.976862e-06  2.70e-07\n",
      "598  0.60  1.669687e-06  1.933846e-06  2.64e-07\n",
      "599  0.60  1.632954e-06  1.891766e-06  2.59e-07\n",
      "600  0.60  1.597029e-06  1.850601e-06  2.54e-07\n",
      "601  0.60  1.561895e-06  1.810333e-06  2.48e-07\n",
      "602  0.60  1.527533e-06  1.770940e-06  2.43e-07\n",
      "603  0.60  1.493927e-06  1.732405e-06  2.38e-07\n",
      "604  0.60  1.461061e-06  1.694708e-06  2.34e-07\n",
      "605  0.60  1.428917e-06  1.657832e-06  2.29e-07\n",
      "606  0.61  1.397481e-06  1.621758e-06  2.24e-07\n",
      "607  0.61  1.366737e-06  1.586469e-06  2.20e-07\n",
      "608  0.61  1.336668e-06  1.551947e-06  2.15e-07\n",
      "609  0.61  1.307262e-06  1.518177e-06  2.11e-07\n",
      "610  0.61  1.278502e-06  1.485142e-06  2.07e-07\n",
      "611  0.61  1.250375e-06  1.452826e-06  2.02e-07\n",
      "612  0.61  1.222867e-06  1.421213e-06  1.98e-07\n",
      "613  0.61  1.195964e-06  1.390287e-06  1.94e-07\n",
      "614  0.61  1.169652e-06  1.360035e-06  1.90e-07\n",
      "615  0.61  1.143920e-06  1.330441e-06  1.87e-07\n",
      "616  0.62  1.118754e-06  1.301491e-06  1.83e-07\n",
      "617  0.62  1.094141e-06  1.273171e-06  1.79e-07\n",
      "618  0.62  1.070070e-06  1.245467e-06  1.75e-07\n",
      "619  0.62  1.046529e-06  1.218366e-06  1.72e-07\n",
      "620  0.62  1.023505e-06  1.191855e-06  1.68e-07\n",
      "621  0.62  1.000988e-06  1.165920e-06  1.65e-07\n",
      "622  0.62  9.789662e-07  1.140550e-06  1.62e-07\n",
      "623  0.62  9.574289e-07  1.115732e-06  1.58e-07\n",
      "624  0.62  9.363655e-07  1.091454e-06  1.55e-07\n",
      "625  0.62  9.157654e-07  1.067704e-06  1.52e-07\n",
      "626  0.63  8.956186e-07  1.044471e-06  1.49e-07\n",
      "627  0.63  8.759150e-07  1.021744e-06  1.46e-07\n",
      "628  0.63  8.566448e-07  9.995107e-07  1.43e-07\n",
      "629  0.63  8.377987e-07  9.777616e-07  1.40e-07\n",
      "630  0.63  8.193671e-07  9.564857e-07  1.37e-07\n",
      "631  0.63  8.013410e-07  9.356728e-07  1.34e-07\n",
      "632  0.63  7.837115e-07  9.153128e-07  1.32e-07\n",
      "633  0.63  7.664699e-07  8.953958e-07  1.29e-07\n",
      "634  0.63  7.496075e-07  8.759122e-07  1.26e-07\n",
      "635  0.64  7.331162e-07  8.568525e-07  1.24e-07\n",
      "636  0.64  7.169876e-07  8.382076e-07  1.21e-07\n",
      "637  0.64  7.012139e-07  8.199684e-07  1.19e-07\n",
      "638  0.64  6.857872e-07  8.021261e-07  1.16e-07\n",
      "639  0.64  6.706999e-07  7.846720e-07  1.14e-07\n",
      "640  0.64  6.559445e-07  7.675978e-07  1.12e-07\n",
      "641  0.64  6.415137e-07  7.508950e-07  1.09e-07\n",
      "642  0.64  6.274004e-07  7.345557e-07  1.07e-07\n",
      "643  0.64  6.135976e-07  7.185719e-07  1.05e-07\n",
      "644  0.64  6.000984e-07  7.029360e-07  1.03e-07\n",
      "645  0.65  5.868963e-07  6.876403e-07  1.01e-07\n",
      "646  0.65  5.739845e-07  6.726774e-07  9.87e-08\n",
      "647  0.65  5.613569e-07  6.580401e-07  9.67e-08\n",
      "648  0.65  5.490070e-07  6.437213e-07  9.47e-08\n",
      "649  0.65  5.369289e-07  6.297141e-07  9.28e-08\n",
      "650  0.65  5.251164e-07  6.160116e-07  9.09e-08\n",
      "651  0.65  5.135639e-07  6.026074e-07  8.90e-08\n",
      "652  0.65  5.022655e-07  5.894948e-07  8.72e-08\n",
      "653  0.65  4.912156e-07  5.766675e-07  8.55e-08\n",
      "654  0.65  4.804089e-07  5.641193e-07  8.37e-08\n",
      "655  0.66  4.698399e-07  5.518442e-07  8.20e-08\n",
      "656  0.66  4.595034e-07  5.398362e-07  8.03e-08\n",
      "657  0.66  4.493943e-07  5.280895e-07  7.87e-08\n",
      "658  0.66  4.395077e-07  5.165984e-07  7.71e-08\n",
      "659  0.66  4.298385e-07  5.053574e-07  7.55e-08\n",
      "660  0.66  4.203820e-07  4.943609e-07  7.40e-08\n",
      "661  0.66  4.111336e-07  4.836037e-07  7.25e-08\n",
      "662  0.66  4.020887e-07  4.730806e-07  7.10e-08\n",
      "663  0.66  3.932427e-07  4.627865e-07  6.95e-08\n",
      "664  0.66  3.845914e-07  4.527164e-07  6.81e-08\n",
      "665  0.67  3.761304e-07  4.428654e-07  6.67e-08\n",
      "666  0.67  3.678555e-07  4.332287e-07  6.54e-08\n",
      "667  0.67  3.597627e-07  4.238018e-07  6.40e-08\n",
      "668  0.67  3.518479e-07  4.145799e-07  6.27e-08\n",
      "669  0.67  3.441073e-07  4.055588e-07  6.15e-08\n",
      "670  0.67  3.365369e-07  3.967339e-07  6.02e-08\n",
      "671  0.67  3.291331e-07  3.881011e-07  5.90e-08\n",
      "672  0.67  3.218922e-07  3.796561e-07  5.78e-08\n",
      "673  0.67  3.148105e-07  3.713949e-07  5.66e-08\n",
      "674  0.67  3.078847e-07  3.633134e-07  5.54e-08\n",
      "675  0.68  3.011112e-07  3.554078e-07  5.43e-08\n",
      "676  0.68  2.944868e-07  3.476742e-07  5.32e-08\n",
      "677  0.68  2.880081e-07  3.401089e-07  5.21e-08\n",
      "678  0.68  2.816719e-07  3.327082e-07  5.10e-08\n",
      "679  0.68  2.754751e-07  3.254686e-07  5.00e-08\n",
      "680  0.68  2.694147e-07  3.183864e-07  4.90e-08\n",
      "681  0.68  2.634876e-07  3.114584e-07  4.80e-08\n",
      "682  0.68  2.576908e-07  3.046812e-07  4.70e-08\n",
      "683  0.68  2.520216e-07  2.980514e-07  4.60e-08\n",
      "684  0.68  2.464772e-07  2.915658e-07  4.51e-08\n",
      "685  0.69  2.410547e-07  2.852214e-07  4.42e-08\n",
      "686  0.69  2.357515e-07  2.790151e-07  4.33e-08\n",
      "687  0.69  2.305649e-07  2.729438e-07  4.24e-08\n",
      "688  0.69  2.254925e-07  2.670046e-07  4.15e-08\n",
      "689  0.69  2.205317e-07  2.611946e-07  4.07e-08\n",
      "690  0.69  2.156800e-07  2.555111e-07  3.98e-08\n",
      "691  0.69  2.109350e-07  2.499512e-07  3.90e-08\n",
      "692  0.69  2.062944e-07  2.445124e-07  3.82e-08\n",
      "693  0.69  2.017560e-07  2.391918e-07  3.74e-08\n",
      "694  0.69  1.973173e-07  2.339871e-07  3.67e-08\n",
      "695  0.70  1.929763e-07  2.288956e-07  3.59e-08\n",
      "696  0.70  1.887309e-07  2.239148e-07  3.52e-08\n",
      "697  0.70  1.845788e-07  2.190425e-07  3.45e-08\n",
      "698  0.70  1.805181e-07  2.142762e-07  3.38e-08\n",
      "699  0.70  1.765467e-07  2.096136e-07  3.31e-08\n",
      "700  0.70  1.726626e-07  2.050525e-07  3.24e-08\n",
      "701  0.70  1.688641e-07  2.005906e-07  3.17e-08\n",
      "702  0.70  1.651490e-07  1.962258e-07  3.11e-08\n",
      "703  0.70  1.615158e-07  1.919559e-07  3.04e-08\n",
      "704  0.70  1.579624e-07  1.877790e-07  2.98e-08\n",
      "705  0.70  1.544872e-07  1.836930e-07  2.92e-08\n",
      "706  0.71  1.510885e-07  1.796959e-07  2.86e-08\n",
      "707  0.71  1.477646e-07  1.757857e-07  2.80e-08\n",
      "708  0.71  1.445138e-07  1.719607e-07  2.74e-08\n",
      "709  0.71  1.413345e-07  1.682189e-07  2.69e-08\n",
      "710  0.71  1.382251e-07  1.645585e-07  2.63e-08\n",
      "711  0.71  1.351841e-07  1.609777e-07  2.58e-08\n",
      "712  0.71  1.322101e-07  1.574749e-07  2.53e-08\n",
      "713  0.71  1.293015e-07  1.540482e-07  2.47e-08\n",
      "714  0.71  1.264568e-07  1.506962e-07  2.42e-08\n",
      "715  0.71  1.236748e-07  1.474171e-07  2.37e-08\n",
      "716  0.72  1.209539e-07  1.442093e-07  2.33e-08\n",
      "717  0.72  1.182930e-07  1.410714e-07  2.28e-08\n",
      "718  0.72  1.156905e-07  1.380017e-07  2.23e-08\n",
      "719  0.72  1.131453e-07  1.349988e-07  2.19e-08\n",
      "720  0.72  1.106561e-07  1.320613e-07  2.14e-08\n",
      "721  0.72  1.082217e-07  1.291876e-07  2.10e-08\n",
      "722  0.72  1.058408e-07  1.263765e-07  2.05e-08\n",
      "723  0.72  1.035123e-07  1.236266e-07  2.01e-08\n",
      "724  0.72  1.012350e-07  1.209365e-07  1.97e-08\n",
      "725  0.72  9.900787e-08  1.183050e-07  1.93e-08\n",
      "726  0.73  9.682970e-08  1.157307e-07  1.89e-08\n",
      "727  0.73  9.469944e-08  1.132124e-07  1.85e-08\n",
      "728  0.73  9.261606e-08  1.107489e-07  1.81e-08\n",
      "729  0.73  9.057850e-08  1.083391e-07  1.78e-08\n",
      "730  0.73  8.858578e-08  1.059816e-07  1.74e-08\n",
      "731  0.73  8.663689e-08  1.036755e-07  1.70e-08\n",
      "732  0.73  8.473088e-08  1.014195e-07  1.67e-08\n",
      "733  0.73  8.286680e-08  9.921268e-08  1.63e-08\n",
      "734  0.73  8.104373e-08  9.705384e-08  1.60e-08\n",
      "735  0.73  7.926077e-08  9.494197e-08  1.57e-08\n",
      "736  0.74  7.751703e-08  9.287605e-08  1.54e-08\n",
      "737  0.74  7.581166e-08  9.085509e-08  1.50e-08\n",
      "738  0.74  7.414380e-08  8.887811e-08  1.47e-08\n",
      "739  0.74  7.251264e-08  8.694414e-08  1.44e-08\n",
      "740  0.74  7.091736e-08  8.505226e-08  1.41e-08\n",
      "741  0.74  6.935718e-08  8.320154e-08  1.38e-08\n",
      "742  0.74  6.783132e-08  8.139109e-08  1.36e-08\n",
      "743  0.74  6.633903e-08  7.962004e-08  1.33e-08\n",
      "744  0.74  6.487957e-08  7.788753e-08  1.30e-08\n",
      "745  0.74  6.345222e-08  7.619271e-08  1.27e-08\n",
      "746  0.75  6.205627e-08  7.453478e-08  1.25e-08\n",
      "747  0.75  6.069103e-08  7.291292e-08  1.22e-08\n",
      "748  0.75  5.935583e-08  7.132635e-08  1.20e-08\n",
      "749  0.75  5.805000e-08  6.977431e-08  1.17e-08\n",
      "750  0.75  5.677290e-08  6.825603e-08  1.15e-08\n",
      "751  0.75  5.552390e-08  6.677080e-08  1.12e-08\n",
      "752  0.75  5.430237e-08  6.531788e-08  1.10e-08\n",
      "753  0.75  5.310772e-08  6.389658e-08  1.08e-08\n",
      "754  0.75  5.193935e-08  6.250621e-08  1.06e-08\n",
      "755  0.76  5.079668e-08  6.114608e-08  1.03e-08\n",
      "756  0.76  4.967916e-08  5.981556e-08  1.01e-08\n",
      "757  0.76  4.858622e-08  5.851399e-08  9.93e-09\n",
      "758  0.76  4.751732e-08  5.724074e-08  9.72e-09\n",
      "759  0.76  4.647194e-08  5.599519e-08  9.52e-09\n",
      "760  0.76  4.544956e-08  5.477675e-08  9.33e-09\n",
      "761  0.76  4.444967e-08  5.358482e-08  9.14e-09\n",
      "762  0.76  4.347177e-08  5.241883e-08  8.95e-09\n",
      "763  0.76  4.251539e-08  5.127821e-08  8.76e-09\n",
      "764  0.76  4.158005e-08  5.016240e-08  8.58e-09\n",
      "765  0.77  4.066529e-08  4.907088e-08  8.41e-09\n",
      "766  0.77  3.977066e-08  4.800311e-08  8.23e-09\n",
      "767  0.77  3.889570e-08  4.695858e-08  8.06e-09\n",
      "768  0.77  3.804000e-08  4.593677e-08  7.90e-09\n",
      "769  0.77  3.720312e-08  4.493719e-08  7.73e-09\n",
      "770  0.77  3.638465e-08  4.395937e-08  7.57e-09\n",
      "771  0.77  3.558419e-08  4.300283e-08  7.42e-09\n",
      "772  0.77  3.480133e-08  4.206709e-08  7.27e-09\n",
      "773  0.77  3.403571e-08  4.115172e-08  7.12e-09\n",
      "774  0.77  3.328692e-08  4.025627e-08  6.97e-09\n",
      "775  0.78  3.255461e-08  3.938031e-08  6.83e-09\n",
      "776  0.78  3.183841e-08  3.852340e-08  6.68e-09\n",
      "777  0.78  3.113796e-08  3.768514e-08  6.55e-09\n",
      "778  0.78  3.045293e-08  3.686512e-08  6.41e-09\n",
      "779  0.78  2.978296e-08  3.606294e-08  6.28e-09\n",
      "780  0.78  2.912774e-08  3.527822e-08  6.15e-09\n",
      "781  0.78  2.848693e-08  3.451058e-08  6.02e-09\n",
      "782  0.78  2.786021e-08  3.375963e-08  5.90e-09\n",
      "783  0.78  2.724729e-08  3.302503e-08  5.78e-09\n",
      "784  0.78  2.664785e-08  3.230642e-08  5.66e-09\n",
      "785  0.79  2.606160e-08  3.160344e-08  5.54e-09\n",
      "786  0.79  2.548824e-08  3.091575e-08  5.43e-09\n",
      "787  0.79  2.492750e-08  3.024303e-08  5.32e-09\n",
      "788  0.79  2.437909e-08  2.958495e-08  5.21e-09\n",
      "789  0.79  2.384275e-08  2.894119e-08  5.10e-09\n",
      "790  0.79  2.331821e-08  2.831144e-08  4.99e-09\n",
      "791  0.79  2.280521e-08  2.769539e-08  4.89e-09\n",
      "792  0.79  2.230350e-08  2.709274e-08  4.79e-09\n",
      "793  0.79  2.181282e-08  2.650321e-08  4.69e-09\n",
      "794  0.79  2.133294e-08  2.592651e-08  4.59e-09\n",
      "795  0.80  2.086361e-08  2.536235e-08  4.50e-09\n",
      "796  0.80  2.040462e-08  2.481047e-08  4.41e-09\n",
      "797  0.80  1.995571e-08  2.427060e-08  4.31e-09\n",
      "798  0.80  1.951669e-08  2.374248e-08  4.23e-09\n",
      "799  0.80  1.908732e-08  2.322585e-08  4.14e-09\n",
      "800  0.80  1.866740e-08  2.272046e-08  4.05e-09\n",
      "801  0.80  1.825672e-08  2.222607e-08  3.97e-09\n",
      "802  0.80  1.785507e-08  2.174243e-08  3.89e-09\n",
      "803  0.80  1.746226e-08  2.126932e-08  3.81e-09\n",
      "804  0.80  1.707809e-08  2.080651e-08  3.73e-09\n",
      "805  0.81  1.670237e-08  2.035376e-08  3.65e-09\n",
      "806  0.81  1.633492e-08  1.991087e-08  3.58e-09\n",
      "807  0.81  1.597555e-08  1.947761e-08  3.50e-09\n",
      "808  0.81  1.562409e-08  1.905379e-08  3.43e-09\n",
      "809  0.81  1.528036e-08  1.863918e-08  3.36e-09\n",
      "810  0.81  1.494419e-08  1.823360e-08  3.29e-09\n",
      "811  0.81  1.461542e-08  1.783684e-08  3.22e-09\n",
      "812  0.81  1.429388e-08  1.744871e-08  3.15e-09\n",
      "813  0.81  1.397941e-08  1.706903e-08  3.09e-09\n",
      "814  0.81  1.367187e-08  1.669761e-08  3.03e-09\n",
      "815  0.82  1.337109e-08  1.633428e-08  2.96e-09\n",
      "816  0.82  1.307692e-08  1.597885e-08  2.90e-09\n",
      "817  0.82  1.278923e-08  1.563115e-08  2.84e-09\n",
      "818  0.82  1.250787e-08  1.529102e-08  2.78e-09\n",
      "819  0.82  1.223269e-08  1.495829e-08  2.73e-09\n",
      "820  0.82  1.196357e-08  1.463280e-08  2.67e-09\n",
      "821  0.82  1.170037e-08  1.431440e-08  2.61e-09\n",
      "822  0.82  1.144297e-08  1.400292e-08  2.56e-09\n",
      "823  0.82  1.119122e-08  1.369822e-08  2.51e-09\n",
      "824  0.82  1.094501e-08  1.340015e-08  2.46e-09\n",
      "825  0.83  1.070422e-08  1.310857e-08  2.40e-09\n",
      "826  0.83  1.046873e-08  1.282333e-08  2.35e-09\n",
      "827  0.83  1.023842e-08  1.254429e-08  2.31e-09\n",
      "828  0.83  1.001317e-08  1.227133e-08  2.26e-09\n",
      "829  0.83  9.792884e-09  1.200431e-08  2.21e-09\n",
      "830  0.83  9.577441e-09  1.174310e-08  2.17e-09\n",
      "831  0.83  9.366737e-09  1.148757e-08  2.12e-09\n",
      "832  0.83  9.160669e-09  1.123761e-08  2.08e-09\n",
      "833  0.83  8.959134e-09  1.099308e-08  2.03e-09\n",
      "834  0.83  8.762033e-09  1.075387e-08  1.99e-09\n",
      "835  0.83  8.569268e-09  1.051987e-08  1.95e-09\n",
      "836  0.84  8.380745e-09  1.029096e-08  1.91e-09\n",
      "837  0.84  8.196368e-09  1.006703e-08  1.87e-09\n",
      "838  0.84  8.016048e-09  9.847975e-09  1.83e-09\n",
      "839  0.84  7.839695e-09  9.633685e-09  1.79e-09\n",
      "840  0.84  7.667222e-09  9.424059e-09  1.76e-09\n",
      "841  0.84  7.498543e-09  9.218993e-09  1.72e-09\n",
      "842  0.84  7.333575e-09  9.018390e-09  1.68e-09\n",
      "843  0.84  7.172236e-09  8.822152e-09  1.65e-09\n",
      "844  0.84  7.014447e-09  8.630184e-09  1.62e-09\n",
      "845  0.84  6.860129e-09  8.442393e-09  1.58e-09\n",
      "846  0.85  6.709206e-09  8.258689e-09  1.55e-09\n",
      "847  0.85  6.561604e-09  8.078982e-09  1.52e-09\n",
      "848  0.85  6.417249e-09  7.903185e-09  1.49e-09\n",
      "849  0.85  6.276069e-09  7.731214e-09  1.46e-09\n",
      "850  0.85  6.137996e-09  7.562984e-09  1.42e-09\n",
      "851  0.85  6.002960e-09  7.398415e-09  1.40e-09\n",
      "852  0.85  5.870895e-09  7.237428e-09  1.37e-09\n",
      "853  0.85  5.741735e-09  7.079943e-09  1.34e-09\n",
      "854  0.85  5.615417e-09  6.925885e-09  1.31e-09\n",
      "855  0.85  5.491878e-09  6.775179e-09  1.28e-09\n",
      "856  0.86  5.371056e-09  6.627753e-09  1.26e-09\n",
      "857  0.86  5.252893e-09  6.483535e-09  1.23e-09\n",
      "858  0.86  5.137329e-09  6.342454e-09  1.21e-09\n",
      "859  0.86  5.024308e-09  6.204444e-09  1.18e-09\n",
      "860  0.86  4.913773e-09  6.069437e-09  1.16e-09\n",
      "861  0.86  4.805670e-09  5.937367e-09  1.13e-09\n",
      "862  0.86  4.699946e-09  5.808172e-09  1.11e-09\n",
      "863  0.86  4.596547e-09  5.681787e-09  1.09e-09\n",
      "864  0.86  4.495423e-09  5.558153e-09  1.06e-09\n",
      "865  0.86  4.396523e-09  5.437209e-09  1.04e-09\n",
      "866  0.87  4.299800e-09  5.318896e-09  1.02e-09\n",
      "867  0.87  4.205204e-09  5.203158e-09  9.98e-10\n",
      "868  0.87  4.112690e-09  5.089939e-09  9.77e-10\n",
      "869  0.87  4.022211e-09  4.979183e-09  9.57e-10\n",
      "870  0.87  3.933722e-09  4.870837e-09  9.37e-10\n",
      "871  0.87  3.847180e-09  4.764849e-09  9.18e-10\n",
      "872  0.87  3.762542e-09  4.661167e-09  8.99e-10\n",
      "873  0.87  3.679766e-09  4.559741e-09  8.80e-10\n",
      "874  0.87  3.598811e-09  4.460522e-09  8.62e-10\n",
      "875  0.88  3.519638e-09  4.363462e-09  8.44e-10\n",
      "876  0.88  3.442205e-09  4.268514e-09  8.26e-10\n",
      "877  0.88  3.366477e-09  4.175632e-09  8.09e-10\n",
      "878  0.88  3.292414e-09  4.084772e-09  7.92e-10\n",
      "879  0.88  3.219981e-09  3.995888e-09  7.76e-10\n",
      "880  0.88  3.149142e-09  3.908938e-09  7.60e-10\n",
      "881  0.88  3.079861e-09  3.823881e-09  7.44e-10\n",
      "882  0.88  3.012104e-09  3.740674e-09  7.29e-10\n",
      "883  0.88  2.945837e-09  3.659278e-09  7.13e-10\n",
      "884  0.88  2.881029e-09  3.579653e-09  6.99e-10\n",
      "885  0.89  2.817646e-09  3.501760e-09  6.84e-10\n",
      "886  0.89  2.755658e-09  3.425563e-09  6.70e-10\n",
      "887  0.89  2.695034e-09  3.351024e-09  6.56e-10\n",
      "888  0.89  2.635743e-09  3.278106e-09  6.42e-10\n",
      "889  0.89  2.577757e-09  3.206775e-09  6.29e-10\n",
      "890  0.89  2.521046e-09  3.136997e-09  6.16e-10\n",
      "891  0.89  2.465583e-09  3.068736e-09  6.03e-10\n",
      "892  0.89  2.411340e-09  3.001961e-09  5.91e-10\n",
      "893  0.89  2.358291e-09  2.936639e-09  5.78e-10\n",
      "894  0.89  2.306408e-09  2.872739e-09  5.66e-10\n",
      "895  0.90  2.255667e-09  2.810229e-09  5.55e-10\n",
      "896  0.90  2.206043e-09  2.749079e-09  5.43e-10\n",
      "897  0.90  2.157510e-09  2.689259e-09  5.32e-10\n",
      "898  0.90  2.110044e-09  2.630742e-09  5.21e-10\n",
      "899  0.90  2.063623e-09  2.573497e-09  5.10e-10\n",
      "900  0.90  2.018224e-09  2.517499e-09  4.99e-10\n",
      "901  0.90  1.973823e-09  2.462719e-09  4.89e-10\n",
      "902  0.90  1.930399e-09  2.409130e-09  4.79e-10\n",
      "903  0.90  1.887930e-09  2.356708e-09  4.69e-10\n",
      "904  0.90  1.846395e-09  2.305427e-09  4.59e-10\n",
      "905  0.91  1.805775e-09  2.255261e-09  4.49e-10\n",
      "906  0.91  1.766048e-09  2.206187e-09  4.40e-10\n",
      "907  0.91  1.727195e-09  2.158181e-09  4.31e-10\n",
      "908  0.91  1.689196e-09  2.111220e-09  4.22e-10\n",
      "909  0.91  1.652034e-09  2.065280e-09  4.13e-10\n",
      "910  0.91  1.615689e-09  2.020340e-09  4.05e-10\n",
      "911  0.91  1.580144e-09  1.976378e-09  3.96e-10\n",
      "912  0.91  1.545381e-09  1.933372e-09  3.88e-10\n",
      "913  0.91  1.511383e-09  1.891303e-09  3.80e-10\n",
      "914  0.91  1.478132e-09  1.850148e-09  3.72e-10\n",
      "915  0.92  1.445613e-09  1.809890e-09  3.64e-10\n",
      "916  0.92  1.413810e-09  1.770507e-09  3.57e-10\n",
      "917  0.92  1.382706e-09  1.731981e-09  3.49e-10\n",
      "918  0.92  1.352286e-09  1.694293e-09  3.42e-10\n",
      "919  0.92  1.322536e-09  1.657426e-09  3.35e-10\n",
      "920  0.92  1.293440e-09  1.621361e-09  3.28e-10\n",
      "921  0.92  1.264985e-09  1.586080e-09  3.21e-10\n",
      "922  0.92  1.237155e-09  1.551568e-09  3.14e-10\n",
      "923  0.92  1.209938e-09  1.517806e-09  3.08e-10\n",
      "924  0.92  1.183319e-09  1.484779e-09  3.01e-10\n",
      "925  0.93  1.157286e-09  1.452470e-09  2.95e-10\n",
      "926  0.93  1.131826e-09  1.420865e-09  2.89e-10\n",
      "927  0.93  1.106925e-09  1.389947e-09  2.83e-10\n",
      "928  0.93  1.082573e-09  1.359702e-09  2.77e-10\n",
      "929  0.93  1.058757e-09  1.330116e-09  2.71e-10\n",
      "930  0.93  1.035464e-09  1.301173e-09  2.66e-10\n",
      "931  0.93  1.012684e-09  1.272859e-09  2.60e-10\n",
      "932  0.93  9.904046e-10  1.245162e-09  2.55e-10\n",
      "933  0.93  9.686157e-10  1.218068e-09  2.49e-10\n",
      "934  0.93  9.473062e-10  1.191563e-09  2.44e-10\n",
      "935  0.94  9.264654e-10  1.165635e-09  2.39e-10\n",
      "936  0.94  9.060832e-10  1.140271e-09  2.34e-10\n",
      "937  0.94  8.861494e-10  1.115459e-09  2.29e-10\n",
      "938  0.94  8.666541e-10  1.091187e-09  2.25e-10\n",
      "939  0.94  8.475877e-10  1.067443e-09  2.20e-10\n",
      "940  0.94  8.289408e-10  1.044215e-09  2.15e-10\n",
      "941  0.94  8.107041e-10  1.021494e-09  2.11e-10\n",
      "942  0.94  7.928686e-10  9.992661e-10  2.06e-10\n",
      "943  0.94  7.754255e-10  9.775223e-10  2.02e-10\n",
      "944  0.94  7.583661e-10  9.562517e-10  1.98e-10\n",
      "945  0.95  7.416821e-10  9.354438e-10  1.94e-10\n",
      "946  0.95  7.253651e-10  9.150888e-10  1.90e-10\n",
      "947  0.95  7.094070e-10  8.951767e-10  1.86e-10\n",
      "948  0.95  6.938001e-10  8.756979e-10  1.82e-10\n",
      "949  0.95  6.785365e-10  8.566429e-10  1.78e-10\n",
      "950  0.95  6.636087e-10  8.380025e-10  1.74e-10\n",
      "951  0.95  6.490093e-10  8.197678e-10  1.71e-10\n",
      "952  0.95  6.347311e-10  8.019298e-10  1.67e-10\n",
      "953  0.95  6.207670e-10  7.844800e-10  1.64e-10\n",
      "954  0.95  6.071101e-10  7.674099e-10  1.60e-10\n",
      "955  0.96  5.937537e-10  7.507113e-10  1.57e-10\n",
      "956  0.96  5.806911e-10  7.343760e-10  1.54e-10\n",
      "957  0.96  5.679159e-10  7.183961e-10  1.50e-10\n",
      "958  0.96  5.554218e-10  7.027640e-10  1.47e-10\n",
      "959  0.96  5.432025e-10  6.874720e-10  1.44e-10\n",
      "960  0.96  5.312520e-10  6.725128e-10  1.41e-10\n",
      "961  0.96  5.195645e-10  6.578791e-10  1.38e-10\n",
      "962  0.96  5.081341e-10  6.435638e-10  1.35e-10\n",
      "963  0.96  4.969551e-10  6.295600e-10  1.33e-10\n",
      "964  0.96  4.860221e-10  6.158609e-10  1.30e-10\n",
      "965  0.96  4.753296e-10  6.024599e-10  1.27e-10\n",
      "966  0.97  4.648724e-10  5.893505e-10  1.24e-10\n",
      "967  0.97  4.546452e-10  5.765264e-10  1.22e-10\n",
      "968  0.97  4.446430e-10  5.639813e-10  1.19e-10\n",
      "969  0.97  4.348608e-10  5.517092e-10  1.17e-10\n",
      "970  0.97  4.252939e-10  5.397041e-10  1.14e-10\n",
      "971  0.97  4.159374e-10  5.279603e-10  1.12e-10\n",
      "972  0.97  4.067868e-10  5.164720e-10  1.10e-10\n",
      "973  0.97  3.978375e-10  5.052337e-10  1.07e-10\n",
      "974  0.97  3.890851e-10  4.942399e-10  1.05e-10\n",
      "975  0.97  3.805252e-10  4.834854e-10  1.03e-10\n",
      "976  0.98  3.721536e-10  4.729649e-10  1.01e-10\n",
      "977  0.98  3.639663e-10  4.626733e-10  9.87e-11\n",
      "978  0.98  3.559590e-10  4.526056e-10  9.66e-11\n",
      "979  0.98  3.481279e-10  4.427570e-10  9.46e-11\n",
      "980  0.98  3.404691e-10  4.331227e-10  9.27e-11\n",
      "981  0.98  3.329788e-10  4.236981e-10  9.07e-11\n",
      "982  0.98  3.256532e-10  4.144785e-10  8.88e-11\n",
      "983  0.98  3.184889e-10  4.054596e-10  8.70e-11\n",
      "984  0.98  3.114821e-10  3.966368e-10  8.52e-11\n",
      "985  0.98  3.046295e-10  3.880061e-10  8.34e-11\n",
      "986  0.99  2.979277e-10  3.795632e-10  8.16e-11\n",
      "987  0.99  2.913732e-10  3.713040e-10  7.99e-11\n",
      "988  0.99  2.849630e-10  3.632245e-10  7.83e-11\n",
      "989  0.99  2.786938e-10  3.553208e-10  7.66e-11\n",
      "990  0.99  2.725626e-10  3.475891e-10  7.50e-11\n",
      "991  0.99  2.665662e-10  3.400257e-10  7.35e-11\n",
      "992  0.99  2.607018e-10  3.326268e-10  7.19e-11\n",
      "993  0.99  2.549663e-10  3.253889e-10  7.04e-11\n",
      "994  0.99  2.493571e-10  3.183085e-10  6.90e-11\n",
      "995  0.99  2.438712e-10  3.113822e-10  6.75e-11\n",
      "996  1.00  2.385060e-10  3.046066e-10  6.61e-11\n",
      "997  1.00  2.332589e-10  2.979784e-10  6.47e-11\n",
      "998  1.00  2.281272e-10  2.914945e-10  6.34e-11\n",
      "999  1.00  2.231084e-10  2.851516e-10  6.20e-11\n",
      "1000  1.00  2.182000e-10  2.789468e-10  6.07e-11\n"
     ]
    },
    {
     "data": {
      "text/plain": [
       "2.182000207747882e-10"
      ]
     },
     "execution_count": 8,
     "metadata": {},
     "output_type": "execute_result"
    }
   ],
   "source": [
    "eulerexp(1000)"
   ]
  },
  {
   "cell_type": "markdown",
   "id": "327703ad",
   "metadata": {},
   "source": [
    "While the error is small, observe that the exact value is just as small ...  With 1000 steps, Euler's method manages only to keep up with the rapid decay of the solution."
   ]
  },
  {
   "cell_type": "markdown",
   "id": "059d80d2",
   "metadata": {},
   "source": [
    "2. As the long term behavior is decaying, the computed solution must decay as well. \n",
    "\n",
    "The condition on the step size is then $|1 - 22h| < 1$ or $-1 < 1 - 22h < 1$ or $-2 < -22h < 0$, or $2 > 22h > 0$.\n",
    "\n",
    "So $h < 2/22$."
   ]
  },
  {
   "cell_type": "markdown",
   "id": "b1b1f5e9",
   "metadata": {},
   "source": [
    "# Question 4"
   ]
  },
  {
   "cell_type": "markdown",
   "id": "8ec8739d",
   "metadata": {},
   "source": [
    "Consider the implicit two step method\n",
    "\n",
    "$$\n",
    "   y_{n+1} = \\frac{4}{3} y_n - \\frac{1}{3} y_{n-1}\n",
    "           + \\frac{h}{9} \\left(  \\vphantom{\\frac{h}{9}}\n",
    "             4 f_{n+1} + 4 f_n - 2 f_{n-1} \\right),\n",
    "   \\quad n = 0,1, \\ldots\n",
    "$$\n",
    "\n",
    "to solve an initial value problem.\n",
    "\n",
    "1. Is this method stable?  Justify.\n",
    "\n",
    "2. If stable, is this method weakly or strongly stable?  Justify."
   ]
  },
  {
   "cell_type": "markdown",
   "id": "17179a05",
   "metadata": {},
   "source": [
    "### Answer to Question 4"
   ]
  },
  {
   "cell_type": "markdown",
   "id": "9d166efb",
   "metadata": {},
   "source": [
    "1. We setup the characteristic equation to solve with SymPy."
   ]
  },
  {
   "cell_type": "code",
   "execution_count": 1,
   "id": "b8368637",
   "metadata": {},
   "outputs": [
    {
     "data": {
      "text/latex": [
       "$\\left[ \\begin{array}{r}0.333333333333333\\\\1.0\\end{array} \\right]$\n"
      ],
      "text/plain": [
       "2-element Vector{Sym}:\n",
       " 0.333333333333333\n",
       "  1.00000000000000"
      ]
     },
     "execution_count": 1,
     "metadata": {},
     "output_type": "execute_result"
    }
   ],
   "source": [
    "using SymPy\n",
    "x = Sym(\"x\")\n",
    "p = x^2 -4/3*x + 1/3\n",
    "s = solve(p,x)"
   ]
  },
  {
   "cell_type": "markdown",
   "id": "146e38eb",
   "metadata": {},
   "source": [
    "As all roots are 1.0 or less, the method is stable."
   ]
  },
  {
   "cell_type": "markdown",
   "id": "ffe2d98e",
   "metadata": {},
   "source": [
    "2. The method is strongly stable, as there is only one root equal to 1.0."
   ]
  },
  {
   "cell_type": "markdown",
   "id": "c149e1b1",
   "metadata": {},
   "source": [
    "# Question 5"
   ]
  },
  {
   "cell_type": "markdown",
   "id": "cc11d641",
   "metadata": {},
   "source": [
    "Consider the boundary value problem over $[0, 1]$:\n",
    "\n",
    "$$\n",
    "   \\frac{d^2 y}{d x^2} = 12 x^2 - 18 x,\n",
    "   \\quad y(0) = 0, \\quad y(1) = 1.\n",
    "$$\n",
    "\n",
    "1. Write this problem as a system of two first order equations.\n",
    "\n",
    "\n",
    "2. Apply shooting to this problem using as input:\n",
    "\n",
    "   1. The first guess 1 for $y'(0)$ gives $-1$ for $y(1)$.\n",
    "\n",
    "   2. The second guess 2 for $y'(0)$ gives $0$ for $y(1)$.\n",
    "\n",
    "   Compute your next guess for $y'(0)$.\n",
    "\n",
    "\n",
    "3. What can you say about the correctness of your next guess?"
   ]
  },
  {
   "cell_type": "markdown",
   "id": "22d329fa",
   "metadata": {},
   "source": [
    "### Answer to Question 5"
   ]
  },
  {
   "cell_type": "markdown",
   "id": "a972468b",
   "metadata": {},
   "source": [
    "1. For the system of two first order equations, we set $y_1 = y$ and $y_2 = y'  = y'_1$.  Then $y'' = y'_2$.\n",
    "\n",
    "$$\n",
    "    y'_1 = y_2\n",
    "$$\n",
    "\n",
    "$$\n",
    "    y'_2 = 12 x^2 - 18 x\n",
    "$$"
   ]
  },
  {
   "cell_type": "markdown",
   "id": "f536f455",
   "metadata": {},
   "source": [
    "2. Apply Lagrange interpolation for the data $(1,-1)$ and $(2,0)$.  Then we solve $p(z) = 1$, where $p$ is the interpolating polynomial."
   ]
  },
  {
   "cell_type": "code",
   "execution_count": 18,
   "id": "aa058228",
   "metadata": {},
   "outputs": [
    {
     "data": {
      "text/latex": [
       "$z - 2$"
      ],
      "text/plain": [
       "z - 2"
      ]
     },
     "execution_count": 18,
     "metadata": {},
     "output_type": "execute_result"
    }
   ],
   "source": [
    "using SymPy\n",
    "z = Sym(\"z\")\n",
    "p = ((z-2)/(1-2))*(-1) + ((z - 1)/(2 - 1))*0"
   ]
  },
  {
   "cell_type": "markdown",
   "id": "ccf5d8c9",
   "metadata": {},
   "source": [
    "We see immediately that $p(1) = -1$ and $p(2) = 0$, so the interpolation conditions are satisfied."
   ]
  },
  {
   "cell_type": "code",
   "execution_count": 19,
   "id": "b85c7908",
   "metadata": {},
   "outputs": [
    {
     "data": {
      "text/latex": [
       "$\\left[ \\begin{array}{r}3\\end{array} \\right]$\n"
      ],
      "text/plain": [
       "1-element Vector{Sym}:\n",
       " 3"
      ]
     },
     "execution_count": 19,
     "metadata": {},
     "output_type": "execute_result"
    }
   ],
   "source": [
    "solve(p-1,z)"
   ]
  },
  {
   "cell_type": "markdown",
   "id": "87d9d8d2",
   "metadata": {},
   "source": [
    "The next guess for $y'(1) = 3$."
   ]
  },
  {
   "cell_type": "markdown",
   "id": "f055e08d",
   "metadata": {},
   "source": [
    "3. The problem is linear, so the next guess is correct."
   ]
  },
  {
   "cell_type": "markdown",
   "id": "30e32d25",
   "metadata": {},
   "source": []
  }
 ],
 "metadata": {
  "kernelspec": {
   "display_name": "Julia 1.8.0",
   "language": "julia",
   "name": "julia-1.8"
  },
  "language_info": {
   "file_extension": ".jl",
   "mimetype": "application/julia",
   "name": "julia",
   "version": "1.8.0"
  }
 },
 "nbformat": 4,
 "nbformat_minor": 5
}
